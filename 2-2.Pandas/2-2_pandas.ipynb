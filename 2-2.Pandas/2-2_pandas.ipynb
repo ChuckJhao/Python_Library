{
 "cells": [
  {
   "cell_type": "markdown",
   "metadata": {},
   "source": [
    "# 生成一維陣列Series(index)"
   ]
  },
  {
   "cell_type": "code",
   "execution_count": 1,
   "metadata": {},
   "outputs": [],
   "source": [
    "import pandas as pd\n",
    "import numpy as np"
   ]
  },
  {
   "cell_type": "code",
   "execution_count": 2,
   "metadata": {},
   "outputs": [
    {
     "name": "stdout",
     "output_type": "stream",
     "text": [
      "0    1.0\n",
      "1    3.0\n",
      "2    5.0\n",
      "3    NaN\n",
      "dtype: float64\n"
     ]
    }
   ],
   "source": [
    "import pandas as pd\n",
    "import numpy as np\n",
    "\n",
    "s = pd.Series([1,3,5, np.nan])\n",
    "print(s)"
   ]
  },
  {
   "cell_type": "code",
   "execution_count": 3,
   "metadata": {},
   "outputs": [
    {
     "name": "stdout",
     "output_type": "stream",
     "text": [
      "0    1.0\n",
      "1    3.0\n",
      "2    5.0\n",
      "3    NaN\n",
      "4    7.0\n",
      "5    8.0\n",
      "6    9.0\n",
      "dtype: float64\n"
     ]
    }
   ],
   "source": [
    "import pandas as pd\n",
    "import numpy as np\n",
    "\n",
    "s = pd.Series([1,3,5, np.nan, 7,8,9])\n",
    "print(s)"
   ]
  },
  {
   "cell_type": "code",
   "execution_count": 4,
   "metadata": {},
   "outputs": [
    {
     "name": "stdout",
     "output_type": "stream",
     "text": [
      "A    1.0\n",
      "B    3.0\n",
      "C    5.0\n",
      "D    NaN\n",
      "dtype: float64\n",
      "[ 1.  3.  5. nan]\n",
      "3.0\n",
      "3.0\n"
     ]
    }
   ],
   "source": [
    "x = pd.Series([1,3,5, np.nan], index=['A', 'B', 'C', 'D'])\n",
    "print(x)\n",
    "print(x.values)   # [ 1.  3.  5. nan]\n",
    "print(x['B'])\n",
    "print(x[1])"
   ]
  },
  {
   "cell_type": "code",
   "execution_count": null,
   "metadata": {},
   "outputs": [],
   "source": []
  },
  {
   "cell_type": "markdown",
   "metadata": {},
   "source": [
    "# Pandas DataFrame "
   ]
  },
  {
   "cell_type": "code",
   "execution_count": 5,
   "metadata": {},
   "outputs": [
    {
     "name": "stdout",
     "output_type": "stream",
     "text": [
      "0    1.0\n",
      "1    3.0\n",
      "2    5.0\n",
      "3    NaN\n",
      "4    7.0\n",
      "5    8.0\n",
      "6    9.0\n",
      "dtype: float64\n",
      "[1.0, 3.0, 5.0, nan, 7.0, 8.0, 9.0]\n"
     ]
    }
   ],
   "source": [
    "# 將Series轉成 list\n",
    "import pandas as pd\n",
    "import numpy as np\n",
    "\n",
    "s = pd.Series([1,3,5, np.nan, 7,8,9])\n",
    "print(s)\n",
    "\n",
    "print(s.tolist())"
   ]
  },
  {
   "cell_type": "code",
   "execution_count": 6,
   "metadata": {},
   "outputs": [
    {
     "name": "stdout",
     "output_type": "stream",
     "text": [
      "0    1.0\n",
      "1    3.0\n",
      "2    5.0\n",
      "3    NaN\n",
      "4    7.0\n",
      "5    8.0\n",
      "6    9.0\n",
      "dtype: float64\n",
      "(7,)\n"
     ]
    }
   ],
   "source": [
    "# 將Series轉成 list\n",
    "import pandas as pd\n",
    "import numpy as np\n",
    "\n",
    "s = pd.Series([1,3,5, np.nan, 7,8,9])\n",
    "print(s)\n",
    "\n",
    "print(s.shape)"
   ]
  },
  {
   "cell_type": "markdown",
   "metadata": {},
   "source": [
    "# (2)生成二維陣列DataFrame"
   ]
  },
  {
   "cell_type": "code",
   "execution_count": 7,
   "metadata": {
    "scrolled": false
   },
   "outputs": [
    {
     "name": "stdout",
     "output_type": "stream",
     "text": [
      "DatetimeIndex(['2013-01-01', '2013-01-02', '2013-01-03', '2013-01-04',\n",
      "               '2013-01-05', '2013-01-06', '2013-01-07', '2013-01-08',\n",
      "               '2013-01-09', '2013-01-10',\n",
      "               ...\n",
      "               '2013-12-22', '2013-12-23', '2013-12-24', '2013-12-25',\n",
      "               '2013-12-26', '2013-12-27', '2013-12-28', '2013-12-29',\n",
      "               '2013-12-30', '2013-12-31'],\n",
      "              dtype='datetime64[ns]', length=365, freq='D')\n"
     ]
    }
   ],
   "source": [
    "import pandas as pd\n",
    "import numpy as np\n",
    "\n",
    "dates = pd.date_range(start='20130101', end='20131231', freq='D')\n",
    "print(dates)"
   ]
  },
  {
   "cell_type": "code",
   "execution_count": 8,
   "metadata": {},
   "outputs": [
    {
     "name": "stdout",
     "output_type": "stream",
     "text": [
      "DatetimeIndex(['2013-01-01', '2013-01-02', '2013-01-03', '2013-01-04',\n",
      "               '2013-01-05', '2013-01-06', '2013-01-07'],\n",
      "              dtype='datetime64[ns]', freq='D')\n"
     ]
    }
   ],
   "source": [
    "dates = pd.date_range('20130101', periods=7)\n",
    "print(dates)"
   ]
  },
  {
   "cell_type": "code",
   "execution_count": 9,
   "metadata": {},
   "outputs": [
    {
     "name": "stdout",
     "output_type": "stream",
     "text": [
      "DatetimeIndex(['2013-01-06', '2013-01-13', '2013-01-20', '2013-01-27',\n",
      "               '2013-02-03', '2013-02-10', '2013-02-17'],\n",
      "              dtype='datetime64[ns]', freq='W-SUN')\n"
     ]
    }
   ],
   "source": [
    "dates = pd.date_range('20130101', periods=7, freq='w')\n",
    "print(dates)"
   ]
  },
  {
   "cell_type": "code",
   "execution_count": null,
   "metadata": {},
   "outputs": [],
   "source": []
  },
  {
   "cell_type": "markdown",
   "metadata": {},
   "source": [
    "# 生成二維陣列DataFrame"
   ]
  },
  {
   "cell_type": "code",
   "execution_count": 10,
   "metadata": {
    "scrolled": true
   },
   "outputs": [
    {
     "data": {
      "text/html": [
       "<div>\n",
       "<style scoped>\n",
       "    .dataframe tbody tr th:only-of-type {\n",
       "        vertical-align: middle;\n",
       "    }\n",
       "\n",
       "    .dataframe tbody tr th {\n",
       "        vertical-align: top;\n",
       "    }\n",
       "\n",
       "    .dataframe thead th {\n",
       "        text-align: right;\n",
       "    }\n",
       "</style>\n",
       "<table border=\"1\" class=\"dataframe\">\n",
       "  <thead>\n",
       "    <tr style=\"text-align: right;\">\n",
       "      <th></th>\n",
       "      <th>A</th>\n",
       "      <th>B</th>\n",
       "      <th>C</th>\n",
       "      <th>D</th>\n",
       "    </tr>\n",
       "  </thead>\n",
       "  <tbody>\n",
       "    <tr>\n",
       "      <th>2013-01-01</th>\n",
       "      <td>-0.726387</td>\n",
       "      <td>0.099091</td>\n",
       "      <td>0.539453</td>\n",
       "      <td>0.310115</td>\n",
       "    </tr>\n",
       "    <tr>\n",
       "      <th>2013-01-02</th>\n",
       "      <td>-0.108282</td>\n",
       "      <td>0.210055</td>\n",
       "      <td>1.070403</td>\n",
       "      <td>-0.394125</td>\n",
       "    </tr>\n",
       "    <tr>\n",
       "      <th>2013-01-03</th>\n",
       "      <td>2.541490</td>\n",
       "      <td>-0.000580</td>\n",
       "      <td>-0.851344</td>\n",
       "      <td>-0.574898</td>\n",
       "    </tr>\n",
       "    <tr>\n",
       "      <th>2013-01-04</th>\n",
       "      <td>0.137046</td>\n",
       "      <td>-0.705980</td>\n",
       "      <td>-0.281015</td>\n",
       "      <td>0.350627</td>\n",
       "    </tr>\n",
       "    <tr>\n",
       "      <th>2013-01-05</th>\n",
       "      <td>-2.519649</td>\n",
       "      <td>-1.754241</td>\n",
       "      <td>-0.631436</td>\n",
       "      <td>1.669853</td>\n",
       "    </tr>\n",
       "    <tr>\n",
       "      <th>2013-01-06</th>\n",
       "      <td>-0.694527</td>\n",
       "      <td>-0.858202</td>\n",
       "      <td>-0.945778</td>\n",
       "      <td>-0.559481</td>\n",
       "    </tr>\n",
       "    <tr>\n",
       "      <th>2013-01-07</th>\n",
       "      <td>-2.049419</td>\n",
       "      <td>0.037576</td>\n",
       "      <td>2.500677</td>\n",
       "      <td>0.486291</td>\n",
       "    </tr>\n",
       "  </tbody>\n",
       "</table>\n",
       "</div>"
      ],
      "text/plain": [
       "                   A         B         C         D\n",
       "2013-01-01 -0.726387  0.099091  0.539453  0.310115\n",
       "2013-01-02 -0.108282  0.210055  1.070403 -0.394125\n",
       "2013-01-03  2.541490 -0.000580 -0.851344 -0.574898\n",
       "2013-01-04  0.137046 -0.705980 -0.281015  0.350627\n",
       "2013-01-05 -2.519649 -1.754241 -0.631436  1.669853\n",
       "2013-01-06 -0.694527 -0.858202 -0.945778 -0.559481\n",
       "2013-01-07 -2.049419  0.037576  2.500677  0.486291"
      ]
     },
     "execution_count": 10,
     "metadata": {},
     "output_type": "execute_result"
    }
   ],
   "source": [
    "import pandas as pd\n",
    "import numpy as np\n",
    "\n",
    "dates = pd.date_range('20130101', periods=7)\n",
    "\n",
    "df = pd.DataFrame(np.random.randn(7,4), index=dates, columns=list('ABCD'))\n",
    "df"
   ]
  },
  {
   "cell_type": "code",
   "execution_count": 11,
   "metadata": {
    "scrolled": true
   },
   "outputs": [
    {
     "name": "stdout",
     "output_type": "stream",
     "text": [
      "                   A         B         C         D\n",
      "2013-01-01  1.672049 -0.579139  1.246980 -1.172839\n",
      "2013-01-02  1.522785  0.700016 -0.182397 -1.258423\n",
      "2013-01-03 -1.047071  1.616968  0.879459 -0.224207\n",
      "2013-01-04 -0.806583  2.213831  0.569365 -0.669398\n",
      "2013-01-05  0.816562  1.097174  1.443825 -0.615638\n",
      "2013-01-06  1.243233 -0.900562 -1.410227 -0.613372\n",
      "2013-01-07 -1.443343 -0.682050  0.565295  0.132964\n"
     ]
    },
    {
     "data": {
      "text/plain": [
       "2013-01-01    1.672049\n",
       "2013-01-02    1.522785\n",
       "2013-01-03   -1.047071\n",
       "2013-01-04   -0.806583\n",
       "2013-01-05    0.816562\n",
       "2013-01-06    1.243233\n",
       "2013-01-07   -1.443343\n",
       "Freq: D, Name: A, dtype: float64"
      ]
     },
     "execution_count": 11,
     "metadata": {},
     "output_type": "execute_result"
    }
   ],
   "source": [
    "import pandas as pd\n",
    "import numpy as np\n",
    "\n",
    "dates = pd.date_range('20130101', periods=7)\n",
    "\n",
    "df = pd.DataFrame(np.random.randn(7,4), index=dates, columns=list('ABCD'))\n",
    "print(df)\n",
    "df['A']"
   ]
  },
  {
   "cell_type": "code",
   "execution_count": null,
   "metadata": {},
   "outputs": [],
   "source": []
  },
  {
   "cell_type": "markdown",
   "metadata": {},
   "source": [
    "# 生成二維陣列DataFrame - python dict結構"
   ]
  },
  {
   "cell_type": "code",
   "execution_count": 12,
   "metadata": {},
   "outputs": [
    {
     "name": "stdout",
     "output_type": "stream",
     "text": [
      "     A          B    C  D      E    F\n",
      "0  1.0 2013-01-02  1.0  3   test  foo\n",
      "1  1.0 2013-01-02  1.0  3  train  foo\n",
      "2  1.0 2013-01-02  1.0  3   test  foo\n",
      "3  1.0 2013-01-02  1.0  3  train  foo\n"
     ]
    }
   ],
   "source": [
    "import pandas as pd\n",
    "import numpy as np\n",
    "\n",
    "df2 = pd.DataFrame({ 'A' : 1.,\n",
    "    'B' : pd.Timestamp('20130102'),\n",
    "    'C' : pd.Series(1,index=list(range(4)),dtype='float32'),\n",
    "    'D' : np.array([3] * 4,dtype='int32'),\n",
    "    'E' : pd.Categorical([\"test\",\"train\",\"test\",\"train\"]),\n",
    "    'F' : 'foo' })\n",
    "\n",
    "print(df2)"
   ]
  },
  {
   "cell_type": "code",
   "execution_count": 13,
   "metadata": {},
   "outputs": [
    {
     "name": "stdout",
     "output_type": "stream",
     "text": [
      "     A          B    C  D      E    F\n",
      "0  1.0 2013-01-02  2.0  1   test  foo\n",
      "1  2.0 2013-01-02  2.0  2  train  foo\n",
      "2  3.0 2013-01-02  2.0  3   test  foo\n",
      "3  4.0 2013-01-02  2.0  4  train  foo\n"
     ]
    }
   ],
   "source": [
    "import pandas as pd\n",
    "import numpy as np\n",
    "\n",
    "df2 = pd.DataFrame({ 'A' : [1.0, 2.0, 3.0, 4.0],\n",
    "    'B' : pd.Timestamp('20130102'),\n",
    "    'C' : pd.Series(2, index=list(range(4)),dtype='float32'),\n",
    "    'D' : np.array([1, 2, 3, 4],dtype='int32'),\n",
    "    'E' : pd.Categorical([\"test\",\"train\",\"test\",\"train\"]),\n",
    "    'F' : 'foo' })\n",
    "\n",
    "print(df2)"
   ]
  },
  {
   "cell_type": "code",
   "execution_count": 14,
   "metadata": {},
   "outputs": [
    {
     "data": {
      "text/plain": [
       "A           float64\n",
       "B    datetime64[ns]\n",
       "C           float32\n",
       "D             int32\n",
       "E          category\n",
       "F            object\n",
       "dtype: object"
      ]
     },
     "execution_count": 14,
     "metadata": {},
     "output_type": "execute_result"
    }
   ],
   "source": [
    "df2.dtypes"
   ]
  },
  {
   "cell_type": "markdown",
   "metadata": {},
   "source": [
    "# 生成二維陣列DataFrame - part 2 (merge)"
   ]
  },
  {
   "cell_type": "code",
   "execution_count": 15,
   "metadata": {},
   "outputs": [
    {
     "name": "stdout",
     "output_type": "stream",
     "text": [
      "   A  B\n",
      "0  1  2\n",
      "1  3  4\n",
      "------------\n",
      "   A  B\n",
      "0  5  6\n",
      "1  7  8\n"
     ]
    }
   ],
   "source": [
    "# merge two dataframe using append\n",
    "df1 = pd.DataFrame([[1, 2], [3, 4]], columns=list('AB'))\n",
    "df2 = pd.DataFrame([[5, 6], [7, 8]], columns=list('AB'))\n",
    "\n",
    "print(df1)\n",
    "print('------------')\n",
    "print(df2)"
   ]
  },
  {
   "cell_type": "code",
   "execution_count": 16,
   "metadata": {},
   "outputs": [
    {
     "name": "stdout",
     "output_type": "stream",
     "text": [
      "   A  B\n",
      "0  1  2\n",
      "1  3  4\n",
      "2  5  6\n",
      "3  7  8\n"
     ]
    }
   ],
   "source": [
    "# merge two dataframe using append\n",
    "df1 = pd.DataFrame([[1, 2], [3, 4]], columns=list('AB'))\n",
    "df2 = pd.DataFrame([[5, 6], [7, 8]], columns=list('AB'))\n",
    "\n",
    "df3=df1.append(df2,ignore_index=True) # ignore_index=True ->合併index\n",
    "print(df3)"
   ]
  },
  {
   "cell_type": "code",
   "execution_count": 17,
   "metadata": {},
   "outputs": [
    {
     "name": "stdout",
     "output_type": "stream",
     "text": [
      "   A  B\n",
      "0  1  2\n",
      "1  3  4\n",
      "0  5  6\n",
      "1  7  8\n"
     ]
    }
   ],
   "source": [
    "# merge two dataframe using append\n",
    "df1 = pd.DataFrame([[1, 2], [3, 4]], columns=list('AB'))\n",
    "df2 = pd.DataFrame([[5, 6], [7, 8]], columns=list('AB'))\n",
    "\n",
    "df3=df1.append(df2,ignore_index=False) # ignore_index=False ->未合併index\n",
    "print(df3)"
   ]
  },
  {
   "cell_type": "code",
   "execution_count": 18,
   "metadata": {},
   "outputs": [
    {
     "name": "stdout",
     "output_type": "stream",
     "text": [
      "   A  B\n",
      "0  1  2\n",
      "1  3  4\n",
      "2  5  6\n",
      "3  7  8\n",
      "(4, 2)\n",
      "Index(['A', 'B'], dtype='object')\n"
     ]
    }
   ],
   "source": [
    "# merge two dataframe using append\n",
    "df1 = pd.DataFrame([[1, 2], [3, 4]], columns=list('AB'))\n",
    "df2 = pd.DataFrame([[5, 6], [7, 8]], columns=list('AB'))\n",
    "df3=df1.append(df2,ignore_index=True)\n",
    "print(df3)\n",
    "\n",
    "print(df3.shape)\n",
    "print(df3.columns)"
   ]
  },
  {
   "cell_type": "code",
   "execution_count": 19,
   "metadata": {},
   "outputs": [
    {
     "name": "stdout",
     "output_type": "stream",
     "text": [
      "   A  B\n",
      "0  1  2\n",
      "1  3  4\n",
      "2  5  6\n",
      "3  7  8\n",
      "------------\n",
      "0    2\n",
      "1    4\n",
      "2    6\n",
      "3    8\n",
      "Name: B, dtype: int64\n",
      "------------\n",
      "0    1\n",
      "1    3\n",
      "2    5\n",
      "3    7\n",
      "Name: A, dtype: int64\n"
     ]
    }
   ],
   "source": [
    "# merge two dataframe using append\n",
    "df1 = pd.DataFrame([[1, 2], [3, 4]], columns=list('AB'))\n",
    "df2 = pd.DataFrame([[5, 6], [7, 8]], columns=list('AB'))\n",
    "df3=df1.append(df2,ignore_index=True)\n",
    "print(df3)\n",
    "\n",
    "print('------------')\n",
    "print(df3['B'])\n",
    "print('------------')\n",
    "print(df3['A'])\n"
   ]
  },
  {
   "cell_type": "markdown",
   "metadata": {},
   "source": [
    "# 生成二維陣列DataFrame - part 3"
   ]
  },
  {
   "cell_type": "code",
   "execution_count": 20,
   "metadata": {},
   "outputs": [
    {
     "name": "stdout",
     "output_type": "stream",
     "text": [
      "   a  b    c\n",
      "0  1  2  NaN\n",
      "1  3  4  5.0\n"
     ]
    }
   ],
   "source": [
    "#pandas datafreame format\n",
    "x = [{'a':1, 'b':2},{'a':3,'b':4,'c':5}]\n",
    "\n",
    "df=pd.DataFrame(x)\n",
    "print(df)"
   ]
  },
  {
   "cell_type": "code",
   "execution_count": 21,
   "metadata": {},
   "outputs": [
    {
     "name": "stdout",
     "output_type": "stream",
     "text": [
      "   a  b    c\n",
      "0  1  2  NaN\n",
      "1  3  4  5.0\n",
      "-----------------------\n",
      "0    2\n",
      "1    4\n",
      "Name: b, dtype: int64\n",
      "-----------------------\n",
      "   a  b    c   t0  t1\n",
      "0  1  2  NaN  100   0\n",
      "1  3  4  5.0  100   0\n"
     ]
    }
   ],
   "source": [
    "#pandas datafreame format\n",
    "x = [{'a':1, 'b':2},{'a':3,'b':4,'c':5}]\n",
    "\n",
    "df=pd.DataFrame(x)\n",
    "print(df)\n",
    "print('-----------------------')\n",
    "\n",
    "print(df['b'])\n",
    "print('-----------------------')\n",
    "\n",
    "df['t0']=100   # 新增欄位\n",
    "df['t1']=0\n",
    "print(df)"
   ]
  },
  {
   "cell_type": "markdown",
   "metadata": {},
   "source": [
    "# 生成二維陣列DataFrame - part 4"
   ]
  },
  {
   "cell_type": "markdown",
   "metadata": {},
   "source": [
    "# 動手做 -----------------------------------------------------"
   ]
  },
  {
   "cell_type": "markdown",
   "metadata": {},
   "source": [
    "#### 題目: 將以下資料，以dict方式生成二維陣列\n",
    "* 範例:\n",
    " * output: "
   ]
  },
  {
   "cell_type": "markdown",
   "metadata": {},
   "source": [
    "| |國文|英文|總分|\n",
    "|---|---|---|---|\n",
    "|小美|100|60|160|\n",
    "|小華|95|85|180|\n",
    "|小明|74|100|174|"
   ]
  },
  {
   "cell_type": "code",
   "execution_count": 22,
   "metadata": {},
   "outputs": [
    {
     "name": "stdout",
     "output_type": "stream",
     "text": [
      "        國文   英文   總分\n",
      "0  小美  100   60  160\n",
      "1  小華   95   85  180\n",
      "2  小明   74  100  174\n"
     ]
    }
   ],
   "source": [
    "import pandas as pd\n",
    "import numpy as np\n",
    "\n",
    "df2 = pd.DataFrame({ \n",
    "    '' : ['小美', '小華', '小明'],\n",
    "    '國文' : [100, 95, 74],\n",
    "    '英文' : [60, 85, 100],\n",
    "    '總分' : [160, 180, 174],\n",
    "     })\n",
    "\n",
    "print(df2)"
   ]
  },
  {
   "cell_type": "code",
   "execution_count": 23,
   "metadata": {},
   "outputs": [
    {
     "name": "stdout",
     "output_type": "stream",
     "text": [
      "    國文   英文   總分\n",
      "0  100   60  160\n",
      "1   95   85  180\n",
      "2   74  100  174\n"
     ]
    }
   ],
   "source": [
    "import pandas as pd\n",
    "import numpy as np\n",
    "\n",
    "\n",
    "x = [{'國文': 100, '英文': 60, '總分': 160},{'國文':95, '英文':85, '總分':180},{'國文':74, '英文':100, '總分':174}\n",
    "      ]\n",
    "\n",
    "df=pd.DataFrame(x)\n",
    "\n",
    "print(df)\n"
   ]
  },
  {
   "cell_type": "markdown",
   "metadata": {},
   "source": [
    "# -------------------------------------------------end"
   ]
  },
  {
   "cell_type": "markdown",
   "metadata": {},
   "source": [
    "# 動手做 -----------------------------------------------------"
   ]
  },
  {
   "cell_type": "markdown",
   "metadata": {},
   "source": [
    "#### 題目: 將生成的二維陣列，經過設計，僅顯示國文的成績\n",
    "* 範例:\n",
    " * output: \n",
    "    * 小美    100\n",
    "    * 小華     95\n",
    "    * 小明     74"
   ]
  },
  {
   "cell_type": "code",
   "execution_count": 24,
   "metadata": {},
   "outputs": [
    {
     "name": "stdout",
     "output_type": "stream",
     "text": [
      "        國文   英文   總分\n",
      "0  小美  100   60  160\n",
      "1  小華   95   85  180\n",
      "2  小明   74  100  174\n",
      "-----------------------\n",
      "0    100\n",
      "1     95\n",
      "2     74\n",
      "Name: 國文, dtype: int64\n"
     ]
    }
   ],
   "source": [
    "import pandas as pd\n",
    "import numpy as np\n",
    "\n",
    "df2 = pd.DataFrame({ \n",
    "    '' : ['小美', '小華', '小明'],\n",
    "    '國文' : [100, 95, 74],\n",
    "    '英文' : [60, 85, 100],\n",
    "    '總分' : [160, 180, 174],\n",
    "     })\n",
    "\n",
    "print(df2)\n",
    "\n",
    "print('-----------------------')\n",
    "print(df2['國文'])"
   ]
  },
  {
   "cell_type": "markdown",
   "metadata": {},
   "source": [
    "# -------------------------------------------------end"
   ]
  },
  {
   "cell_type": "markdown",
   "metadata": {},
   "source": [
    "# (3) 二維數據查看"
   ]
  },
  {
   "cell_type": "code",
   "execution_count": 25,
   "metadata": {},
   "outputs": [
    {
     "data": {
      "text/html": [
       "<div>\n",
       "<style scoped>\n",
       "    .dataframe tbody tr th:only-of-type {\n",
       "        vertical-align: middle;\n",
       "    }\n",
       "\n",
       "    .dataframe tbody tr th {\n",
       "        vertical-align: top;\n",
       "    }\n",
       "\n",
       "    .dataframe thead th {\n",
       "        text-align: right;\n",
       "    }\n",
       "</style>\n",
       "<table border=\"1\" class=\"dataframe\">\n",
       "  <thead>\n",
       "    <tr style=\"text-align: right;\">\n",
       "      <th></th>\n",
       "      <th>A</th>\n",
       "      <th>B</th>\n",
       "      <th>C</th>\n",
       "      <th>D</th>\n",
       "    </tr>\n",
       "  </thead>\n",
       "  <tbody>\n",
       "    <tr>\n",
       "      <th>2013-01-01</th>\n",
       "      <td>0.236809</td>\n",
       "      <td>-0.824460</td>\n",
       "      <td>0.104699</td>\n",
       "      <td>-0.716196</td>\n",
       "    </tr>\n",
       "    <tr>\n",
       "      <th>2013-01-02</th>\n",
       "      <td>-0.103427</td>\n",
       "      <td>-0.847026</td>\n",
       "      <td>-0.350992</td>\n",
       "      <td>-0.788544</td>\n",
       "    </tr>\n",
       "    <tr>\n",
       "      <th>2013-01-03</th>\n",
       "      <td>1.521991</td>\n",
       "      <td>0.721926</td>\n",
       "      <td>0.588249</td>\n",
       "      <td>-1.901354</td>\n",
       "    </tr>\n",
       "    <tr>\n",
       "      <th>2013-01-04</th>\n",
       "      <td>-1.011292</td>\n",
       "      <td>1.235542</td>\n",
       "      <td>0.999500</td>\n",
       "      <td>0.919191</td>\n",
       "    </tr>\n",
       "    <tr>\n",
       "      <th>2013-01-05</th>\n",
       "      <td>-1.241338</td>\n",
       "      <td>0.063005</td>\n",
       "      <td>-1.182833</td>\n",
       "      <td>-0.141081</td>\n",
       "    </tr>\n",
       "  </tbody>\n",
       "</table>\n",
       "</div>"
      ],
      "text/plain": [
       "                   A         B         C         D\n",
       "2013-01-01  0.236809 -0.824460  0.104699 -0.716196\n",
       "2013-01-02 -0.103427 -0.847026 -0.350992 -0.788544\n",
       "2013-01-03  1.521991  0.721926  0.588249 -1.901354\n",
       "2013-01-04 -1.011292  1.235542  0.999500  0.919191\n",
       "2013-01-05 -1.241338  0.063005 -1.182833 -0.141081"
      ]
     },
     "execution_count": 25,
     "metadata": {},
     "output_type": "execute_result"
    }
   ],
   "source": [
    "dates = pd.date_range('20130101', periods=7)\n",
    "\n",
    "df = pd.DataFrame(np.random.randn(7,4), index=dates, columns=list('ABCD'))\n",
    "\n",
    "df.head()  # 預設顯示前5行"
   ]
  },
  {
   "cell_type": "code",
   "execution_count": 26,
   "metadata": {},
   "outputs": [
    {
     "data": {
      "text/html": [
       "<div>\n",
       "<style scoped>\n",
       "    .dataframe tbody tr th:only-of-type {\n",
       "        vertical-align: middle;\n",
       "    }\n",
       "\n",
       "    .dataframe tbody tr th {\n",
       "        vertical-align: top;\n",
       "    }\n",
       "\n",
       "    .dataframe thead th {\n",
       "        text-align: right;\n",
       "    }\n",
       "</style>\n",
       "<table border=\"1\" class=\"dataframe\">\n",
       "  <thead>\n",
       "    <tr style=\"text-align: right;\">\n",
       "      <th></th>\n",
       "      <th>A</th>\n",
       "      <th>B</th>\n",
       "      <th>C</th>\n",
       "      <th>D</th>\n",
       "    </tr>\n",
       "  </thead>\n",
       "  <tbody>\n",
       "    <tr>\n",
       "      <th>2013-01-01</th>\n",
       "      <td>0.236809</td>\n",
       "      <td>-0.824460</td>\n",
       "      <td>0.104699</td>\n",
       "      <td>-0.716196</td>\n",
       "    </tr>\n",
       "    <tr>\n",
       "      <th>2013-01-02</th>\n",
       "      <td>-0.103427</td>\n",
       "      <td>-0.847026</td>\n",
       "      <td>-0.350992</td>\n",
       "      <td>-0.788544</td>\n",
       "    </tr>\n",
       "    <tr>\n",
       "      <th>2013-01-03</th>\n",
       "      <td>1.521991</td>\n",
       "      <td>0.721926</td>\n",
       "      <td>0.588249</td>\n",
       "      <td>-1.901354</td>\n",
       "    </tr>\n",
       "  </tbody>\n",
       "</table>\n",
       "</div>"
      ],
      "text/plain": [
       "                   A         B         C         D\n",
       "2013-01-01  0.236809 -0.824460  0.104699 -0.716196\n",
       "2013-01-02 -0.103427 -0.847026 -0.350992 -0.788544\n",
       "2013-01-03  1.521991  0.721926  0.588249 -1.901354"
      ]
     },
     "execution_count": 26,
     "metadata": {},
     "output_type": "execute_result"
    }
   ],
   "source": [
    "df.head(3)"
   ]
  },
  {
   "cell_type": "code",
   "execution_count": 27,
   "metadata": {},
   "outputs": [
    {
     "data": {
      "text/html": [
       "<div>\n",
       "<style scoped>\n",
       "    .dataframe tbody tr th:only-of-type {\n",
       "        vertical-align: middle;\n",
       "    }\n",
       "\n",
       "    .dataframe tbody tr th {\n",
       "        vertical-align: top;\n",
       "    }\n",
       "\n",
       "    .dataframe thead th {\n",
       "        text-align: right;\n",
       "    }\n",
       "</style>\n",
       "<table border=\"1\" class=\"dataframe\">\n",
       "  <thead>\n",
       "    <tr style=\"text-align: right;\">\n",
       "      <th></th>\n",
       "      <th>A</th>\n",
       "      <th>B</th>\n",
       "      <th>C</th>\n",
       "      <th>D</th>\n",
       "    </tr>\n",
       "  </thead>\n",
       "  <tbody>\n",
       "    <tr>\n",
       "      <th>2013-01-05</th>\n",
       "      <td>-1.241338</td>\n",
       "      <td>0.063005</td>\n",
       "      <td>-1.182833</td>\n",
       "      <td>-0.141081</td>\n",
       "    </tr>\n",
       "    <tr>\n",
       "      <th>2013-01-06</th>\n",
       "      <td>0.204155</td>\n",
       "      <td>0.149636</td>\n",
       "      <td>-0.403410</td>\n",
       "      <td>0.075207</td>\n",
       "    </tr>\n",
       "    <tr>\n",
       "      <th>2013-01-07</th>\n",
       "      <td>-0.033954</td>\n",
       "      <td>0.356057</td>\n",
       "      <td>0.151908</td>\n",
       "      <td>-0.222295</td>\n",
       "    </tr>\n",
       "  </tbody>\n",
       "</table>\n",
       "</div>"
      ],
      "text/plain": [
       "                   A         B         C         D\n",
       "2013-01-05 -1.241338  0.063005 -1.182833 -0.141081\n",
       "2013-01-06  0.204155  0.149636 -0.403410  0.075207\n",
       "2013-01-07 -0.033954  0.356057  0.151908 -0.222295"
      ]
     },
     "execution_count": 27,
     "metadata": {},
     "output_type": "execute_result"
    }
   ],
   "source": [
    "df.tail(3)  # 查看最後3行"
   ]
  },
  {
   "cell_type": "markdown",
   "metadata": {},
   "source": [
    "# (4) 查看二維資料的索引、列名和資料"
   ]
  },
  {
   "cell_type": "code",
   "execution_count": 28,
   "metadata": {},
   "outputs": [
    {
     "data": {
      "text/plain": [
       "DatetimeIndex(['2013-01-01', '2013-01-02', '2013-01-03', '2013-01-04',\n",
       "               '2013-01-05', '2013-01-06', '2013-01-07'],\n",
       "              dtype='datetime64[ns]', freq='D')"
      ]
     },
     "execution_count": 28,
     "metadata": {},
     "output_type": "execute_result"
    }
   ],
   "source": [
    "df.index\n"
   ]
  },
  {
   "cell_type": "code",
   "execution_count": 29,
   "metadata": {},
   "outputs": [
    {
     "data": {
      "text/plain": [
       "Index(['A', 'B', 'C', 'D'], dtype='object')"
      ]
     },
     "execution_count": 29,
     "metadata": {},
     "output_type": "execute_result"
    }
   ],
   "source": [
    "df.columns\n"
   ]
  },
  {
   "cell_type": "code",
   "execution_count": 30,
   "metadata": {},
   "outputs": [
    {
     "data": {
      "text/plain": [
       "array([[ 0.23680926, -0.82446043,  0.10469882, -0.71619586],\n",
       "       [-0.10342696, -0.8470262 , -0.35099192, -0.78854383],\n",
       "       [ 1.52199077,  0.72192632,  0.58824872, -1.90135353],\n",
       "       [-1.01129156,  1.23554154,  0.99949965,  0.91919113],\n",
       "       [-1.24133843,  0.06300499, -1.18283267, -0.14108071],\n",
       "       [ 0.20415537,  0.14963621, -0.40340965,  0.07520748],\n",
       "       [-0.03395439,  0.35605738,  0.15190761, -0.22229509]])"
      ]
     },
     "execution_count": 30,
     "metadata": {},
     "output_type": "execute_result"
    }
   ],
   "source": [
    "df.values"
   ]
  },
  {
   "cell_type": "markdown",
   "metadata": {},
   "source": [
    "# (5) 查看資料的統計資訊"
   ]
  },
  {
   "cell_type": "code",
   "execution_count": 31,
   "metadata": {},
   "outputs": [
    {
     "data": {
      "text/html": [
       "<div>\n",
       "<style scoped>\n",
       "    .dataframe tbody tr th:only-of-type {\n",
       "        vertical-align: middle;\n",
       "    }\n",
       "\n",
       "    .dataframe tbody tr th {\n",
       "        vertical-align: top;\n",
       "    }\n",
       "\n",
       "    .dataframe thead th {\n",
       "        text-align: right;\n",
       "    }\n",
       "</style>\n",
       "<table border=\"1\" class=\"dataframe\">\n",
       "  <thead>\n",
       "    <tr style=\"text-align: right;\">\n",
       "      <th></th>\n",
       "      <th>A</th>\n",
       "      <th>B</th>\n",
       "      <th>C</th>\n",
       "      <th>D</th>\n",
       "    </tr>\n",
       "  </thead>\n",
       "  <tbody>\n",
       "    <tr>\n",
       "      <th>count</th>\n",
       "      <td>7.000000</td>\n",
       "      <td>7.000000</td>\n",
       "      <td>7.000000</td>\n",
       "      <td>7.000000</td>\n",
       "    </tr>\n",
       "    <tr>\n",
       "      <th>mean</th>\n",
       "      <td>-0.061008</td>\n",
       "      <td>0.122097</td>\n",
       "      <td>-0.013268</td>\n",
       "      <td>-0.396439</td>\n",
       "    </tr>\n",
       "    <tr>\n",
       "      <th>std</th>\n",
       "      <td>0.909546</td>\n",
       "      <td>0.763076</td>\n",
       "      <td>0.714478</td>\n",
       "      <td>0.872699</td>\n",
       "    </tr>\n",
       "    <tr>\n",
       "      <th>min</th>\n",
       "      <td>-1.241338</td>\n",
       "      <td>-0.847026</td>\n",
       "      <td>-1.182833</td>\n",
       "      <td>-1.901354</td>\n",
       "    </tr>\n",
       "    <tr>\n",
       "      <th>25%</th>\n",
       "      <td>-0.557359</td>\n",
       "      <td>-0.380728</td>\n",
       "      <td>-0.377201</td>\n",
       "      <td>-0.752370</td>\n",
       "    </tr>\n",
       "    <tr>\n",
       "      <th>50%</th>\n",
       "      <td>-0.033954</td>\n",
       "      <td>0.149636</td>\n",
       "      <td>0.104699</td>\n",
       "      <td>-0.222295</td>\n",
       "    </tr>\n",
       "    <tr>\n",
       "      <th>75%</th>\n",
       "      <td>0.220482</td>\n",
       "      <td>0.538992</td>\n",
       "      <td>0.370078</td>\n",
       "      <td>-0.032937</td>\n",
       "    </tr>\n",
       "    <tr>\n",
       "      <th>max</th>\n",
       "      <td>1.521991</td>\n",
       "      <td>1.235542</td>\n",
       "      <td>0.999500</td>\n",
       "      <td>0.919191</td>\n",
       "    </tr>\n",
       "  </tbody>\n",
       "</table>\n",
       "</div>"
      ],
      "text/plain": [
       "              A         B         C         D\n",
       "count  7.000000  7.000000  7.000000  7.000000\n",
       "mean  -0.061008  0.122097 -0.013268 -0.396439\n",
       "std    0.909546  0.763076  0.714478  0.872699\n",
       "min   -1.241338 -0.847026 -1.182833 -1.901354\n",
       "25%   -0.557359 -0.380728 -0.377201 -0.752370\n",
       "50%   -0.033954  0.149636  0.104699 -0.222295\n",
       "75%    0.220482  0.538992  0.370078 -0.032937\n",
       "max    1.521991  1.235542  0.999500  0.919191"
      ]
     },
     "execution_count": 31,
     "metadata": {},
     "output_type": "execute_result"
    }
   ],
   "source": [
    "df.describe()"
   ]
  },
  {
   "cell_type": "markdown",
   "metadata": {},
   "source": [
    "# (5) 查看資料的統計資訊 - other 2"
   ]
  },
  {
   "cell_type": "code",
   "execution_count": 32,
   "metadata": {
    "scrolled": true
   },
   "outputs": [
    {
     "name": "stdout",
     "output_type": "stream",
     "text": [
      "                   A         B         C         D         E\n",
      "2013-01-01  0.236809 -0.824460  0.104699 -0.716196 -0.169602\n",
      "2013-01-02 -0.103427 -0.847026 -0.350992 -0.788544  0.081557\n",
      "2013-01-03  1.521991  0.721926  0.588249 -1.901354 -2.893843\n",
      "2013-01-04 -1.011292  1.235542  0.999500  0.919191 -0.929570\n",
      "2013-01-05 -1.241338  0.063005 -1.182833 -0.141081  0.175129\n",
      "2013-01-06  0.204155  0.149636 -0.403410  0.075207  0.015354\n",
      "2013-01-07 -0.033954  0.356057  0.151908 -0.222295  0.007548\n"
     ]
    }
   ],
   "source": [
    "AA = df.A * df.D\n",
    "e = pd.Series(AA)   #建構欄位，轉成Series資料\n",
    "\n",
    "df['E'] = e\n",
    "print(df)"
   ]
  },
  {
   "cell_type": "code",
   "execution_count": 33,
   "metadata": {},
   "outputs": [
    {
     "name": "stdout",
     "output_type": "stream",
     "text": [
      "2013-01-01   -0.169602\n",
      "2013-01-02    0.081557\n",
      "2013-01-03   -2.893843\n",
      "2013-01-04   -0.929570\n",
      "2013-01-05    0.175129\n",
      "2013-01-06    0.015354\n",
      "2013-01-07    0.007548\n",
      "Freq: D, dtype: float64\n",
      "-----------------------\n",
      "2013-01-01   -0.169602\n",
      "2013-01-02    0.081557\n",
      "2013-01-03   -2.893843\n",
      "2013-01-04   -0.929570\n",
      "2013-01-05    0.175129\n",
      "2013-01-06    0.015354\n",
      "2013-01-07    0.007548\n",
      "Freq: D, dtype: float64\n",
      "-----------------------\n",
      "                   A         B         C         D         E\n",
      "2013-01-01  0.236809 -0.824460  0.104699 -0.716196 -0.169602\n",
      "2013-01-02 -0.103427 -0.847026 -0.350992 -0.788544  0.081557\n",
      "2013-01-03  1.521991  0.721926  0.588249 -1.901354 -2.893843\n",
      "2013-01-04 -1.011292  1.235542  0.999500  0.919191 -0.929570\n",
      "2013-01-05 -1.241338  0.063005 -1.182833 -0.141081  0.175129\n",
      "2013-01-06  0.204155  0.149636 -0.403410  0.075207  0.015354\n",
      "2013-01-07 -0.033954  0.356057  0.151908 -0.222295  0.007548\n"
     ]
    }
   ],
   "source": [
    "AA = df.A * df.D\n",
    "print(AA)\n",
    "print('-----------------------')\n",
    "\n",
    "e = pd.Series(AA)   #建構欄位\n",
    "print(e)\n",
    "print('-----------------------')\n",
    "\n",
    "df['E'] = e\n",
    "print(df)"
   ]
  },
  {
   "cell_type": "code",
   "execution_count": 34,
   "metadata": {},
   "outputs": [
    {
     "name": "stdout",
     "output_type": "stream",
     "text": [
      "                   A         B         C         D         E\n",
      "2013-01-01  0.236809 -0.824460  0.104699 -0.716196 -0.169602\n",
      "2013-01-02 -0.103427 -0.847026 -0.350992 -0.788544  0.081557\n",
      "2013-01-03  1.521991  0.721926  0.588249 -1.901354 -2.893843\n",
      "2013-01-04 -1.011292  1.235542  0.999500  0.919191 -0.929570\n",
      "2013-01-05 -1.241338  0.063005 -1.182833 -0.141081  0.175129\n",
      "2013-01-06  0.204155  0.149636 -0.403410  0.075207  0.015354\n",
      "2013-01-07 -0.033954  0.356057  0.151908 -0.222295  0.007548\n"
     ]
    }
   ],
   "source": [
    "df['E'] = df.A * df.D\n",
    "print(df)"
   ]
  },
  {
   "cell_type": "markdown",
   "metadata": {},
   "source": [
    "# (6) 二維數據轉置"
   ]
  },
  {
   "cell_type": "code",
   "execution_count": 35,
   "metadata": {},
   "outputs": [
    {
     "data": {
      "text/html": [
       "<div>\n",
       "<style scoped>\n",
       "    .dataframe tbody tr th:only-of-type {\n",
       "        vertical-align: middle;\n",
       "    }\n",
       "\n",
       "    .dataframe tbody tr th {\n",
       "        vertical-align: top;\n",
       "    }\n",
       "\n",
       "    .dataframe thead th {\n",
       "        text-align: right;\n",
       "    }\n",
       "</style>\n",
       "<table border=\"1\" class=\"dataframe\">\n",
       "  <thead>\n",
       "    <tr style=\"text-align: right;\">\n",
       "      <th></th>\n",
       "      <th>2013-01-01</th>\n",
       "      <th>2013-01-02</th>\n",
       "      <th>2013-01-03</th>\n",
       "      <th>2013-01-04</th>\n",
       "      <th>2013-01-05</th>\n",
       "      <th>2013-01-06</th>\n",
       "      <th>2013-01-07</th>\n",
       "    </tr>\n",
       "  </thead>\n",
       "  <tbody>\n",
       "    <tr>\n",
       "      <th>A</th>\n",
       "      <td>0.236809</td>\n",
       "      <td>-0.103427</td>\n",
       "      <td>1.521991</td>\n",
       "      <td>-1.011292</td>\n",
       "      <td>-1.241338</td>\n",
       "      <td>0.204155</td>\n",
       "      <td>-0.033954</td>\n",
       "    </tr>\n",
       "    <tr>\n",
       "      <th>B</th>\n",
       "      <td>-0.824460</td>\n",
       "      <td>-0.847026</td>\n",
       "      <td>0.721926</td>\n",
       "      <td>1.235542</td>\n",
       "      <td>0.063005</td>\n",
       "      <td>0.149636</td>\n",
       "      <td>0.356057</td>\n",
       "    </tr>\n",
       "    <tr>\n",
       "      <th>C</th>\n",
       "      <td>0.104699</td>\n",
       "      <td>-0.350992</td>\n",
       "      <td>0.588249</td>\n",
       "      <td>0.999500</td>\n",
       "      <td>-1.182833</td>\n",
       "      <td>-0.403410</td>\n",
       "      <td>0.151908</td>\n",
       "    </tr>\n",
       "    <tr>\n",
       "      <th>D</th>\n",
       "      <td>-0.716196</td>\n",
       "      <td>-0.788544</td>\n",
       "      <td>-1.901354</td>\n",
       "      <td>0.919191</td>\n",
       "      <td>-0.141081</td>\n",
       "      <td>0.075207</td>\n",
       "      <td>-0.222295</td>\n",
       "    </tr>\n",
       "    <tr>\n",
       "      <th>E</th>\n",
       "      <td>-0.169602</td>\n",
       "      <td>0.081557</td>\n",
       "      <td>-2.893843</td>\n",
       "      <td>-0.929570</td>\n",
       "      <td>0.175129</td>\n",
       "      <td>0.015354</td>\n",
       "      <td>0.007548</td>\n",
       "    </tr>\n",
       "  </tbody>\n",
       "</table>\n",
       "</div>"
      ],
      "text/plain": [
       "   2013-01-01  2013-01-02  2013-01-03  2013-01-04  2013-01-05  2013-01-06  \\\n",
       "A    0.236809   -0.103427    1.521991   -1.011292   -1.241338    0.204155   \n",
       "B   -0.824460   -0.847026    0.721926    1.235542    0.063005    0.149636   \n",
       "C    0.104699   -0.350992    0.588249    0.999500   -1.182833   -0.403410   \n",
       "D   -0.716196   -0.788544   -1.901354    0.919191   -0.141081    0.075207   \n",
       "E   -0.169602    0.081557   -2.893843   -0.929570    0.175129    0.015354   \n",
       "\n",
       "   2013-01-07  \n",
       "A   -0.033954  \n",
       "B    0.356057  \n",
       "C    0.151908  \n",
       "D   -0.222295  \n",
       "E    0.007548  "
      ]
     },
     "execution_count": 35,
     "metadata": {},
     "output_type": "execute_result"
    }
   ],
   "source": [
    "df.T  # 將攔、列互換"
   ]
  },
  {
   "cell_type": "markdown",
   "metadata": {},
   "source": [
    "# (7) 排序"
   ]
  },
  {
   "cell_type": "code",
   "execution_count": 36,
   "metadata": {},
   "outputs": [
    {
     "data": {
      "text/html": [
       "<div>\n",
       "<style scoped>\n",
       "    .dataframe tbody tr th:only-of-type {\n",
       "        vertical-align: middle;\n",
       "    }\n",
       "\n",
       "    .dataframe tbody tr th {\n",
       "        vertical-align: top;\n",
       "    }\n",
       "\n",
       "    .dataframe thead th {\n",
       "        text-align: right;\n",
       "    }\n",
       "</style>\n",
       "<table border=\"1\" class=\"dataframe\">\n",
       "  <thead>\n",
       "    <tr style=\"text-align: right;\">\n",
       "      <th></th>\n",
       "      <th>E</th>\n",
       "      <th>D</th>\n",
       "      <th>C</th>\n",
       "      <th>B</th>\n",
       "      <th>A</th>\n",
       "    </tr>\n",
       "  </thead>\n",
       "  <tbody>\n",
       "    <tr>\n",
       "      <th>2013-01-01</th>\n",
       "      <td>-0.169602</td>\n",
       "      <td>-0.716196</td>\n",
       "      <td>0.104699</td>\n",
       "      <td>-0.824460</td>\n",
       "      <td>0.236809</td>\n",
       "    </tr>\n",
       "    <tr>\n",
       "      <th>2013-01-02</th>\n",
       "      <td>0.081557</td>\n",
       "      <td>-0.788544</td>\n",
       "      <td>-0.350992</td>\n",
       "      <td>-0.847026</td>\n",
       "      <td>-0.103427</td>\n",
       "    </tr>\n",
       "    <tr>\n",
       "      <th>2013-01-03</th>\n",
       "      <td>-2.893843</td>\n",
       "      <td>-1.901354</td>\n",
       "      <td>0.588249</td>\n",
       "      <td>0.721926</td>\n",
       "      <td>1.521991</td>\n",
       "    </tr>\n",
       "    <tr>\n",
       "      <th>2013-01-04</th>\n",
       "      <td>-0.929570</td>\n",
       "      <td>0.919191</td>\n",
       "      <td>0.999500</td>\n",
       "      <td>1.235542</td>\n",
       "      <td>-1.011292</td>\n",
       "    </tr>\n",
       "    <tr>\n",
       "      <th>2013-01-05</th>\n",
       "      <td>0.175129</td>\n",
       "      <td>-0.141081</td>\n",
       "      <td>-1.182833</td>\n",
       "      <td>0.063005</td>\n",
       "      <td>-1.241338</td>\n",
       "    </tr>\n",
       "    <tr>\n",
       "      <th>2013-01-06</th>\n",
       "      <td>0.015354</td>\n",
       "      <td>0.075207</td>\n",
       "      <td>-0.403410</td>\n",
       "      <td>0.149636</td>\n",
       "      <td>0.204155</td>\n",
       "    </tr>\n",
       "    <tr>\n",
       "      <th>2013-01-07</th>\n",
       "      <td>0.007548</td>\n",
       "      <td>-0.222295</td>\n",
       "      <td>0.151908</td>\n",
       "      <td>0.356057</td>\n",
       "      <td>-0.033954</td>\n",
       "    </tr>\n",
       "  </tbody>\n",
       "</table>\n",
       "</div>"
      ],
      "text/plain": [
       "                   E         D         C         B         A\n",
       "2013-01-01 -0.169602 -0.716196  0.104699 -0.824460  0.236809\n",
       "2013-01-02  0.081557 -0.788544 -0.350992 -0.847026 -0.103427\n",
       "2013-01-03 -2.893843 -1.901354  0.588249  0.721926  1.521991\n",
       "2013-01-04 -0.929570  0.919191  0.999500  1.235542 -1.011292\n",
       "2013-01-05  0.175129 -0.141081 -1.182833  0.063005 -1.241338\n",
       "2013-01-06  0.015354  0.075207 -0.403410  0.149636  0.204155\n",
       "2013-01-07  0.007548 -0.222295  0.151908  0.356057 -0.033954"
      ]
     },
     "execution_count": 36,
     "metadata": {},
     "output_type": "execute_result"
    }
   ],
   "source": [
    "df.sort_index(axis=1, ascending=False)    # 資料呈現的順序"
   ]
  },
  {
   "cell_type": "code",
   "execution_count": 37,
   "metadata": {},
   "outputs": [
    {
     "data": {
      "text/html": [
       "<div>\n",
       "<style scoped>\n",
       "    .dataframe tbody tr th:only-of-type {\n",
       "        vertical-align: middle;\n",
       "    }\n",
       "\n",
       "    .dataframe tbody tr th {\n",
       "        vertical-align: top;\n",
       "    }\n",
       "\n",
       "    .dataframe thead th {\n",
       "        text-align: right;\n",
       "    }\n",
       "</style>\n",
       "<table border=\"1\" class=\"dataframe\">\n",
       "  <thead>\n",
       "    <tr style=\"text-align: right;\">\n",
       "      <th></th>\n",
       "      <th>A</th>\n",
       "      <th>B</th>\n",
       "      <th>C</th>\n",
       "      <th>D</th>\n",
       "      <th>E</th>\n",
       "    </tr>\n",
       "  </thead>\n",
       "  <tbody>\n",
       "    <tr>\n",
       "      <th>2013-01-07</th>\n",
       "      <td>-0.033954</td>\n",
       "      <td>0.356057</td>\n",
       "      <td>0.151908</td>\n",
       "      <td>-0.222295</td>\n",
       "      <td>0.007548</td>\n",
       "    </tr>\n",
       "    <tr>\n",
       "      <th>2013-01-06</th>\n",
       "      <td>0.204155</td>\n",
       "      <td>0.149636</td>\n",
       "      <td>-0.403410</td>\n",
       "      <td>0.075207</td>\n",
       "      <td>0.015354</td>\n",
       "    </tr>\n",
       "    <tr>\n",
       "      <th>2013-01-05</th>\n",
       "      <td>-1.241338</td>\n",
       "      <td>0.063005</td>\n",
       "      <td>-1.182833</td>\n",
       "      <td>-0.141081</td>\n",
       "      <td>0.175129</td>\n",
       "    </tr>\n",
       "    <tr>\n",
       "      <th>2013-01-04</th>\n",
       "      <td>-1.011292</td>\n",
       "      <td>1.235542</td>\n",
       "      <td>0.999500</td>\n",
       "      <td>0.919191</td>\n",
       "      <td>-0.929570</td>\n",
       "    </tr>\n",
       "    <tr>\n",
       "      <th>2013-01-03</th>\n",
       "      <td>1.521991</td>\n",
       "      <td>0.721926</td>\n",
       "      <td>0.588249</td>\n",
       "      <td>-1.901354</td>\n",
       "      <td>-2.893843</td>\n",
       "    </tr>\n",
       "    <tr>\n",
       "      <th>2013-01-02</th>\n",
       "      <td>-0.103427</td>\n",
       "      <td>-0.847026</td>\n",
       "      <td>-0.350992</td>\n",
       "      <td>-0.788544</td>\n",
       "      <td>0.081557</td>\n",
       "    </tr>\n",
       "    <tr>\n",
       "      <th>2013-01-01</th>\n",
       "      <td>0.236809</td>\n",
       "      <td>-0.824460</td>\n",
       "      <td>0.104699</td>\n",
       "      <td>-0.716196</td>\n",
       "      <td>-0.169602</td>\n",
       "    </tr>\n",
       "  </tbody>\n",
       "</table>\n",
       "</div>"
      ],
      "text/plain": [
       "                   A         B         C         D         E\n",
       "2013-01-07 -0.033954  0.356057  0.151908 -0.222295  0.007548\n",
       "2013-01-06  0.204155  0.149636 -0.403410  0.075207  0.015354\n",
       "2013-01-05 -1.241338  0.063005 -1.182833 -0.141081  0.175129\n",
       "2013-01-04 -1.011292  1.235542  0.999500  0.919191 -0.929570\n",
       "2013-01-03  1.521991  0.721926  0.588249 -1.901354 -2.893843\n",
       "2013-01-02 -0.103427 -0.847026 -0.350992 -0.788544  0.081557\n",
       "2013-01-01  0.236809 -0.824460  0.104699 -0.716196 -0.169602"
      ]
     },
     "execution_count": 37,
     "metadata": {},
     "output_type": "execute_result"
    }
   ],
   "source": [
    "df.sort_index(axis=0, ascending=False)    # 資料呈現的順序"
   ]
  },
  {
   "cell_type": "code",
   "execution_count": 38,
   "metadata": {},
   "outputs": [
    {
     "data": {
      "text/html": [
       "<div>\n",
       "<style scoped>\n",
       "    .dataframe tbody tr th:only-of-type {\n",
       "        vertical-align: middle;\n",
       "    }\n",
       "\n",
       "    .dataframe tbody tr th {\n",
       "        vertical-align: top;\n",
       "    }\n",
       "\n",
       "    .dataframe thead th {\n",
       "        text-align: right;\n",
       "    }\n",
       "</style>\n",
       "<table border=\"1\" class=\"dataframe\">\n",
       "  <thead>\n",
       "    <tr style=\"text-align: right;\">\n",
       "      <th></th>\n",
       "      <th>A</th>\n",
       "      <th>B</th>\n",
       "      <th>C</th>\n",
       "      <th>D</th>\n",
       "      <th>E</th>\n",
       "    </tr>\n",
       "  </thead>\n",
       "  <tbody>\n",
       "    <tr>\n",
       "      <th>2013-01-02</th>\n",
       "      <td>-0.103427</td>\n",
       "      <td>-0.847026</td>\n",
       "      <td>-0.350992</td>\n",
       "      <td>-0.788544</td>\n",
       "      <td>0.081557</td>\n",
       "    </tr>\n",
       "    <tr>\n",
       "      <th>2013-01-01</th>\n",
       "      <td>0.236809</td>\n",
       "      <td>-0.824460</td>\n",
       "      <td>0.104699</td>\n",
       "      <td>-0.716196</td>\n",
       "      <td>-0.169602</td>\n",
       "    </tr>\n",
       "    <tr>\n",
       "      <th>2013-01-05</th>\n",
       "      <td>-1.241338</td>\n",
       "      <td>0.063005</td>\n",
       "      <td>-1.182833</td>\n",
       "      <td>-0.141081</td>\n",
       "      <td>0.175129</td>\n",
       "    </tr>\n",
       "    <tr>\n",
       "      <th>2013-01-06</th>\n",
       "      <td>0.204155</td>\n",
       "      <td>0.149636</td>\n",
       "      <td>-0.403410</td>\n",
       "      <td>0.075207</td>\n",
       "      <td>0.015354</td>\n",
       "    </tr>\n",
       "    <tr>\n",
       "      <th>2013-01-07</th>\n",
       "      <td>-0.033954</td>\n",
       "      <td>0.356057</td>\n",
       "      <td>0.151908</td>\n",
       "      <td>-0.222295</td>\n",
       "      <td>0.007548</td>\n",
       "    </tr>\n",
       "    <tr>\n",
       "      <th>2013-01-03</th>\n",
       "      <td>1.521991</td>\n",
       "      <td>0.721926</td>\n",
       "      <td>0.588249</td>\n",
       "      <td>-1.901354</td>\n",
       "      <td>-2.893843</td>\n",
       "    </tr>\n",
       "    <tr>\n",
       "      <th>2013-01-04</th>\n",
       "      <td>-1.011292</td>\n",
       "      <td>1.235542</td>\n",
       "      <td>0.999500</td>\n",
       "      <td>0.919191</td>\n",
       "      <td>-0.929570</td>\n",
       "    </tr>\n",
       "  </tbody>\n",
       "</table>\n",
       "</div>"
      ],
      "text/plain": [
       "                   A         B         C         D         E\n",
       "2013-01-02 -0.103427 -0.847026 -0.350992 -0.788544  0.081557\n",
       "2013-01-01  0.236809 -0.824460  0.104699 -0.716196 -0.169602\n",
       "2013-01-05 -1.241338  0.063005 -1.182833 -0.141081  0.175129\n",
       "2013-01-06  0.204155  0.149636 -0.403410  0.075207  0.015354\n",
       "2013-01-07 -0.033954  0.356057  0.151908 -0.222295  0.007548\n",
       "2013-01-03  1.521991  0.721926  0.588249 -1.901354 -2.893843\n",
       "2013-01-04 -1.011292  1.235542  0.999500  0.919191 -0.929570"
      ]
     },
     "execution_count": 38,
     "metadata": {},
     "output_type": "execute_result"
    }
   ],
   "source": [
    "df.sort_values(by='B')    # 依據哪個欄位排序"
   ]
  },
  {
   "cell_type": "markdown",
   "metadata": {},
   "source": [
    "# 動手做 ------------------------------------------------------"
   ]
  },
  {
   "cell_type": "markdown",
   "metadata": {},
   "source": [
    "#### 題目:  將業績表以Name順序進行排序\n",
    "* 範例:\n",
    "    * input: 以pd.read_csv導入資料\n",
    "    * output:  "
   ]
  },
  {
   "cell_type": "code",
   "execution_count": 39,
   "metadata": {},
   "outputs": [
    {
     "name": "stdout",
     "output_type": "stream",
     "text": [
      "        Name      May     June     July\n",
      "ID                                     \n",
      "10901  David  6000000  8000000  6000000\n",
      "10902  Tommy  2400000  3600000  5100000\n",
      "10903   Jack  4200000  6600000  8000000\n",
      "10904  Jimmy  5600000  4000000  6000000\n",
      "        Name      May     June     July\n",
      "ID                                     \n",
      "10901  David  6000000  8000000  6000000\n",
      "10903   Jack  4200000  6600000  8000000\n",
      "10904  Jimmy  5600000  4000000  6000000\n",
      "10902  Tommy  2400000  3600000  5100000\n"
     ]
    }
   ],
   "source": [
    "import pandas as pd\n",
    "\n",
    "sales=pd.read_csv('sales_revenue.csv', index_col = 0) \n",
    "\n",
    "print(sales)\n",
    "\n",
    "print(sales.sort_values(by ='Name')  )"
   ]
  },
  {
   "cell_type": "markdown",
   "metadata": {},
   "source": [
    "# ---------------------------------------------------------end"
   ]
  },
  {
   "cell_type": "markdown",
   "metadata": {},
   "source": [
    "# 動手做 --------------------------------------------"
   ]
  },
  {
   "cell_type": "markdown",
   "metadata": {},
   "source": [
    "#### 題目: 請依據下列商品名稱和存貨量資料，建立DataFrame架構資料\n",
    "\n",
    "* 範例:\n",
    " * data:\n",
    "     * product: ['iphone', 'Samsung', 'Sony', 'Huawei', 'HTC', 'Oppo']\n",
    "     * inventory: [1000, 1200, 1300, 800, 700, 850] \n"
   ]
  },
  {
   "cell_type": "code",
   "execution_count": 40,
   "metadata": {},
   "outputs": [
    {
     "name": "stdout",
     "output_type": "stream",
     "text": [
      "         inventory\n",
      "product           \n",
      "Iphone        1000\n",
      "Samaung       1200\n",
      "Sony          1300\n",
      "Huawei         800\n",
      "HTC            700\n",
      "Oppo           850\n"
     ]
    }
   ],
   "source": [
    "import pandas as pd\n",
    "\n",
    "data=pd.read_csv('data2-2.csv', index_col = 0) \n",
    "\n",
    "print(data)"
   ]
  },
  {
   "cell_type": "code",
   "execution_count": 41,
   "metadata": {},
   "outputs": [
    {
     "data": {
      "text/html": [
       "<div>\n",
       "<style scoped>\n",
       "    .dataframe tbody tr th:only-of-type {\n",
       "        vertical-align: middle;\n",
       "    }\n",
       "\n",
       "    .dataframe tbody tr th {\n",
       "        vertical-align: top;\n",
       "    }\n",
       "\n",
       "    .dataframe thead th {\n",
       "        text-align: right;\n",
       "    }\n",
       "</style>\n",
       "<table border=\"1\" class=\"dataframe\">\n",
       "  <thead>\n",
       "    <tr style=\"text-align: right;\">\n",
       "      <th></th>\n",
       "      <th>0</th>\n",
       "      <th>1</th>\n",
       "      <th>2</th>\n",
       "      <th>3</th>\n",
       "      <th>4</th>\n",
       "      <th>5</th>\n",
       "    </tr>\n",
       "  </thead>\n",
       "  <tbody>\n",
       "    <tr>\n",
       "      <th>product</th>\n",
       "      <td>iphone</td>\n",
       "      <td>Samsung</td>\n",
       "      <td>Sony</td>\n",
       "      <td>Huawei</td>\n",
       "      <td>HTC</td>\n",
       "      <td>Oppo</td>\n",
       "    </tr>\n",
       "    <tr>\n",
       "      <th>inventory</th>\n",
       "      <td>1000</td>\n",
       "      <td>1200</td>\n",
       "      <td>1300</td>\n",
       "      <td>800</td>\n",
       "      <td>700</td>\n",
       "      <td>850</td>\n",
       "    </tr>\n",
       "  </tbody>\n",
       "</table>\n",
       "</div>"
      ],
      "text/plain": [
       "                0        1     2       3    4     5\n",
       "product    iphone  Samsung  Sony  Huawei  HTC  Oppo\n",
       "inventory    1000     1200  1300     800  700   850"
      ]
     },
     "execution_count": 41,
     "metadata": {},
     "output_type": "execute_result"
    }
   ],
   "source": [
    "import pandas as pd\n",
    "import numpy as np\n",
    "\n",
    "pd.DataFrame({ 'product' : ['iphone', 'Samsung', 'Sony', 'Huawei', 'HTC', 'Oppo'],\n",
    "    'inventory' :  [1000, 1200, 1300, 800, 700, 850], }).T\n"
   ]
  },
  {
   "cell_type": "code",
   "execution_count": 42,
   "metadata": {},
   "outputs": [
    {
     "name": "stdout",
     "output_type": "stream",
     "text": [
      "           iphone  Samsung  Sony  Huawei  HTC  Oppo\n",
      "product      1000     1200  1300     800  700   850\n",
      "inventory    1000     1200  1300     800  700   850\n"
     ]
    }
   ],
   "source": [
    "import pandas as pd\n",
    "import numpy as np\n",
    "\n",
    "\n",
    "\n",
    "x = [{'iphone': 1000, 'Samsung':1200, 'Sony':1300, 'Huawei':800, 'HTC':700, 'Oppo':850}]\n",
    "\n",
    "\n",
    "df=pd.DataFrame(x, index=['product', 'inventory'])\n",
    "\n",
    "print(df)\n"
   ]
  },
  {
   "cell_type": "code",
   "execution_count": 43,
   "metadata": {},
   "outputs": [
    {
     "name": "stdout",
     "output_type": "stream",
     "text": [
      "     product  iphone  Samsung  Sony  Huawei  HTC  Oppo\n",
      "0  inventory    1000     1200  1300     800  700   850\n"
     ]
    }
   ],
   "source": [
    "import pandas as pd\n",
    "import numpy as np\n",
    "\n",
    "\n",
    "x = [{'product':'inventory','iphone': 1000, 'Samsung':1200, 'Sony':1300, 'Huawei':800, 'HTC':700, 'Oppo':850}]\n",
    "\n",
    "\n",
    "df=pd.DataFrame(x)\n",
    "\n",
    "print(df)\n"
   ]
  },
  {
   "cell_type": "markdown",
   "metadata": {},
   "source": [
    "# -------------------------------------------------end"
   ]
  },
  {
   "cell_type": "code",
   "execution_count": null,
   "metadata": {},
   "outputs": [],
   "source": []
  },
  {
   "cell_type": "markdown",
   "metadata": {
    "collapsed": true
   },
   "source": [
    "# (8) 資料選擇 - 資料切片使用loc (取特定欄位資料)\n",
    "    可以取特定欄,而列用index name去locate"
   ]
  },
  {
   "cell_type": "code",
   "execution_count": null,
   "metadata": {},
   "outputs": [],
   "source": [
    "df"
   ]
  },
  {
   "cell_type": "code",
   "execution_count": null,
   "metadata": {},
   "outputs": [],
   "source": [
    "df['A']"
   ]
  },
  {
   "cell_type": "code",
   "execution_count": null,
   "metadata": {},
   "outputs": [],
   "source": [
    "df.A"
   ]
  },
  {
   "cell_type": "code",
   "execution_count": null,
   "metadata": {},
   "outputs": [],
   "source": [
    "df[['A','B']]    # 兩個[[]]"
   ]
  },
  {
   "cell_type": "code",
   "execution_count": null,
   "metadata": {},
   "outputs": [],
   "source": [
    "cols = ['A','B']\n",
    "df[cols]   "
   ]
  },
  {
   "cell_type": "code",
   "execution_count": null,
   "metadata": {},
   "outputs": [],
   "source": [
    "#取前3列, 針對所有欄\n",
    "df[0:3]"
   ]
  },
  {
   "cell_type": "code",
   "execution_count": null,
   "metadata": {},
   "outputs": [],
   "source": [
    "df[0:2]   "
   ]
  },
  {
   "cell_type": "code",
   "execution_count": null,
   "metadata": {},
   "outputs": [],
   "source": [
    "#取出20130102':'20130104', 針對所有欄\n",
    "df['20130102':'20130104']"
   ]
  },
  {
   "cell_type": "code",
   "execution_count": null,
   "metadata": {},
   "outputs": [],
   "source": [
    "print(dates)\n",
    "print(dates[0])"
   ]
  },
  {
   "cell_type": "code",
   "execution_count": null,
   "metadata": {},
   "outputs": [],
   "source": [
    "print(dates[0])\n",
    "df.loc[dates[0]]     # 取locate dates[0], 2013-01-01的資料"
   ]
  },
  {
   "cell_type": "code",
   "execution_count": null,
   "metadata": {},
   "outputs": [],
   "source": [
    "print(dates[0])\n",
    "df.loc[dates[0], ['A', 'E']]    # 取locate dates[0], 2013-01-01的資料"
   ]
  },
  {
   "cell_type": "code",
   "execution_count": null,
   "metadata": {
    "scrolled": true
   },
   "outputs": [],
   "source": [
    "#利用 loc 可以撰擇部份欄\n",
    "df2=df.loc[:,['A','B']]"
   ]
  },
  {
   "cell_type": "code",
   "execution_count": null,
   "metadata": {
    "scrolled": true
   },
   "outputs": [],
   "source": [
    "df2"
   ]
  },
  {
   "cell_type": "code",
   "execution_count": null,
   "metadata": {},
   "outputs": [],
   "source": [
    "df"
   ]
  },
  {
   "cell_type": "code",
   "execution_count": null,
   "metadata": {},
   "outputs": [],
   "source": [
    "df.loc['20130102':'20130104',['A','B']]\n",
    "#df.loc[0:4,['A','B']]  # Error! can only use index name"
   ]
  },
  {
   "cell_type": "code",
   "execution_count": null,
   "metadata": {
    "scrolled": true
   },
   "outputs": [],
   "source": [
    "df.loc['20130102',['A','B']]"
   ]
  },
  {
   "cell_type": "code",
   "execution_count": null,
   "metadata": {},
   "outputs": [],
   "source": [
    "df.loc[dates[0],'A']"
   ]
  },
  {
   "cell_type": "markdown",
   "metadata": {},
   "source": [
    "# 動手做 ------------------------------------------------------"
   ]
  },
  {
   "cell_type": "markdown",
   "metadata": {},
   "source": [
    "#### 題目: 請依據前面建立DataFrame架構的資料，完成以下要求:\n",
    "* 將iphone的存貨加50\n",
    "* 輸出存量最多的商品\n",
    "* 將資料根據存貨量從大到小排列\n",
    "* 輸出存貨量少於1000的商品\n",
    "\n",
    "* 範例:\n",
    " * data:\n",
    "     * product: ['iphone', 'Samsung', 'Sony', 'Huawei', 'HTC', 'Oppo']\n",
    "     * inventory: [1000, 1200, 1300, 800, 700, 850] \n"
   ]
  },
  {
   "cell_type": "code",
   "execution_count": 44,
   "metadata": {},
   "outputs": [
    {
     "name": "stdout",
     "output_type": "stream",
     "text": [
      "                0        1     2       3    4     5\n",
      "product    iphone  Samsung  Sony  Huawei  HTC  Oppo\n",
      "inventory    1050     1200  1300     800  700   850\n",
      "-----------------------\n",
      "  product  inventory\n",
      "2    Sony       1300\n",
      "-----------------------\n",
      "              2        1       0     5       3    4\n",
      "product    Sony  Samsung  iphone  Oppo  Huawei  HTC\n",
      "inventory  1300     1200    1050   850     800  700\n",
      "-----------------------\n",
      "                3    4     5\n",
      "product    Huawei  HTC  Oppo\n",
      "inventory     800  700   850\n",
      "-----------------------\n"
     ]
    }
   ],
   "source": [
    "import pandas as pd\n",
    "import numpy as np\n",
    "\n",
    "x=pd.DataFrame({ \n",
    "    'product' : ['iphone', 'Samsung', 'Sony', 'Huawei', 'HTC', 'Oppo'],\n",
    "    'inventory' :  [1000, 1200, 1300, 800, 700, 850]\n",
    "     })\n",
    "\n",
    "x.loc[0, 'inventory'] +=50\n",
    "\n",
    "print(x.T)\n",
    "print('-----------------------')\n",
    "\n",
    "print(x[x['inventory']==x['inventory'].max()])\n",
    "print('-----------------------')\n",
    "\n",
    "print(x.sort_values(by ='inventory',  ascending = False).T)\n",
    "print('-----------------------')\n",
    "\n",
    "print(x[x.loc[:,'inventory'] <1000].T)\n",
    "print('-----------------------')\n"
   ]
  },
  {
   "cell_type": "code",
   "execution_count": 45,
   "metadata": {},
   "outputs": [
    {
     "name": "stdout",
     "output_type": "stream",
     "text": [
      "                0        1     2       3    4     5\n",
      "product    iphone  Samsung  Sony  Huawei  HTC  Oppo\n",
      "inventory    1050     1200  1300     800  700   850\n",
      "-----------------------\n",
      "  product  inventory\n",
      "2    Sony       1300\n",
      "-----------------------\n",
      "              2        1       0     5       3    4\n",
      "product    Sony  Samsung  iphone  Oppo  Huawei  HTC\n",
      "inventory  1300     1200    1050   850     800  700\n",
      "-----------------------\n",
      "                3    4     5\n",
      "product    Huawei  HTC  Oppo\n",
      "inventory     800  700   850\n",
      "-----------------------\n"
     ]
    }
   ],
   "source": [
    "import pandas as pd\n",
    "import numpy as np\n",
    "\n",
    "x=pd.DataFrame({ \n",
    "    'product' : ['iphone', 'Samsung', 'Sony', 'Huawei', 'HTC', 'Oppo'],\n",
    "    'inventory' :  [1000, 1200, 1300, 800, 700, 850]\n",
    "     })\n",
    "\n",
    "x.loc[0, 'inventory'] +=50\n",
    "\n",
    "print(x.T)\n",
    "print('-----------------------')\n",
    "\n",
    "print(x[x['inventory']==x['inventory'].max()])\n",
    "print('-----------------------')\n",
    "\n",
    "print(x.sort_values(by ='inventory',  ascending = False).T)\n",
    "print('-----------------------')\n",
    "\n",
    "print(x[x['inventory'] <1000].T)\n",
    "print('-----------------------')\n"
   ]
  },
  {
   "cell_type": "markdown",
   "metadata": {},
   "source": [
    "# -----------------------------------------------------end"
   ]
  },
  {
   "cell_type": "markdown",
   "metadata": {},
   "source": [
    "# (9) 資料修改與設置"
   ]
  },
  {
   "cell_type": "code",
   "execution_count": null,
   "metadata": {},
   "outputs": [],
   "source": [
    "df.at[dates[0], 'A']   #查詢指定行、列位置資料的值"
   ]
  },
  {
   "cell_type": "code",
   "execution_count": null,
   "metadata": {},
   "outputs": [],
   "source": [
    "df.at[0:2] = 3   #修改指定行、列位置資料的值\n",
    "df"
   ]
  },
  {
   "cell_type": "code",
   "execution_count": null,
   "metadata": {},
   "outputs": [],
   "source": [
    "df.loc[:, 'D'] = [i for i in range(7)] #修改所有列的值\n",
    "df"
   ]
  },
  {
   "cell_type": "code",
   "execution_count": null,
   "metadata": {},
   "outputs": [],
   "source": [
    "df.loc[:, 'D'] = [np.random.randint(90,100) for i in range(7)] #修改所有列的值\n",
    "df"
   ]
  },
  {
   "cell_type": "code",
   "execution_count": null,
   "metadata": {},
   "outputs": [],
   "source": [
    "df['D'] = -df['D']    #修改所有D列的值\n",
    "df"
   ]
  },
  {
   "cell_type": "markdown",
   "metadata": {},
   "source": [
    "# (9) 資料修改與設置 - part 2"
   ]
  },
  {
   "cell_type": "markdown",
   "metadata": {
    "collapsed": true
   },
   "source": [
    "# 資料切片使用iloc\n",
    "    使用index(row number)去選取特定列\n",
    "    df.iloc[i] returns the ith row of df. i does not refer to the index label, i is a 0-based index.\n",
    "    In contrast, the attribute index returns actual index labels, not numeric row-indices:"
   ]
  },
  {
   "cell_type": "code",
   "execution_count": null,
   "metadata": {},
   "outputs": [],
   "source": [
    "df.loc[:,['A','B']]"
   ]
  },
  {
   "cell_type": "code",
   "execution_count": null,
   "metadata": {
    "scrolled": true
   },
   "outputs": [],
   "source": [
    "print(df.iloc[0])\n",
    "print(df.iloc[0:3])\n",
    "print(df.iloc[0:3,1:3])"
   ]
  },
  {
   "cell_type": "markdown",
   "metadata": {},
   "source": [
    "# 按給定條件進行查詢"
   ]
  },
  {
   "cell_type": "code",
   "execution_count": null,
   "metadata": {},
   "outputs": [],
   "source": [
    "df"
   ]
  },
  {
   "cell_type": "code",
   "execution_count": null,
   "metadata": {
    "scrolled": true
   },
   "outputs": [],
   "source": [
    "df[df.A>0] \n"
   ]
  },
  {
   "cell_type": "code",
   "execution_count": null,
   "metadata": {
    "scrolled": true
   },
   "outputs": [],
   "source": [
    "k = df[df.A>0]    # 取出大於0的資料\n",
    "print(k.index)    # 查詢大於0資料的位置"
   ]
  },
  {
   "cell_type": "code",
   "execution_count": null,
   "metadata": {},
   "outputs": [],
   "source": [
    "x=df.A>0\n",
    "y=df.B<0\n",
    "df[( x&y )]"
   ]
  },
  {
   "cell_type": "code",
   "execution_count": null,
   "metadata": {
    "scrolled": true
   },
   "outputs": [],
   "source": [
    "df[df.index=='2013-01-02']"
   ]
  },
  {
   "cell_type": "code",
   "execution_count": null,
   "metadata": {
    "scrolled": false
   },
   "outputs": [],
   "source": [
    "#df[df['datetime'].between(\"2013-01-02\",\"2013-01-05\")]"
   ]
  },
  {
   "cell_type": "code",
   "execution_count": null,
   "metadata": {},
   "outputs": [],
   "source": []
  },
  {
   "cell_type": "markdown",
   "metadata": {},
   "source": [
    "# (9) 資料修改與設置 - part 3"
   ]
  },
  {
   "cell_type": "markdown",
   "metadata": {},
   "source": [
    "# index to one cell"
   ]
  },
  {
   "cell_type": "code",
   "execution_count": null,
   "metadata": {},
   "outputs": [],
   "source": [
    "df.at[dates[2],'C']    # 查詢指定行、列的值"
   ]
  },
  {
   "cell_type": "code",
   "execution_count": null,
   "metadata": {},
   "outputs": [],
   "source": [
    "df.at[dates[2],'D']    # 查詢指定行、列的值"
   ]
  },
  {
   "cell_type": "code",
   "execution_count": null,
   "metadata": {
    "scrolled": false
   },
   "outputs": [],
   "source": [
    "df.iloc[2,2]\n"
   ]
  },
  {
   "cell_type": "code",
   "execution_count": null,
   "metadata": {
    "scrolled": true
   },
   "outputs": [],
   "source": [
    "df.iloc[2,2]=100\n",
    "df"
   ]
  },
  {
   "cell_type": "code",
   "execution_count": null,
   "metadata": {},
   "outputs": [],
   "source": []
  },
  {
   "cell_type": "markdown",
   "metadata": {},
   "source": [
    "# (10) 缺失值處理"
   ]
  },
  {
   "cell_type": "code",
   "execution_count": null,
   "metadata": {},
   "outputs": [],
   "source": [
    "mask = df['A'].isnull()    #  查詢空的欄位\n",
    "print(mask)"
   ]
  },
  {
   "cell_type": "code",
   "execution_count": null,
   "metadata": {},
   "outputs": [],
   "source": [
    "mask = pd.isnull(df)    #  查詢空的欄位\n",
    "print(mask)"
   ]
  },
  {
   "cell_type": "markdown",
   "metadata": {},
   "source": [
    "# 刪除欄列"
   ]
  },
  {
   "cell_type": "code",
   "execution_count": null,
   "metadata": {},
   "outputs": [],
   "source": [
    "df"
   ]
  },
  {
   "cell_type": "code",
   "execution_count": null,
   "metadata": {
    "scrolled": true
   },
   "outputs": [],
   "source": [
    "#刪除A,B兩欄\n",
    "df.drop(['A', 'B'], axis=1)"
   ]
  },
  {
   "cell_type": "code",
   "execution_count": null,
   "metadata": {
    "scrolled": false
   },
   "outputs": [],
   "source": [
    "#刪除列by row number\n",
    "#df.drop(df.index[2]) # drop a row\n",
    "df.drop(df.index[:4]) # drop a range"
   ]
  },
  {
   "cell_type": "code",
   "execution_count": null,
   "metadata": {
    "scrolled": true
   },
   "outputs": [],
   "source": [
    "df.drop(df.index[-2])"
   ]
  },
  {
   "cell_type": "code",
   "execution_count": null,
   "metadata": {
    "scrolled": true
   },
   "outputs": [],
   "source": [
    "df.drop(df.index[:-3]) "
   ]
  },
  {
   "cell_type": "code",
   "execution_count": null,
   "metadata": {
    "scrolled": true
   },
   "outputs": [],
   "source": [
    "df.index"
   ]
  },
  {
   "cell_type": "code",
   "execution_count": null,
   "metadata": {},
   "outputs": [],
   "source": [
    "df"
   ]
  },
  {
   "cell_type": "code",
   "execution_count": null,
   "metadata": {
    "scrolled": true
   },
   "outputs": [],
   "source": [
    "data = {'name': ['Jason', 'Molly', 'Tina', 'Jake', 'Amy'], \n",
    "        'year': [2012, 2012, 2013, 2014, 2014], \n",
    "        'reports': [4, 24, 31, 2, 3]}\n",
    "df = pd.DataFrame(data, index = ['Cochice', 'Pima', 'Santa Cruz', 'Maricopa', 'Yuma'])\n",
    "df"
   ]
  },
  {
   "cell_type": "code",
   "execution_count": null,
   "metadata": {},
   "outputs": [],
   "source": [
    "df.drop(['Cochice', 'Pima'])"
   ]
  },
  {
   "cell_type": "markdown",
   "metadata": {},
   "source": [
    "## 缺失值處理"
   ]
  },
  {
   "cell_type": "code",
   "execution_count": null,
   "metadata": {},
   "outputs": [],
   "source": [
    "df"
   ]
  },
  {
   "cell_type": "code",
   "execution_count": null,
   "metadata": {},
   "outputs": [],
   "source": [
    "df.iloc[1,3]=np.NaN     # 將資料進行修正，填入空值\n",
    "df.iloc[0,2]=np.NaN     # 將資料進行修正，填入空值\n",
    "mask = df[\"C\"].isnull()\n",
    "print(mask)"
   ]
  },
  {
   "cell_type": "code",
   "execution_count": null,
   "metadata": {},
   "outputs": [],
   "source": [
    "df"
   ]
  },
  {
   "cell_type": "code",
   "execution_count": null,
   "metadata": {
    "scrolled": true
   },
   "outputs": [],
   "source": [
    "pd.isnull(df) "
   ]
  },
  {
   "cell_type": "code",
   "execution_count": null,
   "metadata": {},
   "outputs": [],
   "source": [
    "#刪除有缺值的列\n",
    "df.dropna() "
   ]
  },
  {
   "cell_type": "code",
   "execution_count": null,
   "metadata": {
    "scrolled": true
   },
   "outputs": [],
   "source": [
    "df['C'].fillna(5, inplace=True) #使用指定值填充缺失值\n",
    "df"
   ]
  },
  {
   "cell_type": "code",
   "execution_count": null,
   "metadata": {},
   "outputs": [],
   "source": []
  },
  {
   "cell_type": "markdown",
   "metadata": {},
   "source": [
    "# (11) 資料操作"
   ]
  },
  {
   "cell_type": "markdown",
   "metadata": {},
   "source": [
    "## 資料統計分析"
   ]
  },
  {
   "cell_type": "code",
   "execution_count": null,
   "metadata": {
    "scrolled": true
   },
   "outputs": [],
   "source": [
    "df"
   ]
  },
  {
   "cell_type": "code",
   "execution_count": null,
   "metadata": {},
   "outputs": [],
   "source": [
    "df.mean(axis=0)     #平均值，自動忽略缺失值  #skipna : boolean, default True\n",
    "                    #axis=0，欄位平均值"
   ]
  },
  {
   "cell_type": "code",
   "execution_count": null,
   "metadata": {},
   "outputs": [],
   "source": [
    "df.mean(0)     #平均值，自動忽略缺失值  #skipna : boolean, default True\n",
    "                    #axis=0，欄位平均值"
   ]
  },
  {
   "cell_type": "code",
   "execution_count": null,
   "metadata": {
    "scrolled": true
   },
   "outputs": [],
   "source": [
    "df.mean(axis=1)      #axis=1，列平均值"
   ]
  },
  {
   "cell_type": "code",
   "execution_count": null,
   "metadata": {},
   "outputs": [],
   "source": [
    "df.iloc[1,3]=5.0                 #修改df[1,3]值為5，讓5出現兩次\n",
    "df['D'].value_counts()           #統計資料重複個數，作為長條圖統計用\n"
   ]
  },
  {
   "cell_type": "code",
   "execution_count": null,
   "metadata": {},
   "outputs": [],
   "source": [
    "df"
   ]
  },
  {
   "cell_type": "code",
   "execution_count": null,
   "metadata": {},
   "outputs": [],
   "source": [
    "df.shift(periods=2,axis=0)      # 向下shift   ，periods=2 次數                "
   ]
  },
  {
   "cell_type": "code",
   "execution_count": null,
   "metadata": {},
   "outputs": [],
   "source": [
    "df.shift(periods=1,axis=1)     # axis=1 水平shiftt，periods=-1 次數，向右shif "
   ]
  },
  {
   "cell_type": "code",
   "execution_count": null,
   "metadata": {},
   "outputs": [],
   "source": [
    "df.shift(periods=-1,axis=1)     # axis=1 水平shift，periods=-1 次數 ，向左shift"
   ]
  },
  {
   "cell_type": "code",
   "execution_count": null,
   "metadata": {},
   "outputs": [],
   "source": []
  },
  {
   "cell_type": "markdown",
   "metadata": {},
   "source": [
    "# 資料分析模組"
   ]
  },
  {
   "cell_type": "code",
   "execution_count": null,
   "metadata": {
    "scrolled": false
   },
   "outputs": [],
   "source": [
    "df4 = pd.DataFrame({'A':[i for i in range(8)], \n",
    "                    'B':[np.random.randint(10,15) for i in range(8)],\n",
    "                    'C':[np.random.randint(20,30) for i in range(8)], \n",
    "                    'D':[np.random.randint(80,100) for i in range(8)]}\n",
    "                  )\n",
    "df4"
   ]
  },
  {
   "cell_type": "code",
   "execution_count": null,
   "metadata": {},
   "outputs": [],
   "source": [
    "df4"
   ]
  },
  {
   "cell_type": "code",
   "execution_count": null,
   "metadata": {},
   "outputs": [],
   "source": [
    "p1 = df4[:3]\n",
    "p2 = df4[3:7]\n",
    "p3 = df4[7:]\n",
    "\n",
    "df40 = pd.concat([p1, p2, p3])\n",
    "df40"
   ]
  },
  {
   "cell_type": "code",
   "execution_count": null,
   "metadata": {},
   "outputs": [],
   "source": [
    "df4 == df40"
   ]
  },
  {
   "cell_type": "markdown",
   "metadata": {},
   "source": [
    "## 其他: 合併dataframe: pandas.concat"
   ]
  },
  {
   "cell_type": "code",
   "execution_count": null,
   "metadata": {},
   "outputs": [],
   "source": [
    "df3=df4[5:]  \n",
    "df2=pd.concat([df3,df4])   # index沒有改變\n",
    "df2"
   ]
  },
  {
   "cell_type": "code",
   "execution_count": null,
   "metadata": {},
   "outputs": [],
   "source": [
    "df3=df4[5:]  \n",
    "df2=pd.concat([df3,df4], ignore_index=True)    # index重新調整為依序\n",
    "df2"
   ]
  },
  {
   "cell_type": "code",
   "execution_count": null,
   "metadata": {},
   "outputs": [],
   "source": []
  },
  {
   "cell_type": "code",
   "execution_count": null,
   "metadata": {
    "scrolled": false
   },
   "outputs": [],
   "source": [
    "df4 = pd.DataFrame({'A':[np.random.randint(1,5) for i in range(8)], \n",
    "                    'B':[np.random.randint(10,15) for i in range(8)],\n",
    "                    'C':[np.random.randint(20,30) for i in range(8)], \n",
    "                    'D':[np.random.randint(80,100) for i in range(8)]}\n",
    "                  )\n",
    "df4"
   ]
  },
  {
   "cell_type": "code",
   "execution_count": null,
   "metadata": {
    "scrolled": false
   },
   "outputs": [],
   "source": [
    "df4.sort_values(by='A')   # 資料呈現的順序"
   ]
  },
  {
   "cell_type": "code",
   "execution_count": null,
   "metadata": {
    "scrolled": false
   },
   "outputs": [],
   "source": [
    "df4.groupby('A').sum()      # 將A欄位相同的加總   "
   ]
  },
  {
   "cell_type": "code",
   "execution_count": null,
   "metadata": {
    "scrolled": false
   },
   "outputs": [],
   "source": [
    "df4.groupby('A').mean()     # 將A欄位相同的加總後計算平均值     "
   ]
  },
  {
   "cell_type": "markdown",
   "metadata": {},
   "source": [
    "# 動手做 -------------------------------------------------"
   ]
  },
  {
   "cell_type": "markdown",
   "metadata": {},
   "source": [
    "#### 題目: 請用Pandas套件讀取product_stock.csv ，並轉換成DataFrame的型態，再完成以下要求:\n",
    "* 顯示前兩筆紀錄\n",
    "* 輸出\"vinegar\"白醋的進貨紀錄\n",
    "* 統計同商品的總數量並輸出\n",
    "* 依據進貨日期從小到大排序並輸出結果\n",
    " "
   ]
  },
  {
   "cell_type": "code",
   "execution_count": null,
   "metadata": {},
   "outputs": [],
   "source": [
    "import pandas as pd\n",
    "\n",
    "df=pd.read_csv('product_stock.csv', index_col=0)\n",
    "\n",
    "print(df)\n",
    "\n",
    "print(df[:2])\n",
    "\n",
    "print(df[df.index=='vinegar'])\n",
    "\n",
    "print(df.groupby('Product').sum())\n",
    "\n",
    "print(df.sort_values(by='Purchase date'))"
   ]
  },
  {
   "cell_type": "markdown",
   "metadata": {},
   "source": [
    "# ------------------------------------------------------end"
   ]
  }
 ],
 "metadata": {
  "kernelspec": {
   "display_name": "Python 3",
   "language": "python",
   "name": "python3"
  },
  "language_info": {
   "codemirror_mode": {
    "name": "ipython",
    "version": 3
   },
   "file_extension": ".py",
   "mimetype": "text/x-python",
   "name": "python",
   "nbconvert_exporter": "python",
   "pygments_lexer": "ipython3",
   "version": "3.8.3"
  }
 },
 "nbformat": 4,
 "nbformat_minor": 2
}
