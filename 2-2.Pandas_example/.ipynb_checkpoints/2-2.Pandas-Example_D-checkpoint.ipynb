{
 "cells": [
  {
   "cell_type": "markdown",
   "metadata": {},
   "source": [
    "# 動手做 ----------------------------------"
   ]
  },
  {
   "cell_type": "markdown",
   "metadata": {},
   "source": [
    "# 探索泰坦尼克災難數據"
   ]
  },
  {
   "cell_type": "markdown",
   "metadata": {},
   "source": [
    "#### 題目: 讀取titanic.csv，進行泰坦尼克災難數據分析:\n",
    "* 將PassengerId設為index\n",
    "* 船上男女乘客的總人數\n",
    "* 列出船票票價(Fare)平均價格、最高價格與最低價格\n",
    "* 列出各個艙等(Cabin)的船票票價(Fare)平均價格\n",
    "* 列出各個艙等(Cabin)的生還人數(Survived)\n",
    "* 列出三個票價區間(Fare<20, 20>=Fare<200, Fare>=20)的人數和生還人數(Survived)\n",
    "* 列出男、女乘客的平均年齡(Age)、最高年齡與最低年齡\n"
   ]
  },
  {
   "cell_type": "code",
   "execution_count": null,
   "metadata": {},
   "outputs": [],
   "source": [
    "import pandas as pd\n",
    "import matplotlib.pyplot as plt\n",
    "import seaborn as sns\n",
    "import numpy as np"
   ]
  },
  {
   "cell_type": "code",
   "execution_count": null,
   "metadata": {},
   "outputs": [],
   "source": [
    "path = r'C:\\Users\\tsiot07\\Desktop\\00. Python_Code\\2-2.Pandas_example\\titanic.csv'\n",
    "\n",
    "titanic = pd.read_csv(path)\n",
    "titanic.head()"
   ]
  },
  {
   "cell_type": "code",
   "execution_count": null,
   "metadata": {},
   "outputs": [],
   "source": []
  },
  {
   "cell_type": "markdown",
   "metadata": {},
   "source": [
    "# 動手做 ----------------------------------"
   ]
  },
  {
   "cell_type": "markdown",
   "metadata": {},
   "source": [
    "# 探索蘋果公司股價數據"
   ]
  },
  {
   "cell_type": "markdown",
   "metadata": {},
   "source": [
    "#### 題目: 讀取Apple_stock.csv，進行蘋果公司股價分析:\n",
    "* 將Date這個列轉換為datetime類型\n",
    "* 將Date設置為index、* 將index設置為升序\n",
    "* 1981-1-1 ~ 1981-4-30 的股價\n",
    "\n",
    "\n",
    " "
   ]
  },
  {
   "cell_type": "code",
   "execution_count": null,
   "metadata": {},
   "outputs": [],
   "source": [
    "path = r'C:\\Users\\tsiot07\\Desktop\\00. Python_Code\\2-2.Pandas_example\\Apple_stock.csv'\n",
    "\n",
    "apple = pd.read_csv(path)\n",
    "apple.head()"
   ]
  },
  {
   "cell_type": "code",
   "execution_count": null,
   "metadata": {},
   "outputs": [],
   "source": []
  },
  {
   "cell_type": "code",
   "execution_count": null,
   "metadata": {},
   "outputs": [],
   "source": []
  },
  {
   "cell_type": "code",
   "execution_count": null,
   "metadata": {},
   "outputs": [],
   "source": [
    "import os\n",
    "\n",
    "os.getcwd()"
   ]
  },
  {
   "cell_type": "code",
   "execution_count": null,
   "metadata": {},
   "outputs": [],
   "source": []
  }
 ],
 "metadata": {
  "kernelspec": {
   "display_name": "Python 3",
   "language": "python",
   "name": "python3"
  },
  "language_info": {
   "codemirror_mode": {
    "name": "ipython",
    "version": 3
   },
   "file_extension": ".py",
   "mimetype": "text/x-python",
   "name": "python",
   "nbconvert_exporter": "python",
   "pygments_lexer": "ipython3",
   "version": "3.8.3"
  }
 },
 "nbformat": 4,
 "nbformat_minor": 4
}
