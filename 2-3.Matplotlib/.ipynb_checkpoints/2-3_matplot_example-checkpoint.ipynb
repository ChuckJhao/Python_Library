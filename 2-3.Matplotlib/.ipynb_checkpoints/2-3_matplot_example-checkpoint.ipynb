{
 "cells": [
  {
   "cell_type": "markdown",
   "metadata": {},
   "source": [
    "# Example - p68"
   ]
  },
  {
   "cell_type": "markdown",
   "metadata": {},
   "source": [
    "# part 1"
   ]
  },
  {
   "cell_type": "code",
   "execution_count": null,
   "metadata": {},
   "outputs": [],
   "source": [
    "import matplotlib.pyplot as plt\n",
    "import numpy as np\n",
    "import pandas as pd"
   ]
  },
  {
   "cell_type": "code",
   "execution_count": null,
   "metadata": {},
   "outputs": [],
   "source": [
    "import matplotlib.pyplot as plt\n",
    "\n",
    "plt.plot([1,2,3,4],[2,4,9,16], 'ro')    # x軸[1,2,3,4]，y軸[2,4,9,16] ， (x,y) -> (1,2)...\n",
    "plt.xlabel('X_Label')\n",
    "plt.ylabel('Y_label')\n",
    "\n",
    "plt.show()"
   ]
  },
  {
   "cell_type": "code",
   "execution_count": null,
   "metadata": {},
   "outputs": [],
   "source": [
    "import matplotlib.pyplot as plt\n",
    "\n",
    "#內嵌畫圖，可以省略掉plt.show()這一步\n",
    "%matplotlib inline\n",
    "\n",
    "plt.plot([1,2,3,4],[2,4,9,16], 'b--') \n",
    "plt.xlabel('X_Label')\n",
    "plt.ylabel('Y_label')\n",
    "plt.suptitle('My plotting')   # 圖示標題\n"
   ]
  },
  {
   "cell_type": "code",
   "execution_count": null,
   "metadata": {},
   "outputs": [],
   "source": [
    "import numpy as np\n",
    "\n",
    "# evenly sampled time at 200ms intervals\n",
    "t = np.arange(0., 5., 0.2)     # t 變數資料內容\n",
    "\n",
    "# red dashes, blue squares and green triangles\n",
    "plt.plot(t, t, 'r--', t, t**2, 'bs', t, t**3, 'g^')   # 三組線:紅色 t, t, 'r--'；藍色t, t**2, 'bs'；綠色t, t**3, 'g^'\n",
    "\n",
    "plt.legend('ABC', ncol=1, loc='upper left')    # 圖例位置，ncol每行幾個參數"
   ]
  },
  {
   "cell_type": "code",
   "execution_count": null,
   "metadata": {},
   "outputs": [],
   "source": [
    "import numpy as np\n",
    "\n",
    "# evenly sampled time at 200ms intervals\n",
    "t = np.arange(0., 5., 0.2)     # t 變數資料內容\n",
    "\n",
    "# red dashes, blue squares and green triangles\n",
    "plt.plot(t, t, 'r--', t, t**2, 'bs', t, t**3, 'g^')   # 三組線:紅色 t, t, 'r--'；藍色t, t**2, 'bs'；綠色t, t**3, 'g^'\n",
    "\n",
    "plt.yticks(range(0, 110, 10))\n",
    "\n",
    "plt.legend(ncol=1, loc='upper left')    # 圖例位置，ncol每行幾個參數\n",
    "plt.legend(['apple', 'bananas', 'orange']) \n"
   ]
  },
  {
   "cell_type": "code",
   "execution_count": null,
   "metadata": {},
   "outputs": [],
   "source": [
    "# matplotlib.pyplot 指令參數\n",
    "import matplotlib.pyplot as plt\n",
    "\n",
    "help(plt.plot)"
   ]
  },
  {
   "cell_type": "code",
   "execution_count": null,
   "metadata": {},
   "outputs": [],
   "source": [
    "# 和 MATLAB 中類似，我們還可以用字元來指定繪圖的格式：\n",
    "\n",
    "表示顏色的字元參數有：\n",
    "\n",
    "字元\t顏色\n",
    "‘b’\t藍色，blue\n",
    "‘g’\t綠色，green\n",
    "‘r’\t紅色，red\n",
    "‘c’\t青色，cyan\n",
    "‘m’\t品紅，magenta\n",
    "‘y’\t黃色，yellow\n",
    "‘k’\t黑色，black\n",
    "‘w’\t白色，white"
   ]
  },
  {
   "cell_type": "code",
   "execution_count": null,
   "metadata": {},
   "outputs": [],
   "source": [
    "# 和 MATLAB 中類似，我們還可以用字元來指定繪圖的格式：\n",
    "\n",
    "表示顏色的字元參數有：\n",
    "\n",
    "字元\t類型\n",
    "-'\t實線\n",
    "-.'\t虛點線\n",
    ".'\t點\n",
    "o'\t圓點\n",
    "^'\t上三角點\n",
    ">'\t右三角點\n",
    "2'\t上三叉點\n",
    "4'\t右三叉點\n",
    "p'\t五角點\n",
    "h'\t六邊形點1\n",
    "+'\t加號點\n",
    "D'\t實心菱形點\n",
    "\n",
    "字元\t類型\n",
    "--'\t虛線\n",
    ":'\t點線\n",
    ",'\t圖元點\n",
    "v'\t下三角點\n",
    "<'\t左三角點\n",
    "1'\t下三叉點\n",
    "3'\t左三叉點\n",
    "s'\t正方點\n",
    "*'\t星形點\n",
    "H'\t六邊形點2\n",
    "x'\t乘號點\n",
    "d'\t瘦菱形點\n"
   ]
  },
  {
   "cell_type": "code",
   "execution_count": null,
   "metadata": {},
   "outputs": [],
   "source": [
    "# loc 為圖示位置的選擇，可輸入數字或是位置名稱，沒寫則自帶右上。\n",
    "\n",
    "‘best’ : 0| ‘upper right’\n",
    "‘upper left’ : 2,\n",
    "‘lower left’ : 3,\n",
    "‘lower right’ : 4,\n",
    "‘right’ : 5,\n",
    "‘center left’ : 6,\n",
    "‘center right’ : 7,\n",
    "‘lower center’ : 8,\n",
    "‘upper center’ : 9,\n",
    "‘center’ : 10,"
   ]
  },
  {
   "cell_type": "markdown",
   "metadata": {},
   "source": [
    "# Example ----------------------------------"
   ]
  },
  {
   "cell_type": "markdown",
   "metadata": {},
   "source": [
    "* 清潔用品銷售分析"
   ]
  },
  {
   "cell_type": "code",
   "execution_count": null,
   "metadata": {},
   "outputs": [],
   "source": [
    "import pandas as pd\n",
    "import matplotlib.pyplot as plt  \n",
    "\n",
    "df = pd.read_csv(\"company_sales_data.csv\")\n",
    "df"
   ]
  },
  {
   "cell_type": "code",
   "execution_count": null,
   "metadata": {},
   "outputs": [],
   "source": [
    "profitList = df ['total_profit'].tolist()\n",
    "monthList  = df ['month_number'].tolist()\n",
    "print(profitList)\n",
    "print(monthList)"
   ]
  },
  {
   "cell_type": "code",
   "execution_count": null,
   "metadata": {},
   "outputs": [],
   "source": [
    "# 分析每月的profit，x軸(month_number)、y軸(total_profit)"
   ]
  },
  {
   "cell_type": "code",
   "execution_count": null,
   "metadata": {},
   "outputs": [],
   "source": [
    "import pandas as pd\n",
    "import matplotlib.pyplot as plt  \n",
    "\n",
    "df = pd.read_csv(\"company_sales_data.csv\")\n",
    "profitList = df['total_profit'].tolist()\n",
    "monthList  = df['month_number'].tolist()\n",
    "\n",
    "plt.plot(monthList, profitList, 'go')\n",
    "\n",
    "plt.xlabel('Month ')\n",
    "plt.ylabel('Profit (USD)')\n",
    "\n",
    "plt.xticks(monthList)\n",
    "plt.title('ABC Company profit')\n",
    "plt.yticks([100000, 200000, 300000, 400000, 500000])\n",
    "\n",
    "plt.show()"
   ]
  },
  {
   "cell_type": "code",
   "execution_count": null,
   "metadata": {},
   "outputs": [],
   "source": [
    "import pandas as pd\n",
    "import matplotlib.pyplot as plt  \n",
    "\n",
    "df = pd.read_csv(\"company_sales_data.csv\")\n",
    "profitList = df ['total_profit'].tolist()\n",
    "monthList  = df ['month_number'].tolist()\n",
    "\n",
    "plt.plot(monthList, profitList)\n",
    "\n",
    "plt.xlabel('Month ')\n",
    "plt.ylabel('Profit (USD)')\n",
    "\n",
    "plt.xticks(monthList)\n",
    "plt.title('ABC Company profit')\n",
    "plt.yticks([100000, 200000, 300000, 400000, 500000])\n",
    "\n",
    "plt.show()"
   ]
  },
  {
   "cell_type": "markdown",
   "metadata": {},
   "source": [
    "# --------------------------------------------"
   ]
  },
  {
   "cell_type": "markdown",
   "metadata": {},
   "source": [
    "# 動手做 ----------------------------------"
   ]
  },
  {
   "cell_type": "markdown",
   "metadata": {},
   "source": [
    "#### 題目: 讀取company_sales_data.csv，比較:\n",
    "* 圖一:shampoo的每月業績圖"
   ]
  },
  {
   "cell_type": "code",
   "execution_count": null,
   "metadata": {},
   "outputs": [],
   "source": [
    "import pandas as pd\n",
    "import matplotlib.pyplot as plt  \n",
    "\n",
    "df = pd.read_csv(\"company_sales_data.csv\")\n",
    "\n",
    "df.head()"
   ]
  },
  {
   "cell_type": "code",
   "execution_count": null,
   "metadata": {},
   "outputs": [],
   "source": []
  },
  {
   "cell_type": "markdown",
   "metadata": {},
   "source": [
    "# --------------------------------------------"
   ]
  },
  {
   "cell_type": "code",
   "execution_count": null,
   "metadata": {},
   "outputs": [],
   "source": []
  },
  {
   "cell_type": "markdown",
   "metadata": {},
   "source": [
    "# 動手做 ----------------------------------"
   ]
  },
  {
   "cell_type": "markdown",
   "metadata": {},
   "source": [
    "#### 題目: 讀取Apple_stock.csv，進行蘋果公司股價分析:\n",
    "* 將Date這個列轉換為datetime類型\n",
    "* 將Date設置為index \n",
    "* 按照時間順序將股價變化以曲線圖表示\n",
    "* 依據時間，將成交量變化以圖示表示"
   ]
  },
  {
   "cell_type": "code",
   "execution_count": null,
   "metadata": {},
   "outputs": [],
   "source": [
    "import matplotlib.pyplot as plt\n",
    "import numpy as np\n",
    "import pandas as pd\n",
    "\n",
    "path = r'C:\\Users\\tsiot07\\Desktop\\00. Python_Code\\2-2.Pandas_example\\Apple_stock.csv'\n",
    "apple = pd.read_csv(path)\n",
    "\n",
    "apple.Date = pd.to_datetime(apple.Date)\n",
    "apple.set_index('Date')\n",
    "apple"
   ]
  },
  {
   "cell_type": "markdown",
   "metadata": {},
   "source": [
    "# --------------------------------------------"
   ]
  },
  {
   "cell_type": "markdown",
   "metadata": {},
   "source": [
    "# style_sheets - part 2 - p71(同類型先講)"
   ]
  },
  {
   "cell_type": "code",
   "execution_count": null,
   "metadata": {},
   "outputs": [],
   "source": [
    "import matplotlib.pyplot as plt\n",
    "import numpy as np\n",
    "import pandas as pd"
   ]
  },
  {
   "cell_type": "code",
   "execution_count": null,
   "metadata": {},
   "outputs": [],
   "source": [
    "plt.style.use('classic')\n",
    "rng = np.random.RandomState(0)      # 產出的值，存入'0組'，0的值均為相同\n",
    "\n",
    "x = np.linspace(0, 10, 500)         # 0~10線性平均分配500個點\n",
    "y = np.cumsum(rng.randn(500, 6), 0) # 建立一了一個500 X 6的矩陣，cumsum矩陣之累加函數，可以就行向各元素逐一累加，dim=0按照行累加。\n",
    "\n",
    "plt.plot(x, y)\n",
    "plt.legend('ABCDEF', ncol=2, loc='upper left')    # 將6列分別對應ABCDEF"
   ]
  },
  {
   "cell_type": "code",
   "execution_count": null,
   "metadata": {},
   "outputs": [],
   "source": [
    "plt.style.use('dark_background')\n",
    "rng = np.random.RandomState(0)\n",
    "\n",
    "x = np.linspace(0, 10, 500)    # 0~10線性平均分配500個點\n",
    "y = np.cumsum(rng.randn(500, 6), 0)\n",
    "plt.plot(x, y)\n",
    "plt.legend('ABCDEF', ncol=2, loc='upper left')    # 將6列分別對應ABCDEF"
   ]
  },
  {
   "cell_type": "code",
   "execution_count": null,
   "metadata": {},
   "outputs": [],
   "source": [
    "rng = np.random.RandomState()    #RandomState()，沒有參數，每次都不同\n",
    "rng.randn(3, 6)   #從rng取3x6資料"
   ]
  },
  {
   "cell_type": "code",
   "execution_count": null,
   "metadata": {},
   "outputs": [],
   "source": [
    "rng = np.random.RandomState(0)    #固定住，用確定性的算法計算出均勻分佈的隨機數序列\n",
    "rng.randn(3, 6)   #從rng取3x6資料"
   ]
  },
  {
   "cell_type": "code",
   "execution_count": null,
   "metadata": {},
   "outputs": [],
   "source": [
    "rng = np.random.RandomState(0)\n",
    "\n",
    "x = np.linspace(0, 10, 500)    # 0~10線性平均分配500個點\n",
    "#print(x)\n",
    "y = rng.randn(500, 6)   # 500列x6欄個資料\n",
    "#print(y)"
   ]
  },
  {
   "cell_type": "code",
   "execution_count": null,
   "metadata": {},
   "outputs": [],
   "source": [
    "a = np.array([[1,2,3],[4,5,6]])\n",
    "\n",
    "np.cumsum(a)    # cumulate sum 攤平累加的數據組合 [ 1,  3,  6, 10, 15, 21]"
   ]
  },
  {
   "cell_type": "code",
   "execution_count": null,
   "metadata": {},
   "outputs": [],
   "source": [
    "a = np.array([[1,2,3],[4,5,6]])\n",
    "\n",
    "np.cumsum(a,0)    # 垂直累加的數據組合 [[1, 2, 3],[5, 7, 9]]"
   ]
  },
  {
   "cell_type": "code",
   "execution_count": null,
   "metadata": {},
   "outputs": [],
   "source": [
    "rng = np.random.RandomState(0)\n",
    "\n",
    "y = rng.randn(500, 6)   # 500列x6欄個資料\n",
    "\n",
    "z = np.cumsum(rng.randn(500, 6), 0)    \n",
    "print(z)\n",
    "print(z.shape)"
   ]
  },
  {
   "cell_type": "code",
   "execution_count": null,
   "metadata": {},
   "outputs": [],
   "source": [
    "# https://matplotlib.org/3.1.0/gallery/style_sheets/style_sheets_reference.html\n",
    "print(plt.style.available)"
   ]
  },
  {
   "cell_type": "markdown",
   "metadata": {},
   "source": [
    "# matplotlib圖形範例\n",
    "https://matplotlib.org/gallery/index.html"
   ]
  },
  {
   "cell_type": "code",
   "execution_count": null,
   "metadata": {},
   "outputs": [],
   "source": []
  },
  {
   "cell_type": "markdown",
   "metadata": {},
   "source": [
    "# 動手做 -----------------------------"
   ]
  },
  {
   "cell_type": "markdown",
   "metadata": {},
   "source": [
    "#### 題目: 讀取company_sales_data.csv，比較主力產品銷售數據並使用多線圖顯示:\n",
    "* 圖二:比較facecream、facewash、toothpaste的每月銷售落差，分別用不同標籤，加上圖例、標示y座標軸(1000~9000, 間距1000)"
   ]
  },
  {
   "cell_type": "code",
   "execution_count": null,
   "metadata": {},
   "outputs": [],
   "source": []
  },
  {
   "cell_type": "markdown",
   "metadata": {},
   "source": [
    "# -------------------------------------------"
   ]
  },
  {
   "cell_type": "code",
   "execution_count": null,
   "metadata": {},
   "outputs": [],
   "source": []
  },
  {
   "cell_type": "markdown",
   "metadata": {},
   "source": [
    "# 動手做 ----------------------------------"
   ]
  },
  {
   "cell_type": "markdown",
   "metadata": {},
   "source": [
    "#### 題目: 讀取'學生體重平均值(6歲-15歲).csv'，進行學童體重分析:\n",
    "* 各年齡層男生、女生的體重成長趨勢"
   ]
  },
  {
   "cell_type": "code",
   "execution_count": null,
   "metadata": {},
   "outputs": [],
   "source": [
    "import matplotlib.pyplot as plt\n",
    "import numpy as np\n",
    "import pandas as pd\n",
    "\n",
    "path = '學生體重平均值(6歲-15歲).csv'\n",
    "student = pd.read_csv(path)\n",
    "\n",
    "student_mean = student.groupby('年齡').mean()\n",
    "student_mean"
   ]
  },
  {
   "cell_type": "markdown",
   "metadata": {},
   "source": [
    "# ---------------------------------------------"
   ]
  },
  {
   "cell_type": "code",
   "execution_count": null,
   "metadata": {},
   "outputs": [],
   "source": []
  },
  {
   "cell_type": "markdown",
   "metadata": {},
   "source": [
    "# Scatter plot - p69"
   ]
  },
  {
   "cell_type": "code",
   "execution_count": null,
   "metadata": {},
   "outputs": [],
   "source": [
    "import matplotlib.pyplot as plt\n",
    "import numpy as np\n",
    "import pandas as pd"
   ]
  },
  {
   "cell_type": "markdown",
   "metadata": {},
   "source": [
    "## Scatter plot: A scatter plot of y vs x with varying marker size and/or color.\n",
    "https://matplotlib.org/api/_as_gen/matplotlib.pyplot.scatter.html#matplotlib.pyplot.scatter\n"
   ]
  },
  {
   "cell_type": "code",
   "execution_count": null,
   "metadata": {},
   "outputs": [],
   "source": []
  },
  {
   "cell_type": "code",
   "execution_count": null,
   "metadata": {},
   "outputs": [],
   "source": [
    "\n",
    "data = {'a': np.arange(50),\n",
    "        'c': np.random.randint(0, 50, 50),\n",
    "        'd': np.random.randn(50)}                #50個隨機數，from standard normal distribution\n",
    "data['b'] = data['a'] + 10 * np.random.randn(50)\n",
    "data['d'] = np.abs(data['d']) * 100              #重新修正d欄位為正數，並x100\n",
    "\n",
    "#plt.scatter('a', 'b', c='r', data=data)\n",
    "plt.scatter('a', 'b', c='c', s='d', data=data)  #s: scalar size\n",
    "plt.xlabel('entry a')\n",
    "plt.ylabel('entry b')\n",
    "plt.show()"
   ]
  },
  {
   "cell_type": "code",
   "execution_count": null,
   "metadata": {},
   "outputs": [],
   "source": [
    "\n",
    "data = {'a': np.arange(50),\n",
    "        'c': np.random.randint(0, 50, 50),\n",
    "        'd': np.random.randn(50)}\n",
    "data['b'] = data['a'] + 10 * np.random.randn(50)\n",
    "data['d'] = np.abs(data['d']) * 100\n",
    "\n",
    "data"
   ]
  },
  {
   "cell_type": "code",
   "execution_count": null,
   "metadata": {},
   "outputs": [],
   "source": [
    "\n",
    "data = {'a': np.arange(50),\n",
    "        'c': np.random.randint(0, 50, 50),\n",
    "        'd': np.random.randn(50)}\n",
    "data['b'] = data['a'] + 10 * np.random.randn(50)\n",
    "data['d'] = np.abs(data['d']) * 100\n",
    "\n",
    "plt.scatter('a', 'b', c='r', data=data)    #c: 代表color size\n",
    "#plt.scatter('a', 'b', c='c', s='d', data=data)  #s: scalar size"
   ]
  },
  {
   "cell_type": "markdown",
   "metadata": {},
   "source": [
    "# Example"
   ]
  },
  {
   "cell_type": "code",
   "execution_count": null,
   "metadata": {},
   "outputs": [],
   "source": [
    "rng = np.random.RandomState(0)\n",
    "x = rng.randn(100)\n",
    "y = rng.randn(100)\n",
    "colors = rng.rand(100)\n",
    "sizes = 1000 * rng.rand(100)\n",
    "\n",
    "plt.scatter(x, y, c=colors, s=sizes, alpha=0.3,\n",
    "            cmap='viridis')\n",
    "plt.colorbar();  # show color scale"
   ]
  },
  {
   "cell_type": "code",
   "execution_count": null,
   "metadata": {},
   "outputs": [],
   "source": []
  },
  {
   "cell_type": "code",
   "execution_count": null,
   "metadata": {},
   "outputs": [],
   "source": []
  },
  {
   "cell_type": "markdown",
   "metadata": {},
   "source": [
    "# -------------------------------------------------end"
   ]
  },
  {
   "cell_type": "markdown",
   "metadata": {},
   "source": [
    "# Plotting with categorical variables - p70"
   ]
  },
  {
   "cell_type": "code",
   "execution_count": null,
   "metadata": {},
   "outputs": [],
   "source": [
    "names = ['group_a', 'group_b', 'group_c']\n",
    "values = [1, 10, 100]\n",
    "\n",
    "#figure Number: 1 if not provided, a new figure will \n",
    " #be created, and the figure number will be incremented. \n",
    "plt.figure( 1, figsize=(9, 3))  # 建立第一個畫板（figure） (total_width, height)\n",
    "#Add a subplot to the current figure.\n",
    "#subplot(nrows, ncols, index, **kwargs)  # index: ranges from 1 to nrows*ncols. \n",
    "\n",
    "plt.subplot(131)             # 第一個畫板的第1個子圖，equal to subplot(1, 3, 1)\n",
    "plt.bar(names, values)       # 圖的型態 bar\n",
    "\n",
    "plt.subplot(1,3,2)           # 第一個畫板的第2個子圖\n",
    "plt.scatter(names, values)   # 圖的型態 scatter 散點圖\n",
    "\n",
    "plt.subplot(133)             # 第一個畫板的第3個子圖\n",
    "plt.plot(names, values)      # 圖的型態 plot\n",
    "\n",
    "plt.suptitle('Categorical Plotting')\n",
    "plt.show()"
   ]
  },
  {
   "cell_type": "code",
   "execution_count": null,
   "metadata": {},
   "outputs": [],
   "source": [
    "names = ['group_a', 'group_b', 'group_c']\n",
    "values = [1, 10, 100]\n",
    "\n",
    "plt.figure(1, figsize=(7, 7))  #(width, height)\n",
    "\n",
    "plt.subplot(121)  #equal to subplot(1, 2, 1)\n",
    "plt.bar(names, values)\n",
    "\n",
    "plt.subplot(1,2,2)\n",
    "plt.scatter(names, values)\n",
    "\n",
    "plt.suptitle('Categorical Plotting')\n",
    "plt.show()"
   ]
  },
  {
   "cell_type": "markdown",
   "metadata": {},
   "source": [
    "# Example"
   ]
  },
  {
   "cell_type": "code",
   "execution_count": null,
   "metadata": {},
   "outputs": [],
   "source": [
    "* Titanic"
   ]
  },
  {
   "cell_type": "code",
   "execution_count": null,
   "metadata": {
    "scrolled": true
   },
   "outputs": [],
   "source": [
    "import pandas as pd\n",
    "import matplotlib.pyplot as plt\n",
    "import seaborn as sns\n",
    "import numpy as np\n",
    "\n",
    "path = r'C:\\Users\\tsiot07\\Desktop\\00. Python_Code\\2-2.Pandas_example\\titanic.csv'\n",
    "\n",
    "titanic = pd.read_csv(path)\n",
    "titanic.head()\n",
    "\n",
    "names = ['1st class', '3rd class', '2nd class']\n",
    "values = titanic.groupby('Pclass').Survived.sum()\n",
    "\n",
    "plt.figure(1, figsize=(7, 7))  #(width, height)\n",
    "\n",
    "plt.subplot(121)  #equal to subplot(1, 2, 1)\n",
    "plt.bar(names, values)\n",
    "\n",
    "plt.subplot(1,2,2)\n",
    "plt.scatter(names, values)\n",
    "\n",
    "plt.suptitle('Categorical Plotting')\n",
    "plt.show()\n"
   ]
  },
  {
   "cell_type": "code",
   "execution_count": null,
   "metadata": {},
   "outputs": [],
   "source": []
  },
  {
   "cell_type": "markdown",
   "metadata": {},
   "source": [
    "# Lab - p72"
   ]
  },
  {
   "cell_type": "code",
   "execution_count": null,
   "metadata": {
    "scrolled": true
   },
   "outputs": [],
   "source": [
    "df = pd.read_csv(\"company_sales_data.csv\")\n",
    "monthList  = df ['month_number'].tolist()\n",
    "faceCremSalesData   = df ['facecream'].tolist()\n",
    "faceWashSalesData   = df ['facewash'].tolist()\n",
    "\n",
    "plt.bar([a-0.25 for a in monthList], faceCremSalesData, width= 0.25, label = 'Face Cream sales data', align='edge')\n",
    "plt.bar([a+0.25 for a in monthList], faceWashSalesData, width= -0.25, label = 'Face Wash sales data', align='edge')\n",
    "\n",
    "plt.xlabel('Month Number')\n",
    "plt.ylabel('Sales units in number')\n",
    "plt.legend(loc='upper left')\n",
    "plt.title(' Sales data')\n",
    "\n",
    "plt.xticks(monthList)\n",
    "plt.grid(True, linewidth= 1, linestyle=\"--\")\n",
    "plt.title('Facewash and facecream sales data')\n",
    "plt.show()"
   ]
  },
  {
   "cell_type": "code",
   "execution_count": null,
   "metadata": {
    "scrolled": true
   },
   "outputs": [],
   "source": [
    "import numpy as np\n",
    "import matplotlib.pyplot as plt\n",
    " \n",
    "# data to plot\n",
    "n_groups = 4\n",
    "means_frank = (60, 55, 40, 65)\n",
    "means_guido = (85, 62, 54, 20)\n",
    "means_total = (100, 62, 54, 20)\n",
    "# create plot\n",
    "# set figure size.you can comment it out for auto re-size\n",
    "#plt.figure(figsize=(12,2))\n",
    "index = np.arange(n_groups)\n",
    "bar_width = 0.3\n",
    "opacity = 0.8\n",
    "\n",
    "\n",
    "#matplotlib.pyplot.bar(left, height, width=0.8, bottom=None, hold=None, data=None, **kwargs)\n",
    "rects1 = plt.bar(index, means_frank, bar_width,\n",
    "                 alpha=opacity,\n",
    "                 color='b',\n",
    "                 label='Male',align=\"center\")\n",
    " \n",
    "rects2 = plt.bar(index + bar_width, means_guido, bar_width,\n",
    "                 alpha=opacity,\n",
    "                 color='g',\n",
    "                 label='Female',align=\"center\")   #index + bar_width : shift bar位置\n",
    "\n",
    "rects3 = plt.bar(index+bar_width*2, means_total, bar_width,\n",
    "                 alpha=opacity,\n",
    "                 color='r',\n",
    "                 label='total',align=\"center\")\n",
    " \n",
    "plt.xlabel('Education level')\n",
    "plt.ylabel('Smoking percentag')\n",
    "plt.title('Smoking percentag vs Education level')\n",
    "#plt.xticks(index + bar_width, ('A', 'B', 'C', 'D'))\n",
    "plt.legend()\n",
    " \n",
    "plt.tight_layout()\n",
    "\n",
    "\n",
    "\n",
    "def autolabel(rects):   #貼上bar的值\n",
    "    \"\"\"\n",
    "    Attach a text label above each bar displaying its height\n",
    "    \"\"\"\n",
    "    for rect in rects:\n",
    "        height = rect.get_height()\n",
    "        plt.text(rect.get_x() + rect.get_width()/2., 1.02*height,\n",
    "                '%d' % int(height),\n",
    "                ha='center', va='bottom')   #座標x: rect.get_x() + rect.get_width()/2.(bar中間), y:1.02*height (高出bar一點)\n",
    "\n",
    "\n",
    "autolabel(rects1)\n",
    "autolabel(rects2)\n",
    "autolabel(rects3)\n",
    "plt.show()\n"
   ]
  },
  {
   "cell_type": "code",
   "execution_count": null,
   "metadata": {},
   "outputs": [],
   "source": [
    "import numpy as np\n",
    "import matplotlib.pyplot as plt\n",
    " \n",
    "# data to plot\n",
    "n_groups = 4\n",
    "means_frank = (60, 55, 40, 65)\n",
    "means_guido = (85, 62, 54, 20)\n",
    "means_total = (100, 62, 54, 20)\n",
    "# create plot\n",
    "# set figure size.you can comment it out for auto re-size\n",
    "#plt.figure(figsize=(12,2))\n",
    "index = np.arange(n_groups)\n",
    "bar_width = 0.3\n",
    "opacity = 0.8\n",
    "\n",
    "\n",
    "#matplotlib.pyplot.bar(left, height, width=0.8, bottom=None, hold=None, data=None, **kwargs)\n",
    "line1 = plt.plot(index + bar_width, means_frank,\n",
    "                 alpha=opacity,\n",
    "                 color='b', marker='o', linestyle='dashed',\n",
    "                 label='Male')\n",
    "\n",
    "for i,j in list(zip(range(0,4),means_frank)):   # 線上資料標示資料值，i:x軸，j:y軸\n",
    "    plt.text(i + 0.235,j + 2.35,j,fontsize=18)\n",
    "    \n",
    "line2 = plt.plot(index + bar_width, means_guido, \n",
    "                 alpha=opacity,\n",
    "                 color='g', marker='*', linestyle='solid',\n",
    "                 label='Female')\n",
    "\n",
    "for i,j in list(zip(range(0,4),means_guido)):    # list(zip(range(0,4),means_guido)):[(0, 85), (1, 62), (2, 54), (3, 20)]\n",
    "    plt.text(i + 0.235,j + 2.35,j,fontsize=12)\n",
    "    \n",
    "line3 = plt.plot(index + bar_width, means_total, \n",
    "                 alpha=opacity,\n",
    "                 color='y', marker='^', linestyle='solid',\n",
    "                 label='Total')\n",
    "\n",
    "for i,j in list(zip(range(0,4),means_total)):\n",
    "    plt.text(i + 0.235,j + 2.35,j,fontsize=12)\n",
    "    \n",
    " \n",
    "plt.xlabel('Education level')\n",
    "plt.ylabel('Smoking percentag')\n",
    "plt.title('Smoking percentag vs Education level')\n",
    "plt.xticks(index + bar_width, ('A', 'B', 'C', 'D'))\n",
    "plt.legend()\n",
    " \n",
    "plt.tight_layout()\n",
    "\n",
    "plt.show()\n"
   ]
  },
  {
   "cell_type": "code",
   "execution_count": null,
   "metadata": {},
   "outputs": [],
   "source": [
    "list(zip(range(0,4),means_guido))"
   ]
  },
  {
   "cell_type": "code",
   "execution_count": null,
   "metadata": {
    "scrolled": true
   },
   "outputs": [],
   "source": [
    "#調節圖形大小，寬，高\n",
    "plt.figure(figsize=(6,6))\n",
    "#定義餅狀圖的標籤，標籤是列表\n",
    "labels = ['A','B','C','D']\n",
    "# data to plot\n",
    "n_groups = 4\n",
    "means_frank = (60, 55, 40, 65)\n",
    "means_guido = (85, 62, 54, 20)\n",
    "means_total = (100, 62, 54, 20)\n",
    "\n",
    "vec_total = [x+y+z for x, y, z in zip(means_frank, means_guido, means_total)]\n",
    "\n",
    "#每個標籤占多大，會自動去算百分比\n",
    "sizes = vec_total\n",
    "colors = ['orange','red','yellowgreen','lightskyblue']\n",
    "#將某部分爆炸出來， 使用括弧，將第一塊分割出來，數值的大小是分割出來的與其他兩塊的間隙\n",
    "explode = (0.25,0,0,0)\n",
    "\n",
    "patches,l_text,p_text = plt.pie(sizes,\n",
    "                                explode=explode,\n",
    "                                labels=labels,\n",
    "                                colors=colors,\n",
    "                                labeldistance = 1.1,\n",
    "                                autopct = '%3.1f%%',\n",
    "                                shadow = False,\n",
    "                                startangle = 90,\n",
    "                                pctdistance = 0.6)    \n",
    "\n",
    "#labeldistance，文本的位置離遠點有多遠，1.1指1.1倍半徑的位置\n",
    "#autopct，圓裡面的文本格式，%3.1f%%表示小數有三位元，整數有一位元的浮點數\n",
    "#shadow，餅是否有陰影\n",
    "#startangle，起始角度，0，表示從0開始逆時針轉，為第一塊。一般選擇從90度開始比較好看\n",
    "#pctdistance，百分比的text離圓心的距離\n",
    "#patches, l_texts, p_texts，為了得到圓形圖的返回值，p_texts圓形圖內部文本的，l_texts圓形圖外label的文本\n",
    "\n",
    "    \n",
    "# 設置x，y軸刻度一致，這樣圓形圖才能是圓的\n",
    "plt.axis('equal')  # 將 X 軸和 Y 軸設定為相同的範圍\n",
    "\n",
    "plt.title('Smoking percentag vs Education level')\n",
    "#plt.legend()\n",
    "plt.show()\n"
   ]
  },
  {
   "cell_type": "code",
   "execution_count": null,
   "metadata": {},
   "outputs": [],
   "source": [
    "vec_total = [x+y+z for x, y, z in zip(means_frank, means_guido, means_total)]\n",
    "vec_total"
   ]
  },
  {
   "cell_type": "markdown",
   "metadata": {},
   "source": [
    "# 動手做 ----------------------------------------"
   ]
  },
  {
   "cell_type": "markdown",
   "metadata": {},
   "source": [
    "#### 題目: 讀取company_sales_data.csv，閱讀facecream和facewash產品的銷售數據，並使用條形圖顯示:"
   ]
  },
  {
   "cell_type": "code",
   "execution_count": null,
   "metadata": {},
   "outputs": [],
   "source": [
    "import pandas as pd\n",
    "import matplotlib.pyplot as plt  \n",
    "\n",
    "df = pd.read_csv(\"company_sales_data.csv\")\n",
    "df"
   ]
  },
  {
   "cell_type": "code",
   "execution_count": null,
   "metadata": {},
   "outputs": [],
   "source": []
  },
  {
   "cell_type": "code",
   "execution_count": null,
   "metadata": {},
   "outputs": [],
   "source": []
  },
  {
   "cell_type": "markdown",
   "metadata": {},
   "source": [
    "# -------------------------------------------------"
   ]
  },
  {
   "cell_type": "code",
   "execution_count": null,
   "metadata": {},
   "outputs": [],
   "source": []
  },
  {
   "cell_type": "markdown",
   "metadata": {},
   "source": [
    "# 動手做 ----------------------------------------"
   ]
  },
  {
   "cell_type": "markdown",
   "metadata": {},
   "source": [
    "#### 題目: 讀取titanic.csv，進行泰坦尼克災難數據分析:\n",
    "* 繪製一個展示男女乘客比例的圓餅圖\n"
   ]
  },
  {
   "cell_type": "code",
   "execution_count": null,
   "metadata": {},
   "outputs": [],
   "source": [
    "import pandas as pd\n",
    "import matplotlib.pyplot as plt\n",
    "import seaborn as sns\n",
    "import numpy as np"
   ]
  },
  {
   "cell_type": "code",
   "execution_count": null,
   "metadata": {},
   "outputs": [],
   "source": [
    "path = r'C:\\Users\\tsiot07\\Desktop\\00. Python_Code\\2-2.Pandas_example\\titanic.csv'\n",
    "\n",
    "titanic = pd.read_csv(path)\n",
    "titanic.head()\n"
   ]
  },
  {
   "cell_type": "code",
   "execution_count": null,
   "metadata": {},
   "outputs": [],
   "source": []
  },
  {
   "cell_type": "markdown",
   "metadata": {},
   "source": [
    "# -------------------------------------------------"
   ]
  },
  {
   "cell_type": "markdown",
   "metadata": {},
   "source": [
    "# 動手做----------------------------------------"
   ]
  },
  {
   "cell_type": "markdown",
   "metadata": {},
   "source": [
    "#### 題目: 讀取company_sales_data.csv，計算每種產品去年的總銷售數據，並使用餅圖顯示:\n",
    " "
   ]
  },
  {
   "cell_type": "code",
   "execution_count": null,
   "metadata": {},
   "outputs": [],
   "source": [
    "import pandas as pd\n",
    "import matplotlib.pyplot as plt  \n",
    "\n",
    "df = pd.read_csv(\"C:/Users/tsiot07/Desktop/00. Python_Code/2-3.Matplotlib/company_sales_data.csv\")\n",
    "df"
   ]
  },
  {
   "cell_type": "code",
   "execution_count": null,
   "metadata": {},
   "outputs": [],
   "source": []
  },
  {
   "cell_type": "markdown",
   "metadata": {},
   "source": [
    "# -------------------------------------------------"
   ]
  },
  {
   "cell_type": "code",
   "execution_count": null,
   "metadata": {},
   "outputs": [],
   "source": []
  },
  {
   "cell_type": "code",
   "execution_count": null,
   "metadata": {},
   "outputs": [],
   "source": []
  },
  {
   "cell_type": "code",
   "execution_count": null,
   "metadata": {},
   "outputs": [],
   "source": []
  },
  {
   "cell_type": "markdown",
   "metadata": {},
   "source": [
    "# Seaborn - p73"
   ]
  },
  {
   "cell_type": "code",
   "execution_count": null,
   "metadata": {},
   "outputs": [],
   "source": [
    "# http://seaborn.pydata.org/"
   ]
  },
  {
   "cell_type": "code",
   "execution_count": null,
   "metadata": {},
   "outputs": [],
   "source": [
    "直方圖(含KDE)(distplot)\n",
    "sns.distplot(tips['total_bill'])\n",
    "\n",
    "移除KDE隻留直方圖(distplot)\n",
    "sns.distplot(tips['total_bill'],kde=False,bins=30)\n",
    "\n",
    "結合兩種圖及雙變數資料(joinplot)\n",
    "sns.jointplot(x='total_bill',y='tip',data=tips,kind='scatter')\n",
    "\n",
    "#kind的選擇有scatter、reg、resid、kde、hex\n",
    "sns.jointplot(x='total_bill',y='tip',data=tips,kind='hex')\n",
    "sns.jointplot(x='total_bill',y='tip',data=tips,kind='reg')\n",
    "\n",
    "折線圖(pointplot)\n",
    "sns.pointplot(x=\"day\",y=\"tip\",data=tips)\n",
    "\n",
    "多變量圖(pairplot)\n",
    "sns.pairplot(tips)\n",
    "\n",
    "#可設定需要進行多變量繪圖的欄位\n",
    "X = df[['PM25', 'AQI', 'SO2','CO2']]\n",
    "sns.pairplot(X)\n",
    "\n",
    "#可使用hue進一步區分不同變數，palette=顏色主題。\n",
    "sns.pairplot(tips,hue='sex',palette='coolwarm')\n",
    "\n",
    "單一變數於單一X軸上畫出(rugplot)\n",
    "sns.rugplot(tips['total_bill'])\n",
    "\n",
    "核密度圖(kdeplot)\n",
    "sns.kdeplot(tips['total_bill'])\n",
    "\n",
    "sns.rugplot(tips['tip'])\n",
    "柱狀圖(barplot)\n",
    "\n",
    "import numpy as np\n",
    "sns.barplot(x='sex',y='total_bill',data=tips,estimator=np.std)"
   ]
  },
  {
   "cell_type": "markdown",
   "metadata": {},
   "source": [
    "# Seaborn - p74"
   ]
  },
  {
   "cell_type": "code",
   "execution_count": null,
   "metadata": {},
   "outputs": [],
   "source": [
    "import seaborn as sns\n",
    "\n",
    "plt.style.use('classic')\n",
    "rng = np.random.RandomState(0)\n",
    "\n",
    "x = np.linspace(0, 10, 500)    # 0~10線性平均分配500個點\n",
    "y = np.cumsum(rng.randn(500, 6), 0)\n",
    "plt.plot(x, y)\n",
    "plt.legend('ABCDEF', ncol=2, loc='upper left')    # 將6列分別對應ABCDEF"
   ]
  },
  {
   "cell_type": "code",
   "execution_count": null,
   "metadata": {},
   "outputs": [],
   "source": [
    "import seaborn as sns\n",
    "import matplotlib.pyplot as plt\n",
    "import numpy as np\n",
    "import pandas as pd\n",
    "\n",
    "sns.set()\n",
    "\n",
    "#根據實際情況生成一個多元正態分佈矩陣\n",
    "data = np.random.multivariate_normal([0, 0], [[5, 2], [2, 2]], size=2000)\n",
    "data = pd.DataFrame(data, columns=['x', 'y'])\n",
    "\n",
    "for col in 'xy':\n",
    "    data[col].plot.hist(alpha=0.5)"
   ]
  },
  {
   "cell_type": "code",
   "execution_count": null,
   "metadata": {},
   "outputs": [],
   "source": []
  },
  {
   "cell_type": "markdown",
   "metadata": {},
   "source": [
    "# p75"
   ]
  },
  {
   "cell_type": "code",
   "execution_count": null,
   "metadata": {},
   "outputs": [],
   "source": [
    "import numpy as np  \n",
    "import seaborn as sns  \n",
    "import matplotlib.pyplot as plt  \n",
    "\n",
    "sns.set( palette=\"muted\", color_codes=True)  \n",
    "rs = np.random.RandomState(10)  \n",
    "d = rs.normal(size=100)  \n",
    "f, axes = plt.subplots(2, 2, figsize=(7, 7), sharex=True) \n",
    "\n",
    "sns.distplot(d, kde=False, color=\"b\", ax=axes[0, 0])  \n",
    "sns.distplot(d, hist=False, rug=True, color=\"r\", ax=axes[0, 1])  \n",
    "sns.distplot(d, hist=False, color=\"g\", kde_kws={\"shade\": True}, ax=axes[1, 0])  \n",
    "sns.distplot(d, color=\"m\", ax=axes[1, 1])  \n",
    "\n",
    "plt.show()  "
   ]
  },
  {
   "cell_type": "markdown",
   "metadata": {},
   "source": [
    "# p75\n",
    "# pairplot(多變量圖): \n",
    "### Plot pairwise relationships in a dataset.\n",
    "參數 hue:指定分類欄名稱  <br>\n",
    "參數 palette : dict or seaborn color palette\n",
    "      Set of colors for mapping the hue variable. If a dict, keys should be values in the hue variable."
   ]
  },
  {
   "cell_type": "code",
   "execution_count": null,
   "metadata": {},
   "outputs": [],
   "source": [
    "# 使用鳶尾花資料集'iris'練習\n",
    "\n",
    "iris['species'].unique()   # 檢查鳶尾花資料集品種有幾種"
   ]
  },
  {
   "cell_type": "code",
   "execution_count": null,
   "metadata": {},
   "outputs": [],
   "source": []
  },
  {
   "cell_type": "code",
   "execution_count": null,
   "metadata": {},
   "outputs": [],
   "source": []
  },
  {
   "cell_type": "code",
   "execution_count": null,
   "metadata": {
    "scrolled": true
   },
   "outputs": [],
   "source": [
    " #pairplot():Plot pairwise relationships in a dataset.\n",
    " #hue 選擇分類列\n",
    "\n",
    "import matplotlib.pyplot as plt  \n",
    "import seaborn as sns  \n",
    "iris = pd.read_csv('iris.csv')   # 使用鳶尾花資料集'iris'練習\n",
    "\n",
    "sns.set()\n",
    "\n",
    "# 多變量圖(pairplot)\n",
    "sns.pairplot(iris,hue=\"species\")  # 可使用hue進一步區分不同變數，palette=顏色主題\n",
    "\n",
    "plt.show()  "
   ]
  },
  {
   "cell_type": "code",
   "execution_count": null,
   "metadata": {
    "scrolled": false
   },
   "outputs": [],
   "source": [
    "#style設定圖表風格\n",
    "sns.set_style('ticks')\n",
    "\n",
    "import matplotlib.pyplot as plt  \n",
    "import seaborn as sns  \n",
    "iris = pd.read_csv('iris.csv')  \n",
    "\n",
    "sns.set()\n",
    " \n",
    "sns.pairplot(iris,hue=\"species\", )  #hue 指定分類欄名稱\n",
    "\n",
    "plt.show()  "
   ]
  },
  {
   "cell_type": "code",
   "execution_count": null,
   "metadata": {},
   "outputs": [],
   "source": []
  },
  {
   "cell_type": "code",
   "execution_count": null,
   "metadata": {},
   "outputs": [],
   "source": []
  },
  {
   "cell_type": "markdown",
   "metadata": {},
   "source": [
    "# p76"
   ]
  },
  {
   "cell_type": "code",
   "execution_count": null,
   "metadata": {},
   "outputs": [],
   "source": [
    "import seaborn as sns  \n",
    "import matplotlib.pyplot as plt  \n",
    "iris = pd.read_csv('iris.csv')  \n",
    "#print(iris)\n",
    "sns.pairplot(iris, vars=[\"sepal.width\", \"sepal.length\"],hue='species',palette=\"husl\")    \n",
    "plt.show()  \n"
   ]
  },
  {
   "cell_type": "code",
   "execution_count": null,
   "metadata": {},
   "outputs": [],
   "source": [
    "import seaborn as sns  \n",
    "import matplotlib.pyplot as plt  \n",
    "iris = pd.read_csv('iris.csv')  \n",
    "#print(iris)\n",
    "\n",
    "#hue可作為進一步區分特定變數的工具\n",
    "#palette=顏色主題, coolwarm, husl\n",
    "sns.pairplot(iris, vars=[\"sepal.width\", \"sepal.length\"],hue='species',palette=\"coolwarm\")    \n",
    "plt.show()  \n"
   ]
  },
  {
   "cell_type": "code",
   "execution_count": null,
   "metadata": {},
   "outputs": [],
   "source": []
  },
  {
   "cell_type": "markdown",
   "metadata": {},
   "source": [
    "# Working with multiple figures and axes"
   ]
  },
  {
   "cell_type": "code",
   "execution_count": null,
   "metadata": {},
   "outputs": [],
   "source": [
    "mu, sigma = 100, 15\n",
    "x = mu + sigma * np.random.randn(10000)\n",
    "\n",
    "# the histogram of the data\n",
    "n, bins, patches = plt.hist(x, 50, density=1, facecolor='g', alpha=0.75)   #alpha:透明度, density=1(True):這張圖將會以密度(所有資料)為顯示\n",
    "\n",
    "\n",
    "plt.xlabel('Smarts')\n",
    "plt.ylabel('Probability')\n",
    "plt.title('Histogram of IQ')\n",
    "plt.text(60, .025, r'$\\mu=100,\\ \\sigma=15$')   #在圖上產生文字，座標位置60, .025。r後面表示純文字\n",
    "plt.axis([40, 160, 0, 0.03])\n",
    "plt.grid(True)\n",
    "plt.show()"
   ]
  },
  {
   "cell_type": "code",
   "execution_count": null,
   "metadata": {},
   "outputs": [],
   "source": [
    "ax = plt.subplot(111)\n",
    "\n",
    "t = np.arange(0.0, 5.0, 0.01)\n",
    "s = np.cos(2*np.pi*t)\n",
    "line, = plt.plot(t, s, lw=2)\n",
    "\n",
    "plt.annotate('local max', xy=(2, 1), xytext=(3, 1.5),\n",
    "             arrowprops=dict(facecolor='black', shrink=0.05),\n",
    "             )   # 描述指示箭頭的方式\n",
    "\n",
    "plt.ylim(-2, 2)\n",
    "plt.show()"
   ]
  },
  {
   "cell_type": "code",
   "execution_count": null,
   "metadata": {},
   "outputs": [],
   "source": []
  },
  {
   "cell_type": "markdown",
   "metadata": {},
   "source": [
    "# others"
   ]
  },
  {
   "cell_type": "code",
   "execution_count": null,
   "metadata": {},
   "outputs": [],
   "source": [
    "#### 使用distplot可以讓頻次直方圖與KDE(核密度估計圖)結合起來"
   ]
  },
  {
   "cell_type": "code",
   "execution_count": null,
   "metadata": {},
   "outputs": [],
   "source": [
    "import seaborn as sns\n",
    "import numpy as np\n",
    "import matplotlib.pyplot as plt\n",
    "\n",
    "normal_samples = np.random.normal(size = 100000) # 生成 100000 組標準常態分配（平均值為 0，標準差為 1 的常態分配）隨機變數\n",
    "sns.distplot(normal_samples)\n",
    "plt.show() "
   ]
  },
  {
   "cell_type": "code",
   "execution_count": null,
   "metadata": {
    "scrolled": true
   },
   "outputs": [],
   "source": [
    "age1=titanic['Age'].dropna() \n",
    "sns.distplot(age1)  #直方圖(含KDE)(distplot)\n",
    "\n"
   ]
  },
  {
   "cell_type": "code",
   "execution_count": null,
   "metadata": {},
   "outputs": [],
   "source": []
  },
  {
   "cell_type": "code",
   "execution_count": null,
   "metadata": {},
   "outputs": [],
   "source": []
  },
  {
   "cell_type": "markdown",
   "metadata": {},
   "source": [
    "#### sns.jointplot  畫出不同數據集的聯合分布"
   ]
  },
  {
   "cell_type": "code",
   "execution_count": null,
   "metadata": {},
   "outputs": [],
   "source": [
    "import seaborn as sns\n",
    "import pandas as pd\n",
    "import matplotlib.pyplot as plt\n",
    "\n",
    "speed = [4, 4, 7, 7, 8, 9, 10, 10, 10, 11, 11, 12, 12, 12, 12, 13, 13, 13, 13, 14, 14, 14, 14, 15, 15, 15, 16, 16, 17, 17, 17, 18, 18, 18, 18, 19, 19, 19, 20, 20, 20, 20, 20, 22, 23, 24, 24, 24, 24, 25]\n",
    "dist = [2, 10, 4, 22, 16, 10, 18, 26, 34, 17, 28, 14, 20, 24, 28, 26, 34, 34, 46, 26, 36, 60, 80, 20, 26, 54, 32, 40, 32, 40, 50, 42, 56, 76, 84, 36, 46, 68, 32, 48, 52, 56, 64, 66, 54, 70, 92, 93, 120, 85]\n",
    "\n",
    "cars_df = pd.DataFrame(\n",
    "    {\"speed\": speed,\n",
    "     \"dist\": dist\n",
    "    }\n",
    ")\n",
    "\n",
    "sns.jointplot(x = \"speed\", y = \"dist\", data = cars_df)  # 畫出不同數據集的聯合分布\n",
    "plt.show()  "
   ]
  },
  {
   "cell_type": "markdown",
   "metadata": {},
   "source": [
    "##### 需要對多維數據集進行可視化時，最終都要使用矩陣圖(pair plot)。如果想畫出所有變量中任意兩個變量之間的圖形，用矩陣圖探索多維數據不同維度間的相關性非常有效。"
   ]
  },
  {
   "cell_type": "code",
   "execution_count": null,
   "metadata": {
    "scrolled": true
   },
   "outputs": [],
   "source": [
    "import seaborn as sns  \n",
    "import matplotlib.pyplot as plt  \n",
    "iris = pd.read_csv('iris.csv')  \n",
    "\n",
    "sns.set()\n",
    "\n",
    "print(iris)\n",
    "sns.pairplot(iris)    \n",
    "plt.show()  \n"
   ]
  },
  {
   "cell_type": "code",
   "execution_count": null,
   "metadata": {},
   "outputs": [],
   "source": []
  }
 ],
 "metadata": {
  "kernelspec": {
   "display_name": "Python 3",
   "language": "python",
   "name": "python3"
  },
  "language_info": {
   "codemirror_mode": {
    "name": "ipython",
    "version": 3
   },
   "file_extension": ".py",
   "mimetype": "text/x-python",
   "name": "python",
   "nbconvert_exporter": "python",
   "pygments_lexer": "ipython3",
   "version": "3.8.3"
  }
 },
 "nbformat": 4,
 "nbformat_minor": 2
}
