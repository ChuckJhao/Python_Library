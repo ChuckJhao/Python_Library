{
 "cells": [
  {
   "cell_type": "markdown",
   "metadata": {},
   "source": [
    "# numpy"
   ]
  },
  {
   "cell_type": "markdown",
   "metadata": {},
   "source": [
    "# start to learn numpy - different between list"
   ]
  },
  {
   "cell_type": "code",
   "execution_count": 1,
   "metadata": {},
   "outputs": [
    {
     "name": "stdout",
     "output_type": "stream",
     "text": [
      "[11, 22, 33, 44]\n"
     ]
    }
   ],
   "source": [
    "list = [11, 22, 33, 44]\n",
    "\n",
    "print(list)\n"
   ]
  },
  {
   "cell_type": "code",
   "execution_count": 3,
   "metadata": {},
   "outputs": [
    {
     "data": {
      "text/plain": [
       "array([11, 22, 33, 44])"
      ]
     },
     "execution_count": 3,
     "metadata": {},
     "output_type": "execute_result"
    }
   ],
   "source": [
    "import numpy as np\n",
    "\n",
    "list = [11, 22, 33, 44]\n",
    "\n",
    "data = np.array(list)   # 轉換成numpy陣列\n",
    "\n",
    "data"
   ]
  },
  {
   "cell_type": "code",
   "execution_count": 2,
   "metadata": {},
   "outputs": [
    {
     "name": "stdout",
     "output_type": "stream",
     "text": [
      "[11 22 33 44]\n",
      "[33 44]\n"
     ]
    }
   ],
   "source": [
    "import numpy as np\n",
    "\n",
    "list = [11, 22, 33, 44]\n",
    "\n",
    "data = np.array(list)   # 轉換成numpy陣列\n",
    "\n",
    "print(data)\n",
    "print(data[2:])"
   ]
  },
  {
   "cell_type": "code",
   "execution_count": 4,
   "metadata": {},
   "outputs": [
    {
     "name": "stdout",
     "output_type": "stream",
     "text": [
      "[11, 22, 33, 44, 55, 66, 77, 88, 99, 1, 2, 3, 4, 5, 6, 7, 8, 9]\n",
      "[ 12  24  36  48  60  72  84  96 108]\n"
     ]
    }
   ],
   "source": [
    "import numpy as np\n",
    "\n",
    "list1 = [11, 22, 33, 44, 55, 66, 77, 88, 99]\n",
    "list2 = [1, 2, 3, 4, 5, 6, 7, 8, 9]\n",
    "\n",
    "print(list1 + list2)\n",
    "\n",
    "data1 = np.array(list1)\n",
    "data2 = np.array(list2)   \n",
    "\n",
    "print(data1 + data2)\n"
   ]
  },
  {
   "cell_type": "code",
   "execution_count": 5,
   "metadata": {},
   "outputs": [
    {
     "name": "stdout",
     "output_type": "stream",
     "text": [
      "[4, 5, 6, 7, 8, 9]\n",
      "[False, False, False, True, True, True, True, True, True]\n",
      "\n",
      "[4 5 6 7 8 9]\n",
      "[False False False  True  True  True  True  True  True]\n",
      "<class 'numpy.ndarray'>\n"
     ]
    }
   ],
   "source": [
    "import numpy as np\n",
    "\n",
    "list1 = [11, 22, 33, 44, 55, 66, 77, 88, 99]\n",
    "list2 = [1, 2, 3, 4, 5, 6, 7, 8, 9]\n",
    "\n",
    "print([i for i in list2 if i > 3])\n",
    "print([i>3 for i in list2])\n",
    "print()\n",
    "\n",
    "\n",
    "data1 = np.array(list1)\n",
    "data2 = np.array(list2)   \n",
    "\n",
    "print(data2[data2 > 3])\n",
    "print(data2 > 3)\n",
    "print(type(data2[data2 > 3]))"
   ]
  },
  {
   "cell_type": "code",
   "execution_count": null,
   "metadata": {},
   "outputs": [],
   "source": []
  },
  {
   "cell_type": "markdown",
   "metadata": {},
   "source": [
    "#  Numpy.ndarray - Attribute"
   ]
  },
  {
   "cell_type": "code",
   "execution_count": 6,
   "metadata": {},
   "outputs": [
    {
     "name": "stdout",
     "output_type": "stream",
     "text": [
      "2\n",
      "(2, 3)\n",
      "6\n",
      "int32\n",
      "4\n"
     ]
    }
   ],
   "source": [
    "import numpy as np\n",
    "\n",
    "a = np.array([[1, 2, 3], [4, 5, 6]])\n",
    "\n",
    "print(a.ndim)\n",
    "print(a.shape)\n",
    "print(a.size)\n",
    "print(a.dtype)\n",
    "print(a.itemsize)\n",
    " "
   ]
  },
  {
   "cell_type": "code",
   "execution_count": 14,
   "metadata": {},
   "outputs": [
    {
     "name": "stdout",
     "output_type": "stream",
     "text": [
      "3\n",
      "(3, 2, 2)\n",
      "12\n",
      "float64\n",
      "8\n"
     ]
    }
   ],
   "source": [
    "import numpy as np\n",
    "\n",
    "a = np.array([[[5., 2.], [4., 2.]],[[1., 3.],[2., 3.]],[[1., 1.],[0., 1.]]])\n",
    "\n",
    "print(a.ndim)\n",
    "print(a.shape)\n",
    "print(a.size)\n",
    "print(a.dtype)\n",
    "print(a.itemsize)\n",
    " "
   ]
  },
  {
   "cell_type": "code",
   "execution_count": null,
   "metadata": {},
   "outputs": [],
   "source": []
  },
  {
   "cell_type": "markdown",
   "metadata": {},
   "source": [
    "#  生成ndarray"
   ]
  },
  {
   "cell_type": "code",
   "execution_count": 16,
   "metadata": {},
   "outputs": [
    {
     "name": "stdout",
     "output_type": "stream",
     "text": [
      "[1 2 3 4 5]\n",
      "<class 'numpy.ndarray'>\n",
      "[5 6 7 8 9]\n",
      "<class 'numpy.ndarray'>\n"
     ]
    }
   ],
   "source": [
    "import numpy as np\n",
    "\n",
    "a = np.array((1, 2, 3, 4, 5))\n",
    "b = np.array([5, 6, 7, 8, 9])\n",
    "print(a)\n",
    "print(type(a))\n",
    "print(b)\n",
    "print(type(b))"
   ]
  },
  {
   "cell_type": "code",
   "execution_count": 25,
   "metadata": {},
   "outputs": [
    {
     "name": "stdout",
     "output_type": "stream",
     "text": [
      "[0 1 2 3 4]\n",
      "[ 1  6 11 16 21 26 31 36 41 46 51 56 61 66 71 76 81 86 91 96]\n",
      "1, 6, 11, 16, 21, 26, 31, 36, 41, 46, 51, 56, 61, 66, 71, 76, 81, 86, 91, 96, "
     ]
    }
   ],
   "source": [
    "import numpy as np\n",
    "\n",
    "a = np.array(range(5))\n",
    "b = np.array(range(1, 100, 5))\n",
    "print(a)\n",
    "print(b)\n",
    "for i in b: print(i, end=', ')"
   ]
  },
  {
   "cell_type": "code",
   "execution_count": 18,
   "metadata": {},
   "outputs": [
    {
     "data": {
      "text/plain": [
       "array([[1, 2, 3],\n",
       "       [4, 5, 6]])"
      ]
     },
     "execution_count": 18,
     "metadata": {},
     "output_type": "execute_result"
    }
   ],
   "source": [
    "import numpy as np\n",
    "\n",
    "np.array([[1, 2, 3], [4, 5, 6]])"
   ]
  },
  {
   "cell_type": "code",
   "execution_count": 26,
   "metadata": {},
   "outputs": [
    {
     "data": {
      "text/plain": [
       "array([ 0.,  1.,  2.,  3.,  4.,  5.,  6.,  7.,  8.,  9., 10.])"
      ]
     },
     "execution_count": 26,
     "metadata": {},
     "output_type": "execute_result"
    }
   ],
   "source": [
    "import numpy as np\n",
    "\n",
    "np.linspace(0, 10, 11)  #建立起始點是0，終止點是10，並且包含11個元素的等差數列"
   ]
  },
  {
   "cell_type": "code",
   "execution_count": 27,
   "metadata": {},
   "outputs": [
    {
     "data": {
      "text/plain": [
       "array([0. , 0.1, 0.2, 0.3, 0.4, 0.5, 0.6, 0.7, 0.8, 0.9, 1. ])"
      ]
     },
     "execution_count": 27,
     "metadata": {},
     "output_type": "execute_result"
    }
   ],
   "source": [
    "import numpy as np\n",
    "\n",
    "np.linspace(0, 1, 11)  #建立起始點是0，終止點是1，並且包含11個元素的等差數列"
   ]
  },
  {
   "cell_type": "code",
   "execution_count": 28,
   "metadata": {},
   "outputs": [
    {
     "data": {
      "text/plain": [
       "array([1.00000000e+000, 1.29154967e+011, 1.66810054e+022, 2.15443469e+033,\n",
       "       2.78255940e+044, 3.59381366e+055, 4.64158883e+066, 5.99484250e+077,\n",
       "       7.74263683e+088, 1.00000000e+100])"
      ]
     },
     "execution_count": 28,
     "metadata": {},
     "output_type": "execute_result"
    }
   ],
   "source": [
    "import numpy as np\n",
    "\n",
    "np.logspace(0, 100, 10)"
   ]
  },
  {
   "cell_type": "code",
   "execution_count": 29,
   "metadata": {},
   "outputs": [
    {
     "data": {
      "text/plain": [
       "array([1.e+01, 1.e+02, 1.e+03, 1.e+04, 1.e+05, 1.e+06, 1.e+07, 1.e+08,\n",
       "       1.e+09, 1.e+10])"
      ]
     },
     "execution_count": 29,
     "metadata": {},
     "output_type": "execute_result"
    }
   ],
   "source": [
    "import numpy as np\n",
    "\n",
    "np.logspace(1, 10, 10)  #建立初始指數是1，包含10個元素的等比數列"
   ]
  },
  {
   "cell_type": "code",
   "execution_count": 33,
   "metadata": {},
   "outputs": [
    {
     "data": {
      "text/plain": [
       "array([1.e+010, 1.e+100])"
      ]
     },
     "execution_count": 33,
     "metadata": {},
     "output_type": "execute_result"
    }
   ],
   "source": [
    "import numpy as np\n",
    "\n",
    "np.logspace(10, 100, 2, base=10)  #底數預設是10, 1.e+010 = 1*10^10"
   ]
  },
  {
   "cell_type": "code",
   "execution_count": 30,
   "metadata": {},
   "outputs": [
    {
     "data": {
      "text/plain": [
       "array([   2.,    4.,    8.,   16.,   32.,   64.,  128.,  256.,  512.,\n",
       "       1024.])"
      ]
     },
     "execution_count": 30,
     "metadata": {},
     "output_type": "execute_result"
    }
   ],
   "source": [
    "import numpy as np\n",
    "\n",
    "np.logspace(1, 10, 10, base=2)"
   ]
  },
  {
   "cell_type": "code",
   "execution_count": null,
   "metadata": {},
   "outputs": [],
   "source": []
  },
  {
   "cell_type": "markdown",
   "metadata": {},
   "source": [
    "# numpy基礎教學 -1"
   ]
  },
  {
   "cell_type": "code",
   "execution_count": 34,
   "metadata": {},
   "outputs": [
    {
     "name": "stdout",
     "output_type": "stream",
     "text": [
      "[[0. 0. 0.]\n",
      " [0. 0. 0.]\n",
      " [0. 0. 0.]]\n"
     ]
    }
   ],
   "source": [
    "import numpy as np\n",
    "\n",
    "a = np.zeros((3,3)) # '.' 代表浮點數\n",
    "print(a)"
   ]
  },
  {
   "cell_type": "code",
   "execution_count": 35,
   "metadata": {},
   "outputs": [
    {
     "name": "stdout",
     "output_type": "stream",
     "text": [
      "[[0.]\n",
      " [0.]\n",
      " [0.]]\n"
     ]
    }
   ],
   "source": [
    "import numpy as np\n",
    "\n",
    "a = np.zeros((3,1))\n",
    "print(a)"
   ]
  },
  {
   "cell_type": "code",
   "execution_count": 36,
   "metadata": {},
   "outputs": [
    {
     "name": "stdout",
     "output_type": "stream",
     "text": [
      "[[0. 0. 0.]]\n"
     ]
    }
   ],
   "source": [
    "import numpy as np\n",
    "\n",
    "a = np.zeros((1,3))\n",
    "print(a)"
   ]
  },
  {
   "cell_type": "code",
   "execution_count": 37,
   "metadata": {},
   "outputs": [
    {
     "name": "stdout",
     "output_type": "stream",
     "text": [
      "[[1. 1. 1.]\n",
      " [1. 1. 1.]\n",
      " [1. 1. 1.]]\n"
     ]
    }
   ],
   "source": [
    "import numpy as np\n",
    "\n",
    "a = np.ones((3,3))\n",
    "print(a)"
   ]
  },
  {
   "cell_type": "code",
   "execution_count": 38,
   "metadata": {},
   "outputs": [
    {
     "name": "stdout",
     "output_type": "stream",
     "text": [
      "float64\n"
     ]
    }
   ],
   "source": [
    "import numpy as np\n",
    "\n",
    "a = np.ones((3,3))\n",
    "print(a.dtype)"
   ]
  },
  {
   "cell_type": "code",
   "execution_count": null,
   "metadata": {},
   "outputs": [],
   "source": []
  },
  {
   "cell_type": "markdown",
   "metadata": {},
   "source": [
    "# numpy基礎教學 -2"
   ]
  },
  {
   "cell_type": "code",
   "execution_count": 39,
   "metadata": {},
   "outputs": [
    {
     "name": "stdout",
     "output_type": "stream",
     "text": [
      "[[1. 1. 1.]]\n"
     ]
    }
   ],
   "source": [
    "import numpy as np\n",
    "\n",
    "a = np.ones((1,3))\n",
    "print(a)"
   ]
  },
  {
   "cell_type": "code",
   "execution_count": 40,
   "metadata": {},
   "outputs": [
    {
     "name": "stdout",
     "output_type": "stream",
     "text": [
      "[[1. 0. 0.]\n",
      " [0. 1. 0.]\n",
      " [0. 0. 1.]]\n"
     ]
    }
   ],
   "source": [
    "import numpy as np\n",
    "\n",
    "a = np.identity(3)  # 單位矩陣，對角線是1\n",
    "print(a)"
   ]
  },
  {
   "cell_type": "code",
   "execution_count": 41,
   "metadata": {},
   "outputs": [
    {
     "name": "stdout",
     "output_type": "stream",
     "text": [
      "[[1. 0.]\n",
      " [0. 1.]]\n"
     ]
    }
   ],
   "source": [
    "import numpy as np\n",
    "\n",
    "a = np.identity(2)\n",
    "print(a)"
   ]
  },
  {
   "cell_type": "code",
   "execution_count": 42,
   "metadata": {},
   "outputs": [
    {
     "name": "stdout",
     "output_type": "stream",
     "text": [
      "[[1. 0. 0.]\n",
      " [0. 1. 0.]\n",
      " [0. 0. 1.]]\n"
     ]
    }
   ],
   "source": [
    "import numpy as np\n",
    "\n",
    "a = np.empty((3,3))  # 初始化，內容不穩定\n",
    "print(a)"
   ]
  },
  {
   "cell_type": "code",
   "execution_count": null,
   "metadata": {},
   "outputs": [],
   "source": []
  },
  {
   "cell_type": "markdown",
   "metadata": {},
   "source": [
    "# ndarray與數值的運算"
   ]
  },
  {
   "cell_type": "code",
   "execution_count": 43,
   "metadata": {},
   "outputs": [
    {
     "data": {
      "text/plain": [
       "array([1, 2, 3, 4, 5])"
      ]
     },
     "execution_count": 43,
     "metadata": {},
     "output_type": "execute_result"
    }
   ],
   "source": [
    "import numpy as np\n",
    "\n",
    "x = np.array((1, 2, 3, 4, 5))\n",
    "x\n"
   ]
  },
  {
   "cell_type": "code",
   "execution_count": 44,
   "metadata": {},
   "outputs": [
    {
     "data": {
      "text/plain": [
       "array([ 2,  4,  6,  8, 10])"
      ]
     },
     "execution_count": 44,
     "metadata": {},
     "output_type": "execute_result"
    }
   ],
   "source": [
    "import numpy as np\n",
    "\n",
    "x = np.array((1, 2, 3, 4, 5))\n",
    "x * 2"
   ]
  },
  {
   "cell_type": "code",
   "execution_count": 45,
   "metadata": {},
   "outputs": [
    {
     "data": {
      "text/plain": [
       "array([0.5, 1. , 1.5, 2. , 2.5])"
      ]
     },
     "execution_count": 45,
     "metadata": {},
     "output_type": "execute_result"
    }
   ],
   "source": [
    "import numpy as np\n",
    "\n",
    "x = np.array((1, 2, 3, 4, 5))\n",
    "x / 2"
   ]
  },
  {
   "cell_type": "code",
   "execution_count": 46,
   "metadata": {},
   "outputs": [
    {
     "data": {
      "text/plain": [
       "array([0, 1, 1, 2, 2], dtype=int32)"
      ]
     },
     "execution_count": 46,
     "metadata": {},
     "output_type": "execute_result"
    }
   ],
   "source": [
    "import numpy as np\n",
    "\n",
    "x = np.array((1, 2, 3, 4, 5))\n",
    "x // 2"
   ]
  },
  {
   "cell_type": "code",
   "execution_count": 47,
   "metadata": {},
   "outputs": [
    {
     "data": {
      "text/plain": [
       "array([  1,   8,  27,  64, 125], dtype=int32)"
      ]
     },
     "execution_count": 47,
     "metadata": {},
     "output_type": "execute_result"
    }
   ],
   "source": [
    "import numpy as np\n",
    "\n",
    "x = np.array((1, 2, 3, 4, 5))\n",
    "x ** 3"
   ]
  },
  {
   "cell_type": "code",
   "execution_count": 183,
   "metadata": {},
   "outputs": [
    {
     "data": {
      "text/plain": [
       "array([3, 4, 5, 6, 7])"
      ]
     },
     "execution_count": 183,
     "metadata": {},
     "output_type": "execute_result"
    }
   ],
   "source": [
    "import numpy as np\n",
    "\n",
    "x = np.array((1, 2, 3, 4, 5))\n",
    "x + 2"
   ]
  },
  {
   "cell_type": "code",
   "execution_count": 48,
   "metadata": {},
   "outputs": [
    {
     "data": {
      "text/plain": [
       "array([1, 2, 0, 1, 2], dtype=int32)"
      ]
     },
     "execution_count": 48,
     "metadata": {},
     "output_type": "execute_result"
    }
   ],
   "source": [
    "import numpy as np\n",
    "\n",
    "x = np.array((1, 2, 3, 4, 5))\n",
    "x % 3"
   ]
  },
  {
   "cell_type": "code",
   "execution_count": null,
   "metadata": {},
   "outputs": [],
   "source": []
  },
  {
   "cell_type": "markdown",
   "metadata": {},
   "source": [
    "# 動手做 -------------------------------------------------"
   ]
  },
  {
   "cell_type": "markdown",
   "metadata": {},
   "source": [
    "#### 題目:  將數字轉換成萬元\n",
    "* 範例:\n",
    "    * input: 10000000, 2400000, 4200000, 15600000\n",
    "    * output: [1000  240  420 1560]"
   ]
  },
  {
   "cell_type": "code",
   "execution_count": 64,
   "metadata": {},
   "outputs": [
    {
     "data": {
      "text/html": [
       "<div>\n",
       "<style scoped>\n",
       "    .dataframe tbody tr th:only-of-type {\n",
       "        vertical-align: middle;\n",
       "    }\n",
       "\n",
       "    .dataframe tbody tr th {\n",
       "        vertical-align: top;\n",
       "    }\n",
       "\n",
       "    .dataframe thead th {\n",
       "        text-align: right;\n",
       "    }\n",
       "</style>\n",
       "<table border=\"1\" class=\"dataframe\">\n",
       "  <thead>\n",
       "    <tr style=\"text-align: right;\">\n",
       "      <th></th>\n",
       "      <th>Name</th>\n",
       "      <th>May</th>\n",
       "      <th>June</th>\n",
       "    </tr>\n",
       "    <tr>\n",
       "      <th>ID</th>\n",
       "      <th></th>\n",
       "      <th></th>\n",
       "      <th></th>\n",
       "    </tr>\n",
       "  </thead>\n",
       "  <tbody>\n",
       "    <tr>\n",
       "      <th>10901</th>\n",
       "      <td>David</td>\n",
       "      <td>10000000</td>\n",
       "      <td>8000000</td>\n",
       "    </tr>\n",
       "    <tr>\n",
       "      <th>10902</th>\n",
       "      <td>Tommy</td>\n",
       "      <td>2400000</td>\n",
       "      <td>3600000</td>\n",
       "    </tr>\n",
       "    <tr>\n",
       "      <th>10903</th>\n",
       "      <td>Jack</td>\n",
       "      <td>4200000</td>\n",
       "      <td>6600000</td>\n",
       "    </tr>\n",
       "    <tr>\n",
       "      <th>10904</th>\n",
       "      <td>Jimmy</td>\n",
       "      <td>15600000</td>\n",
       "      <td>16000000</td>\n",
       "    </tr>\n",
       "  </tbody>\n",
       "</table>\n",
       "</div>"
      ],
      "text/plain": [
       "        Name       May      June\n",
       "ID                              \n",
       "10901  David  10000000   8000000\n",
       "10902  Tommy   2400000   3600000\n",
       "10903   Jack   4200000   6600000\n",
       "10904  Jimmy  15600000  16000000"
      ]
     },
     "execution_count": 64,
     "metadata": {},
     "output_type": "execute_result"
    }
   ],
   "source": [
    "import pandas as pd\n",
    "\n",
    "pd.read_csv('sales_revenue.csv', index_col = 0) "
   ]
  },
  {
   "cell_type": "code",
   "execution_count": 65,
   "metadata": {},
   "outputs": [
    {
     "name": "stdout",
     "output_type": "stream",
     "text": [
      "[1000  240  420 1560]\n"
     ]
    }
   ],
   "source": [
    "import numpy as np\n",
    "\n",
    "x = np.array((10000000, 2400000, 4200000, 15600000))\n",
    "print(x // 10000)"
   ]
  },
  {
   "cell_type": "markdown",
   "metadata": {},
   "source": [
    "# ------------------------------------------------------end"
   ]
  },
  {
   "cell_type": "markdown",
   "metadata": {},
   "source": [
    "# ndarray間的運算"
   ]
  },
  {
   "cell_type": "code",
   "execution_count": 66,
   "metadata": {},
   "outputs": [
    {
     "name": "stdout",
     "output_type": "stream",
     "text": [
      "[[ 1  4  9]\n",
      " [ 4 10 18]\n",
      " [ 7 16 27]]\n",
      "[[1. 2. 3.]\n",
      " [1. 2. 3.]\n",
      " [1. 2. 3.]]\n",
      "[[1. 2. 3.]\n",
      " [4. 5. 6.]\n",
      " [7. 8. 9.]]\n"
     ]
    }
   ],
   "source": [
    "import numpy as np\n",
    "\n",
    "a = np.array((1, 2, 3))\n",
    "b = np.array(([1, 2, 3], [4, 5, 6], [7, 8, 9]))\n",
    "\n",
    "c = a*b\n",
    "print(c)\n",
    "\n",
    "print(c/b)\n",
    "\n",
    "print(c/a)"
   ]
  },
  {
   "cell_type": "markdown",
   "metadata": {},
   "source": [
    "# ndarray的轉置"
   ]
  },
  {
   "cell_type": "code",
   "execution_count": 68,
   "metadata": {},
   "outputs": [
    {
     "name": "stdout",
     "output_type": "stream",
     "text": [
      "[[1 2 3]\n",
      " [4 5 6]\n",
      " [7 8 9]]\n",
      "--------------\n",
      "[[1 4 7]\n",
      " [2 5 8]\n",
      " [3 6 9]]\n"
     ]
    }
   ],
   "source": [
    "import numpy as np\n",
    "\n",
    "b = np.array(([1, 2, 3], [4, 5, 6], [7, 8, 9]))\n",
    "print(b)\n",
    "print('--------------')\n",
    "\n",
    "print(b.T)"
   ]
  },
  {
   "cell_type": "code",
   "execution_count": 69,
   "metadata": {},
   "outputs": [
    {
     "name": "stdout",
     "output_type": "stream",
     "text": [
      "[1 2 3 4]\n",
      "--------------\n",
      "[1 2 3 4]\n"
     ]
    }
   ],
   "source": [
    "import numpy as np\n",
    "\n",
    "a = np.array((1, 2, 3, 4))\n",
    "print(a)\n",
    "print('--------------')\n",
    "\n",
    "print(a.T)"
   ]
  },
  {
   "cell_type": "code",
   "execution_count": 78,
   "metadata": {},
   "outputs": [
    {
     "name": "stdout",
     "output_type": "stream",
     "text": [
      "[1 2 3 4]\n",
      "(4,)\n",
      "--------------\n",
      "[1 2 3 4]\n",
      "(4,)\n"
     ]
    }
   ],
   "source": [
    "import numpy as np\n",
    "\n",
    "a = np.array((1, 2, 3, 4))\n",
    "print(a)\n",
    "print(a.shape)\n",
    "print('--------------')\n",
    "\n",
    "b = a.T\n",
    "print(b.T)\n",
    "print(b.shape)"
   ]
  },
  {
   "cell_type": "code",
   "execution_count": 76,
   "metadata": {},
   "outputs": [
    {
     "name": "stdout",
     "output_type": "stream",
     "text": [
      "[1 2 3 4]\n",
      "--------------\n",
      "[[1]\n",
      " [2]\n",
      " [3]\n",
      " [4]]\n",
      "(4, 1)\n"
     ]
    }
   ],
   "source": [
    "import numpy as np\n",
    "\n",
    "a = np.array((1, 2, 3, 4))\n",
    "print(a)\n",
    "print('--------------')\n",
    "\n",
    "c = a.reshape(4,1)\n",
    "print(c)\n",
    "print(c.shape)"
   ]
  },
  {
   "cell_type": "markdown",
   "metadata": {},
   "source": [
    "# ndarray向量內積"
   ]
  },
  {
   "cell_type": "code",
   "execution_count": 81,
   "metadata": {},
   "outputs": [
    {
     "name": "stdout",
     "output_type": "stream",
     "text": [
      "60202\n",
      "60202\n"
     ]
    }
   ],
   "source": [
    "import numpy as np\n",
    "\n",
    "a = np.array((1, 20, 300))\n",
    "b = np.array((2, 10, 200))\n",
    "\n",
    "print(a.dot(b))\n",
    "\n",
    "print(np.dot(a, b))"
   ]
  },
  {
   "cell_type": "code",
   "execution_count": 83,
   "metadata": {},
   "outputs": [
    {
     "name": "stdout",
     "output_type": "stream",
     "text": [
      "[1 2 3]\n",
      "[[ 1  1  1]\n",
      " [20 20 20]]\n",
      "---------\n",
      "[  6 120]\n"
     ]
    }
   ],
   "source": [
    "import numpy as np\n",
    "\n",
    "a = np.array((1, 2, 3))\n",
    "c = np.array(([1, 1, 1], [20, 20, 20]))\n",
    "#cT = c.T\n",
    "print(a)\n",
    "print(c)\n",
    "\n",
    "print('---------')\n",
    "print(c.dot(a))"
   ]
  },
  {
   "cell_type": "code",
   "execution_count": 84,
   "metadata": {},
   "outputs": [
    {
     "name": "stdout",
     "output_type": "stream",
     "text": [
      "[   6  120 1800]\n",
      "6\n",
      "120\n",
      "1800\n"
     ]
    }
   ],
   "source": [
    "import numpy as np\n",
    "\n",
    "a = np.array((1, 2, 3))\n",
    "c = np.array(([1, 1, 1], [20, 20, 20], [300, 300, 300]))\n",
    "\n",
    "print(c.dot(a))\n",
    "print(c[0].dot(a))\n",
    "print(c[1].dot(a))\n",
    "print(c[2].dot(a))"
   ]
  },
  {
   "cell_type": "code",
   "execution_count": 85,
   "metadata": {},
   "outputs": [
    {
     "name": "stdout",
     "output_type": "stream",
     "text": [
      "[1 2 3]\n",
      "[[  1  20 300]\n",
      " [  1  20 300]\n",
      " [  1  20 300]]\n",
      "---------\n",
      "[941 941 941]\n"
     ]
    }
   ],
   "source": [
    "import numpy as np\n",
    "\n",
    "a = np.array((1, 2, 3))\n",
    "c = np.array(([1, 1, 1], [20, 20, 20], [300, 300, 300]))\n",
    "cT = c.T\n",
    "print(a)\n",
    "print(cT)\n",
    "\n",
    "print('---------')\n",
    "print(cT.dot(a))"
   ]
  },
  {
   "cell_type": "code",
   "execution_count": 86,
   "metadata": {},
   "outputs": [
    {
     "name": "stdout",
     "output_type": "stream",
     "text": [
      "941\n",
      "941\n",
      "941\n"
     ]
    }
   ],
   "source": [
    "import numpy as np\n",
    "\n",
    "a = np.array((1, 2, 3))\n",
    "c = np.array(([1, 1, 1], [20, 20, 20], [300, 300, 300]))\n",
    "cT = c.T\n",
    "\n",
    "print(cT[0].dot(a))\n",
    "print(cT[1].dot(a))\n",
    "print(cT[2].dot(a))"
   ]
  },
  {
   "cell_type": "markdown",
   "metadata": {},
   "source": [
    "# 陣列元素訪問"
   ]
  },
  {
   "cell_type": "code",
   "execution_count": 87,
   "metadata": {},
   "outputs": [
    {
     "name": "stdout",
     "output_type": "stream",
     "text": [
      "[[1 2 3]\n",
      " [4 5 6]\n",
      " [7 8 9]]\n"
     ]
    }
   ],
   "source": [
    "import numpy as np\n",
    "\n",
    "b = np.array(([1, 2, 3], [4, 5, 6], [7, 8, 9]))\n",
    "\n",
    "print(b)"
   ]
  },
  {
   "cell_type": "code",
   "execution_count": 88,
   "metadata": {},
   "outputs": [
    {
     "name": "stdout",
     "output_type": "stream",
     "text": [
      "[1 2 3]\n"
     ]
    }
   ],
   "source": [
    "import numpy as np\n",
    "\n",
    "b = np.array(([1, 2, 3], [4, 5, 6], [7, 8, 9]))\n",
    "\n",
    "print(b[0])"
   ]
  },
  {
   "cell_type": "code",
   "execution_count": 89,
   "metadata": {},
   "outputs": [
    {
     "name": "stdout",
     "output_type": "stream",
     "text": [
      "1\n"
     ]
    }
   ],
   "source": [
    "import numpy as np\n",
    "\n",
    "b = np.array(([1, 2, 3], [4, 5, 6], [7, 8, 9]))\n",
    "\n",
    "print(b[0][0])"
   ]
  },
  {
   "cell_type": "markdown",
   "metadata": {},
   "source": [
    "# 陣列間多元素同時訪問"
   ]
  },
  {
   "cell_type": "code",
   "execution_count": 90,
   "metadata": {},
   "outputs": [
    {
     "name": "stdout",
     "output_type": "stream",
     "text": [
      "[ 0. 10. 20. 30. 40. 50. 60. 70. 80. 90.]\n"
     ]
    }
   ],
   "source": [
    "import numpy as np\n",
    "\n",
    "x = np.arange(0, 100, 10, dtype = np.floating)\n",
    "\n",
    "print(x)"
   ]
  },
  {
   "cell_type": "code",
   "execution_count": 91,
   "metadata": {},
   "outputs": [
    {
     "name": "stdout",
     "output_type": "stream",
     "text": [
      "[ 0 20 40 60 80]\n"
     ]
    }
   ],
   "source": [
    "import numpy as np\n",
    "\n",
    "x = np.arange(0, 100, 20, dtype = np.int)\n",
    "\n",
    "print(x)"
   ]
  },
  {
   "cell_type": "code",
   "execution_count": 92,
   "metadata": {},
   "outputs": [
    {
     "name": "stdout",
     "output_type": "stream",
     "text": [
      "[ 0 10 20 30 40 50 60 70 80 90]\n",
      "[10 30 50]\n"
     ]
    }
   ],
   "source": [
    "import numpy as np\n",
    "\n",
    "x = np.arange(0, 100, 10, dtype = np.int)\n",
    "\n",
    "print(x)\n",
    "print(x[[1, 3, 5]])"
   ]
  },
  {
   "cell_type": "markdown",
   "metadata": {},
   "source": [
    "# 動手做 -------------------------------------------------"
   ]
  },
  {
   "cell_type": "markdown",
   "metadata": {},
   "source": [
    "#### 題目:  利用numpy模組產生一個1~200的偶數10x10的矩陣、和一個1~200的奇數10x10的矩陣，並將兩個矩陣的偶數列進行交換:\n"
   ]
  },
  {
   "cell_type": "code",
   "execution_count": 222,
   "metadata": {},
   "outputs": [
    {
     "name": "stdout",
     "output_type": "stream",
     "text": [
      "a:\n",
      "[[  2   4   6   8  10  12  14  16  18  20]\n",
      " [ 22  24  26  28  30  32  34  36  38  40]\n",
      " [ 42  44  46  48  50  52  54  56  58  60]\n",
      " [ 62  64  66  68  70  72  74  76  78  80]\n",
      " [ 82  84  86  88  90  92  94  96  98 100]\n",
      " [102 104 106 108 110 112 114 116 118 120]\n",
      " [122 124 126 128 130 132 134 136 138 140]\n",
      " [142 144 146 148 150 152 154 156 158 160]\n",
      " [162 164 166 168 170 172 174 176 178 180]\n",
      " [182 184 186 188 190 192 194 196 198 200]]\n",
      "b:\n",
      "[[  1   3   5   7   9  11  13  15  17  19]\n",
      " [ 21  23  25  27  29  31  33  35  37  39]\n",
      " [ 41  43  45  47  49  51  53  55  57  59]\n",
      " [ 61  63  65  67  69  71  73  75  77  79]\n",
      " [ 81  83  85  87  89  91  93  95  97  99]\n",
      " [101 103 105 107 109 111 113 115 117 119]\n",
      " [121 123 125 127 129 131 133 135 137 139]\n",
      " [141 143 145 147 149 151 153 155 157 159]\n",
      " [161 163 165 167 169 171 173 175 177 179]\n",
      " [181 183 185 187 189 191 193 195 197 199]]\n",
      "交換後:\n",
      "a:\n",
      "[[  2   4   6   8  10  12  14  16  18  20]\n",
      " [ 21  23  25  27  29  31  33  35  37  39]\n",
      " [ 42  44  46  48  50  52  54  56  58  60]\n",
      " [ 61  63  65  67  69  71  73  75  77  79]\n",
      " [ 82  84  86  88  90  92  94  96  98 100]\n",
      " [101 103 105 107 109 111 113 115 117 119]\n",
      " [122 124 126 128 130 132 134 136 138 140]\n",
      " [141 143 145 147 149 151 153 155 157 159]\n",
      " [162 164 166 168 170 172 174 176 178 180]\n",
      " [181 183 185 187 189 191 193 195 197 199]]\n",
      "b:\n",
      "[[  1   3   5   7   9  11  13  15  17  19]\n",
      " [ 22  24  26  28  30  32  34  36  38  40]\n",
      " [ 41  43  45  47  49  51  53  55  57  59]\n",
      " [ 62  64  66  68  70  72  74  76  78  80]\n",
      " [ 81  83  85  87  89  91  93  95  97  99]\n",
      " [102 104 106 108 110 112 114 116 118 120]\n",
      " [121 123 125 127 129 131 133 135 137 139]\n",
      " [142 144 146 148 150 152 154 156 158 160]\n",
      " [161 163 165 167 169 171 173 175 177 179]\n",
      " [182 184 186 188 190 192 194 196 198 200]]\n"
     ]
    }
   ],
   "source": [
    "import numpy as np\n",
    "\n",
    "a = np.arange(2, 201, 2).reshape(10, 10)\n",
    "b = np.arange(1, 200, 2).reshape(10, 10)\n",
    "print('a:')\n",
    "print(a)\n",
    "\n",
    "print('b:')\n",
    "print(b)\n",
    "print('交換後:')\n",
    "\n",
    "a[range(1, 10, 2)], b[range(1, 10, 2)] = b[range(1, 10, 2)], a[range(1, 10, 2)]\n",
    "\n",
    "print('a:')\n",
    "print(a)\n",
    "print('b:')\n",
    "print(b)\n",
    "\n"
   ]
  },
  {
   "cell_type": "markdown",
   "metadata": {},
   "source": [
    "# ------------------------------------------------------end"
   ]
  },
  {
   "cell_type": "markdown",
   "metadata": {},
   "source": [
    "# numpy其他運算"
   ]
  },
  {
   "cell_type": "code",
   "execution_count": 93,
   "metadata": {},
   "outputs": [
    {
     "name": "stdout",
     "output_type": "stream",
     "text": [
      "[2 1 1 5 2]\n"
     ]
    }
   ],
   "source": [
    "import numpy as np\n",
    "\n",
    "index = np.random.randint(0, 10, 5)\n",
    "\n",
    "print(index)"
   ]
  },
  {
   "cell_type": "code",
   "execution_count": 97,
   "metadata": {},
   "outputs": [
    {
     "name": "stdout",
     "output_type": "stream",
     "text": [
      "[1 1 1 0 1 1 0 1 0 1]\n"
     ]
    }
   ],
   "source": [
    "import numpy as np\n",
    "\n",
    "index = np.random.randint(2, size = 10)\n",
    "\n",
    "print(index)"
   ]
  },
  {
   "cell_type": "code",
   "execution_count": 98,
   "metadata": {},
   "outputs": [
    {
     "name": "stdout",
     "output_type": "stream",
     "text": [
      "[1, 1, 1, 0, 2, 0, 1, 0, 1, 1]\n",
      "[0, 0, 1, 0, 0, 0, 0, 0, 0, 1]\n"
     ]
    }
   ],
   "source": [
    "import random  # 比較非numpy的作法\n",
    "\n",
    "a = [random.randint(0, 2) for i in range(10)]\n",
    "print(a)\n",
    "\n",
    "b = [random.randrange(0, 2) for i in range(10)]\n",
    "print(b)"
   ]
  },
  {
   "cell_type": "code",
   "execution_count": 100,
   "metadata": {},
   "outputs": [
    {
     "name": "stdout",
     "output_type": "stream",
     "text": [
      "[9 9 8 6 5]\n"
     ]
    }
   ],
   "source": [
    "import numpy as np\n",
    "\n",
    "x = [ 0, 10, 20, 30, 40, 50, 60, 70, 80, 90]\n",
    "index = np.random.randint(0, len(x), 5)\n",
    "\n",
    "print(index)"
   ]
  },
  {
   "cell_type": "code",
   "execution_count": 101,
   "metadata": {},
   "outputs": [
    {
     "name": "stdout",
     "output_type": "stream",
     "text": [
      "[ 0.46948264  0.16125054  1.15891714 -0.47655604  1.21817345]\n"
     ]
    }
   ],
   "source": [
    "import numpy as np\n",
    "\n",
    "noise = np.random.standard_normal(5)\n",
    "\n",
    "print(noise)"
   ]
  },
  {
   "cell_type": "code",
   "execution_count": null,
   "metadata": {},
   "outputs": [],
   "source": [
    "import numpy as np\n",
    "\n",
    "noise_1 = np.random.standard_normal(5)\n",
    "noise_2 = np.random.standard_normal(5)*0.3\n",
    "\n",
    "print(noise_1)\n",
    "print(noise_2)"
   ]
  },
  {
   "cell_type": "code",
   "execution_count": 11,
   "metadata": {},
   "outputs": [
    {
     "name": "stdout",
     "output_type": "stream",
     "text": [
      "[9 2 6 7 7]\n",
      "[90. 20. 60. 70. 70.]\n"
     ]
    }
   ],
   "source": [
    "import numpy as np\n",
    "\n",
    "x = np.arange(0, 100, 10, dtype = np.floating)\n",
    "index = np.random.randint(0, len(x), 5)\n",
    "print(index)\n",
    "print(x[index])"
   ]
  },
  {
   "cell_type": "code",
   "execution_count": 8,
   "metadata": {},
   "outputs": [
    {
     "name": "stdout",
     "output_type": "stream",
     "text": [
      "[19.93554749 30.18209907 30.18209907 19.93554749 -0.17699849]\n"
     ]
    }
   ],
   "source": [
    "import numpy as np\n",
    "\n",
    "x = np.arange(0, 100, 10, dtype = np.floating)\n",
    "index = np.random.randint(0, len(x), 5)\n",
    "noise_2 = np.random.standard_normal(5)*0.3\n",
    "\n",
    "x[index] += noise_2\n",
    "print(x[index])"
   ]
  },
  {
   "cell_type": "code",
   "execution_count": 105,
   "metadata": {},
   "outputs": [
    {
     "data": {
      "text/plain": [
       "array([ 0.99297156, -0.12698785,  0.47676033,  0.64262133,  0.86850975,\n",
       "       -0.76243055, -1.9612335 , -0.27896152,  0.24994145, -0.44410069])"
      ]
     },
     "execution_count": 105,
     "metadata": {},
     "output_type": "execute_result"
    }
   ],
   "source": [
    "import numpy as np\n",
    "\n",
    "mu = 0\n",
    "sigma = 1\n",
    "np.random.normal(mu, sigma, size = 10)"
   ]
  },
  {
   "cell_type": "code",
   "execution_count": 106,
   "metadata": {},
   "outputs": [
    {
     "data": {
      "text/plain": [
       "array([73.67781742, 79.54526801, 73.28235403, 85.72822653, 87.45629355,\n",
       "       82.48159707, 69.28841663, 84.87471344, 72.88999238, 75.01511471])"
      ]
     },
     "execution_count": 106,
     "metadata": {},
     "output_type": "execute_result"
    }
   ],
   "source": [
    "import numpy as np\n",
    "\n",
    "mu = 80            # 平均數\n",
    "sigma = 5          # 標準差\n",
    "np.random.normal(mu, sigma, size = 10)"
   ]
  },
  {
   "cell_type": "code",
   "execution_count": 110,
   "metadata": {},
   "outputs": [
    {
     "data": {
      "image/png": "[encoded data removed]",
      "text/plain": [
       "<Figure size 432x288 with 1 Axes>"
      ]
     },
     "metadata": {
      "needs_background": "light"
     },
     "output_type": "display_data"
    }
   ],
   "source": [
    "import matplotlib.pyplot as plt\n",
    "\n",
    "data = np.random.normal(80, 3, size = 1000)\n",
    "ax = plt.hist(data)   # 繪製直方圖\n",
    "plt.show()"
   ]
  },
  {
   "cell_type": "code",
   "execution_count": 119,
   "metadata": {},
   "outputs": [
    {
     "data": {
      "image/png": "[encoded data removed]",
      "text/plain": [
       "<Figure size 432x288 with 1 Axes>"
      ]
     },
     "metadata": {
      "needs_background": "light"
     },
     "output_type": "display_data"
    }
   ],
   "source": [
    "import matplotlib.pyplot as plt\n",
    "import seaborn as sns\n",
    "\n",
    "data = np.random.normal(80, 3, size = 1000000)\n",
    "ax = plt.hist(data)   \n",
    "plt.show()"
   ]
  },
  {
   "cell_type": "code",
   "execution_count": 118,
   "metadata": {},
   "outputs": [
    {
     "data": {
      "image/png": "[encoded data removed]",
      "text/plain": [
       "<Figure size 432x288 with 1 Axes>"
      ]
     },
     "metadata": {
      "needs_background": "light"
     },
     "output_type": "display_data"
    }
   ],
   "source": [
    "import matplotlib.pyplot as plt\n",
    "import seaborn as sns\n",
    "\n",
    "data = np.random.normal(80, 3, size = 1000000)\n",
    "sns.distplot(data)    \n",
    "plt.show()"
   ]
  },
  {
   "cell_type": "markdown",
   "metadata": {},
   "source": [
    "# numpy其他運算 - part 2"
   ]
  },
  {
   "cell_type": "code",
   "execution_count": 123,
   "metadata": {},
   "outputs": [
    {
     "name": "stdout",
     "output_type": "stream",
     "text": [
      "[ 0. 10. 20. 30. 40. 50. 60. 70. 80. 90.]\n",
      "[ 0.         -0.54402111  0.91294525 -0.98803162  0.74511316 -0.26237485\n",
      " -0.30481062  0.77389068 -0.99388865  0.89399666]\n"
     ]
    }
   ],
   "source": [
    "import numpy as np\n",
    "\n",
    "x = np.arange(0, 100, 10, dtype = np.floating)\n",
    "\n",
    "print(x)\n",
    "print(np.sin(x))"
   ]
  },
  {
   "cell_type": "code",
   "execution_count": 124,
   "metadata": {},
   "outputs": [
    {
     "name": "stdout",
     "output_type": "stream",
     "text": [
      "[[ 0.54030231 -0.41614684 -0.9899925 ]\n",
      " [-0.65364362  0.28366219  0.96017029]\n",
      " [ 0.75390225 -0.14550003 -0.91113026]]\n"
     ]
    }
   ],
   "source": [
    "import numpy as np\n",
    "\n",
    "b = np.array(([1, 2, 3], [4, 5, 6], [7, 8, 9]))\n",
    "\n",
    "print(np.cos(b))"
   ]
  },
  {
   "cell_type": "code",
   "execution_count": 126,
   "metadata": {},
   "outputs": [
    {
     "name": "stdout",
     "output_type": "stream",
     "text": [
      "[[ 0.54030231 -0.41614684 -0.9899925 ]\n",
      " [-0.65364362  0.28366219  0.96017029]\n",
      " [ 0.75390225 -0.14550003 -0.91113026]]\n",
      "[[ 1. -0. -1.]\n",
      " [-1.  0.  1.]\n",
      " [ 1. -0. -1.]]\n"
     ]
    }
   ],
   "source": [
    "import numpy as np\n",
    "\n",
    "b = np.array(([1, 2, 3], [4, 5, 6], [7, 8, 9]))\n",
    "c = np.cos(b)\n",
    "print(c)\n",
    "print(np.round(c))"
   ]
  },
  {
   "cell_type": "markdown",
   "metadata": {},
   "source": [
    "# numpy其他運算 - part 3"
   ]
  },
  {
   "cell_type": "code",
   "execution_count": 128,
   "metadata": {},
   "outputs": [
    {
     "name": "stdout",
     "output_type": "stream",
     "text": [
      "[0.15180993 0.17976451 0.8129904  0.60577504 0.25801106 0.78356041\n",
      " 0.7357021  0.02398472 0.92200958 0.03129135]\n",
      "[1.51809929 1.79764505 8.12990402 6.0577504  2.58011056 7.83560405\n",
      " 7.35702102 0.23984723 9.22009576 0.3129135 ]\n",
      "[1. 1. 8. 6. 2. 7. 7. 0. 9. 0.]\n",
      "[ 2.  2.  9.  7.  3.  8.  8.  1. 10.  1.]\n"
     ]
    }
   ],
   "source": [
    "import numpy as np\n",
    "\n",
    "x = np.random.rand(10)\n",
    "print(x)\n",
    "\n",
    "x = x*10\n",
    "print(x)\n",
    "\n",
    "print(np.floor(x))\n",
    "\n",
    "print(np.ceil(x))"
   ]
  },
  {
   "cell_type": "markdown",
   "metadata": {},
   "source": [
    "# 指定不同維度上的計算"
   ]
  },
  {
   "cell_type": "code",
   "execution_count": 129,
   "metadata": {},
   "outputs": [
    {
     "name": "stdout",
     "output_type": "stream",
     "text": [
      "[0 1 2 3 4 5 6 7 8 9]\n",
      "[[0 1 2 3 4]\n",
      " [5 6 7 8 9]]\n",
      "[[0 1]\n",
      " [2 3]\n",
      " [4 5]\n",
      " [6 7]\n",
      " [8 9]]\n"
     ]
    }
   ],
   "source": [
    "import numpy as np\n",
    "\n",
    "x = np.arange(0, 10)\n",
    "print(x)\n",
    "\n",
    "y = x.reshape(2, 5)\n",
    "print(y)\n",
    "\n",
    "z = x.reshape(5, 2)\n",
    "print(z)"
   ]
  },
  {
   "cell_type": "code",
   "execution_count": 130,
   "metadata": {},
   "outputs": [
    {
     "name": "stdout",
     "output_type": "stream",
     "text": [
      "[[0 1 2 3 4]\n",
      " [5 6 7 8 9]]\n"
     ]
    }
   ],
   "source": [
    "import numpy as np\n",
    "\n",
    "x = np.arange(0, 10).reshape(2, 5)\n",
    "print(x)"
   ]
  },
  {
   "cell_type": "code",
   "execution_count": 16,
   "metadata": {},
   "outputs": [
    {
     "name": "stdout",
     "output_type": "stream",
     "text": [
      "[0 2 4 6 8]\n",
      "[[0]\n",
      " [2]\n",
      " [4]\n",
      " [6]\n",
      " [8]]\n"
     ]
    }
   ],
   "source": [
    "import numpy as np\n",
    "\n",
    "x = np.arange(0, 10, 2)\n",
    "print(x)\n",
    "\n",
    "y = x.reshape(5, 1)\n",
    "print(y)"
   ]
  },
  {
   "cell_type": "code",
   "execution_count": 20,
   "metadata": {},
   "outputs": [
    {
     "name": "stdout",
     "output_type": "stream",
     "text": [
      "[[0 1 2 3 4]\n",
      " [5 6 7 8 9]]\n",
      "45\n"
     ]
    }
   ],
   "source": [
    "import numpy as np\n",
    "\n",
    "x = np.arange(0, 10).reshape(2, 5)\n",
    "print(x)\n",
    "\n",
    "y = np.sum(x)\n",
    "print(y)"
   ]
  },
  {
   "cell_type": "code",
   "execution_count": 25,
   "metadata": {},
   "outputs": [
    {
     "name": "stdout",
     "output_type": "stream",
     "text": [
      "[[0 1 2 3 4]\n",
      " [5 6 7 8 9]]\n",
      "[ 5  7  9 11 13]\n"
     ]
    }
   ],
   "source": [
    "import numpy as np\n",
    "\n",
    "x = np.arange(0, 10).reshape(2, 5)\n",
    "print(x)\n",
    "\n",
    "y = np.sum(x, axis=0)\n",
    "print(y)"
   ]
  },
  {
   "cell_type": "code",
   "execution_count": 131,
   "metadata": {},
   "outputs": [
    {
     "name": "stdout",
     "output_type": "stream",
     "text": [
      "[[0 1 2 3 4]\n",
      " [5 6 7 8 9]]\n",
      "[10 35]\n"
     ]
    }
   ],
   "source": [
    "import numpy as np\n",
    "\n",
    "x = np.arange(0, 10).reshape(2, 5)\n",
    "print(x)\n",
    "\n",
    "z = np.sum(x, axis=1)\n",
    "print(z)"
   ]
  },
  {
   "cell_type": "code",
   "execution_count": 143,
   "metadata": {},
   "outputs": [
    {
     "name": "stdout",
     "output_type": "stream",
     "text": [
      "36.0\n",
      "[25.  30.5 36.  41.5 47. ]\n",
      "[ 2. 70.]\n"
     ]
    }
   ],
   "source": [
    "import numpy as np\n",
    "\n",
    "x = [[0, 1, 2, 3, 4],[50, 60, 70, 80, 90]]\n",
    "\n",
    "y = np.mean(x)\n",
    "print(y)\n",
    "\n",
    "z1 = np.mean(x, axis=0)\n",
    "print(z1)\n",
    "\n",
    "z2 = np.mean(x, axis=1)\n",
    "print(z2)"
   ]
  },
  {
   "cell_type": "code",
   "execution_count": 144,
   "metadata": {},
   "outputs": [
    {
     "name": "stdout",
     "output_type": "stream",
     "text": [
      "[[0, 1, 2, 3, 4], [50, 60, 70, 80, 90]]\n",
      "[35.  42.3 49.6 56.9 64.2]\n"
     ]
    }
   ],
   "source": [
    "import numpy as np\n",
    "\n",
    "x = [[0, 1, 2, 3, 4],[50, 60, 70, 80, 90]]\n",
    "print(x)\n",
    "\n",
    "weight = [0.3, 0.7]\n",
    "y = np.average(x, axis=0, weights=weight)\n",
    "print(y)"
   ]
  },
  {
   "cell_type": "code",
   "execution_count": 145,
   "metadata": {},
   "outputs": [
    {
     "name": "stdout",
     "output_type": "stream",
     "text": [
      "[[0, 1, 2, 3, 4], [50, 60, 70, 80, 90]]\n",
      "[ 5.   6.9  8.8 10.7 12.6]\n"
     ]
    }
   ],
   "source": [
    "import numpy as np\n",
    "\n",
    "x = [[0, 1, 2, 3, 4],[50, 60, 70, 80, 90]]\n",
    "print(x)\n",
    "\n",
    "weight = [0.9, 0.1]\n",
    "y = np.average(x, axis=0, weights=weight)\n",
    "print(y)"
   ]
  },
  {
   "cell_type": "code",
   "execution_count": 146,
   "metadata": {},
   "outputs": [
    {
     "name": "stdout",
     "output_type": "stream",
     "text": [
      "[[0, 1, 2, 3, 4], [50, 60, 70, 80, 90]]\n",
      "[35.  42.3 49.6 56.9 64.2]\n"
     ]
    }
   ],
   "source": [
    "import numpy as np\n",
    "\n",
    "x = [[0, 1, 2, 3, 4],[50, 60, 70, 80, 90]]\n",
    "print(x)\n",
    "\n",
    "y = np.average(x, axis=0, weights=[0.3, 0.7])\n",
    "print(y)"
   ]
  },
  {
   "cell_type": "code",
   "execution_count": 147,
   "metadata": {},
   "outputs": [
    {
     "name": "stdout",
     "output_type": "stream",
     "text": [
      "[[0, 1, 2, 3, 4], [50, 60, 70, 80, 90]]\n",
      "[25.  30.5 36.  41.5 47. ]\n"
     ]
    }
   ],
   "source": [
    "import numpy as np\n",
    "\n",
    "x = [[0, 1, 2, 3, 4],[50, 60, 70, 80, 90]]\n",
    "print(x)\n",
    "\n",
    "y = np.average(x, axis=0, weights=[0.5, 0.5])\n",
    "print(y)"
   ]
  },
  {
   "cell_type": "markdown",
   "metadata": {},
   "source": [
    "# 動手做 --------------------------------------------"
   ]
  },
  {
   "cell_type": "markdown",
   "metadata": {},
   "source": [
    "#### 題目:  設計一個程式，進行資料的垂直加總\n",
    "\n",
    "* 範例:\n",
    "    * data:  [[1,2,3,4], [5,6,7,8], [9,10,11,12]]\n",
    "    * output:  [15 18 21 24]"
   ]
  },
  {
   "cell_type": "code",
   "execution_count": 150,
   "metadata": {},
   "outputs": [
    {
     "name": "stdout",
     "output_type": "stream",
     "text": [
      "[[ 1  2  3  4]\n",
      " [ 5  6  7  8]\n",
      " [ 9 10 11 12]]\n"
     ]
    }
   ],
   "source": [
    "import numpy as np\n",
    "\n",
    "data = np.array([[1,2,3,4], [5,6,7,8], [9,10,11,12]])\n",
    "print(data)"
   ]
  },
  {
   "cell_type": "code",
   "execution_count": 149,
   "metadata": {},
   "outputs": [
    {
     "name": "stdout",
     "output_type": "stream",
     "text": [
      "[[ 1  2  3  4]\n",
      " [ 5  6  7  8]\n",
      " [ 9 10 11 12]]\n",
      "[15 18 21 24]\n"
     ]
    }
   ],
   "source": [
    "import numpy as np\n",
    "\n",
    "data = np.array([[1,2,3,4], [5,6,7,8], [9,10,11,12]])\n",
    "data_sum = np.sum(data, axis = 0)\n",
    "\n",
    "print(data)\n",
    "print(data_sum)"
   ]
  },
  {
   "cell_type": "markdown",
   "metadata": {},
   "source": [
    "# -------------------------------------------------end"
   ]
  },
  {
   "cell_type": "markdown",
   "metadata": {},
   "source": [
    "# 動手做 --------------------------------------------"
   ]
  },
  {
   "cell_type": "markdown",
   "metadata": {},
   "source": [
    "#### 題目: 將資料分別乘上權重，得出average結果\n",
    "\n",
    "* 範例:\n",
    "    * data:  \n",
    "      * [[1,2,3,4], [5,6,7,8], [9,10,11,12]]\n",
    "      * weights = [0.5, 0.3, 0.2]\n",
    "    * output:  [3.8 4.8 5.8 6.8]"
   ]
  },
  {
   "cell_type": "code",
   "execution_count": 148,
   "metadata": {},
   "outputs": [
    {
     "name": "stdout",
     "output_type": "stream",
     "text": [
      "[3.8 4.8 5.8 6.8]\n"
     ]
    }
   ],
   "source": [
    "import numpy as np\n",
    "\n",
    "data = np.array([[1,2,3,4], [5,6,7,8], [9,10,11,12]])\n",
    "\n",
    "y = np.average(data, axis=0, weights=[0.5, 0.3, 0.2])\n",
    "print(y)"
   ]
  },
  {
   "cell_type": "markdown",
   "metadata": {},
   "source": [
    "# -------------------------------------------------end"
   ]
  },
  {
   "cell_type": "markdown",
   "metadata": {},
   "source": [
    "# 不同維度上的計算 axis"
   ]
  },
  {
   "cell_type": "code",
   "execution_count": 151,
   "metadata": {},
   "outputs": [
    {
     "name": "stdout",
     "output_type": "stream",
     "text": [
      "[[0 1 2 3 4]\n",
      " [5 6 7 8 9]]\n",
      "9\n"
     ]
    }
   ],
   "source": [
    "import numpy as np\n",
    "\n",
    "x = np.arange(0, 10).reshape(2, 5)\n",
    "print(x)\n",
    "\n",
    "y = np.max(x)\n",
    "print(y)"
   ]
  },
  {
   "cell_type": "code",
   "execution_count": 152,
   "metadata": {},
   "outputs": [
    {
     "name": "stdout",
     "output_type": "stream",
     "text": [
      "[[0 1 2 3 4]\n",
      " [5 6 7 8 9]]\n",
      "[5 6 7 8 9]\n"
     ]
    }
   ],
   "source": [
    "import numpy as np\n",
    "\n",
    "x = np.arange(0, 10).reshape(2, 5)\n",
    "print(x)\n",
    "\n",
    "y = np.max(x, axis=0)\n",
    "print(y)"
   ]
  },
  {
   "cell_type": "code",
   "execution_count": 153,
   "metadata": {},
   "outputs": [
    {
     "name": "stdout",
     "output_type": "stream",
     "text": [
      "[[4 6 2]\n",
      " [9 4 3]\n",
      " [3 9 7]]\n"
     ]
    }
   ],
   "source": [
    "import numpy as np\n",
    "\n",
    "x = np.random.randint(0, 10, size=(3,3))\n",
    "print(x)"
   ]
  },
  {
   "cell_type": "code",
   "execution_count": 154,
   "metadata": {},
   "outputs": [
    {
     "name": "stdout",
     "output_type": "stream",
     "text": [
      "[[4 8 7]\n",
      " [0 3 7]\n",
      " [0 9 4]]\n",
      "[1.69967317 2.86744176 3.68178701]\n"
     ]
    }
   ],
   "source": [
    "import numpy as np\n",
    "\n",
    "x = np.random.randint(0, 10, size=(3,3))\n",
    "print(x)\n",
    "\n",
    "y = np.std(x, axis=1)\n",
    "print(y)"
   ]
  },
  {
   "cell_type": "code",
   "execution_count": 156,
   "metadata": {},
   "outputs": [
    {
     "name": "stdout",
     "output_type": "stream",
     "text": [
      "[[4, 8, 7], [10, 50, 70], [100, 900, 400]]\n",
      "[  1.69967317  24.94438258 329.98316455]\n"
     ]
    }
   ],
   "source": [
    "import numpy as np\n",
    "\n",
    "x = [[4, 8, 7],[10, 50, 70],[100, 900, 400]]\n",
    "print(x)\n",
    "\n",
    "y = np.std(x, axis=1)\n",
    "print(y)"
   ]
  },
  {
   "cell_type": "markdown",
   "metadata": {},
   "source": [
    "# numpy基礎教學 part 2"
   ]
  },
  {
   "cell_type": "code",
   "execution_count": 157,
   "metadata": {},
   "outputs": [
    {
     "name": "stdout",
     "output_type": "stream",
     "text": [
      "[[9 0 4]\n",
      " [1 5 6]\n",
      " [2 8 1]]\n",
      "[12.66666667 10.88888889  4.22222222]\n"
     ]
    }
   ],
   "source": [
    "import numpy as np\n",
    "\n",
    "x = np.random.randint(0, 10, size=(3,3))\n",
    "print(x)\n",
    "\n",
    "y = np.var(x, axis=0)\n",
    "print(y)"
   ]
  },
  {
   "cell_type": "code",
   "execution_count": 160,
   "metadata": {},
   "outputs": [
    {
     "name": "stdout",
     "output_type": "stream",
     "text": [
      "[[4, 8, 7], [10, 30, 50], [100, 400, 900]]\n",
      "[  1928.          32338.66666667 169088.66666667]\n"
     ]
    }
   ],
   "source": [
    "import numpy as np\n",
    "\n",
    "x = [[4, 8, 7],[10, 30, 50],[100, 400, 900]]\n",
    "print(x)\n",
    "\n",
    "y = np.var(x, axis=0)\n",
    "print(y)"
   ]
  },
  {
   "cell_type": "code",
   "execution_count": 161,
   "metadata": {},
   "outputs": [
    {
     "name": "stdout",
     "output_type": "stream",
     "text": [
      "[[5 9 2]\n",
      " [1 3 6]\n",
      " [2 2 9]]\n",
      "[[1 2 2]\n",
      " [2 3 6]\n",
      " [5 9 9]]\n"
     ]
    }
   ],
   "source": [
    "import numpy as np\n",
    "\n",
    "x = np.random.randint(0, 10, size=(3,3))\n",
    "print(x)\n",
    "\n",
    "y = np.sort(x, axis=0)\n",
    "print(y)"
   ]
  },
  {
   "cell_type": "code",
   "execution_count": 163,
   "metadata": {},
   "outputs": [
    {
     "name": "stdout",
     "output_type": "stream",
     "text": [
      "[[4, 8, 7], [10, 50, 20], [100, 800, 300]]\n",
      "[[  4   7   8]\n",
      " [ 10  20  50]\n",
      " [100 300 800]]\n"
     ]
    }
   ],
   "source": [
    "import numpy as np\n",
    "\n",
    "x = [[4, 8, 7],[10, 50, 20],[100, 800, 300]]\n",
    "print(x)\n",
    "\n",
    "y = np.sort(x, axis=1)\n",
    "print(y)"
   ]
  },
  {
   "cell_type": "code",
   "execution_count": null,
   "metadata": {},
   "outputs": [],
   "source": []
  },
  {
   "cell_type": "markdown",
   "metadata": {},
   "source": [
    "# reshape改變陣列大小"
   ]
  },
  {
   "cell_type": "code",
   "execution_count": 164,
   "metadata": {},
   "outputs": [
    {
     "name": "stdout",
     "output_type": "stream",
     "text": [
      "[ 1  2  3  4  5  6  7  8  9 10]\n",
      "[[ 1  2  3  4  5]\n",
      " [ 6  7  8  9 10]]\n"
     ]
    }
   ],
   "source": [
    "import numpy as np\n",
    "\n",
    "x = np.arange(1, 11, 1)\n",
    "print(x)\n",
    "\n",
    "x.shape = 2,5\n",
    "print(x)"
   ]
  },
  {
   "cell_type": "code",
   "execution_count": 166,
   "metadata": {},
   "outputs": [
    {
     "name": "stdout",
     "output_type": "stream",
     "text": [
      "[ 1  2  3  4  5  6  7  8  9 10]\n",
      "[[ 1  2  3  4  5]\n",
      " [ 6  7  8  9 10]]\n"
     ]
    }
   ],
   "source": [
    "x = np.arange(1, 11, 1)\n",
    "print(x)\n",
    "\n",
    "x.shape = 2, -1\n",
    "print(x)"
   ]
  },
  {
   "cell_type": "code",
   "execution_count": 68,
   "metadata": {},
   "outputs": [
    {
     "name": "stdout",
     "output_type": "stream",
     "text": [
      "[ 1  2  3  4  5  6  7  8  9 10]\n",
      "[[ 1  2]\n",
      " [ 3  4]\n",
      " [ 5  6]\n",
      " [ 7  8]\n",
      " [ 9 10]]\n"
     ]
    }
   ],
   "source": [
    "x = np.arange(1, 11, 1)\n",
    "print(x)\n",
    "\n",
    "x.shape = 5, -1\n",
    "print(x)"
   ]
  },
  {
   "cell_type": "code",
   "execution_count": 71,
   "metadata": {},
   "outputs": [
    {
     "name": "stdout",
     "output_type": "stream",
     "text": [
      "[ 1  2  3  4  5  6  7  8  9 10]\n",
      "[[ 1  2]\n",
      " [ 3  4]\n",
      " [ 5  6]\n",
      " [ 7  8]\n",
      " [ 9 10]]\n",
      "[[ 1  2  3  4  5]\n",
      " [ 6  7  8  9 10]]\n"
     ]
    }
   ],
   "source": [
    "x = np.arange(1, 11, 1)\n",
    "print(x)\n",
    "\n",
    "x.shape = 5, -1\n",
    "print(x)\n",
    "\n",
    "a = x.reshape(2,5)\n",
    "print(a)"
   ]
  },
  {
   "cell_type": "markdown",
   "metadata": {},
   "source": [
    "# numpy切片操作"
   ]
  },
  {
   "cell_type": "code",
   "execution_count": 74,
   "metadata": {},
   "outputs": [
    {
     "name": "stdout",
     "output_type": "stream",
     "text": [
      "[0 1 2 3 4 5 6 7 8 9]\n"
     ]
    }
   ],
   "source": [
    "import numpy as np\n",
    "\n",
    "a = np.arange(10)\n",
    "print(a)"
   ]
  },
  {
   "cell_type": "code",
   "execution_count": 76,
   "metadata": {},
   "outputs": [
    {
     "name": "stdout",
     "output_type": "stream",
     "text": [
      "[1 2 3 4]\n",
      "[0 1 2 3 4]\n"
     ]
    }
   ],
   "source": [
    "a = np.arange(10)\n",
    "print(a[1:5])\n",
    "print(a[:5])"
   ]
  },
  {
   "cell_type": "code",
   "execution_count": 77,
   "metadata": {},
   "outputs": [
    {
     "name": "stdout",
     "output_type": "stream",
     "text": [
      "[9 8 7 6 5 4 3 2 1 0]\n",
      "[0 2 4 6 8]\n"
     ]
    }
   ],
   "source": [
    "a = np.arange(10)\n",
    "print(a[::-1])\n",
    "print(a[::2])"
   ]
  },
  {
   "cell_type": "markdown",
   "metadata": {},
   "source": [
    "# numpy切片操作 part 2"
   ]
  },
  {
   "cell_type": "code",
   "execution_count": 78,
   "metadata": {},
   "outputs": [
    {
     "name": "stdout",
     "output_type": "stream",
     "text": [
      "[[ 0  1  2  3  4]\n",
      " [ 5  6  7  8  9]\n",
      " [10 11 12 13 14]\n",
      " [15 16 17 18 19]\n",
      " [20 21 22 23 24]]\n"
     ]
    }
   ],
   "source": [
    "import numpy as np\n",
    "\n",
    "c = np.arange(25)\n",
    "c.shape = 5,5\n",
    "print(c)"
   ]
  },
  {
   "cell_type": "code",
   "execution_count": 183,
   "metadata": {},
   "outputs": [
    {
     "name": "stdout",
     "output_type": "stream",
     "text": [
      "[[ 0  1  2  3  4]\n",
      " [ 5  6  7  8  9]\n",
      " [10 11 12 13 14]\n",
      " [15 16 17 18 19]\n",
      " [20 21 22 23 24]]\n",
      "[0 1 2 3 4]\n",
      "2\n",
      "[2 3 4]\n"
     ]
    }
   ],
   "source": [
    "import numpy as np\n",
    "\n",
    "c = np.arange(25)\n",
    "c.shape = 5,5\n",
    "\n",
    "print(c)\n",
    "print(c[0])\n",
    "print(c[0, 2])\n",
    "print(c[0, 2:5])"
   ]
  },
  {
   "cell_type": "code",
   "execution_count": 184,
   "metadata": {},
   "outputs": [
    {
     "name": "stdout",
     "output_type": "stream",
     "text": [
      "[[ 0  1  2  3  4]\n",
      " [ 5  6  7  8  9]\n",
      " [10 11 12 13 14]\n",
      " [15 16 17 18 19]\n",
      " [20 21 22 23 24]]\n",
      "2\n"
     ]
    }
   ],
   "source": [
    "import numpy as np\n",
    "\n",
    "c = np.arange(25)\n",
    "c.shape = 5,5\n",
    "\n",
    "print(c)\n",
    "print(c[0][2])"
   ]
  },
  {
   "cell_type": "code",
   "execution_count": 185,
   "metadata": {},
   "outputs": [
    {
     "name": "stdout",
     "output_type": "stream",
     "text": [
      "[[ 0  1  2  3  4]\n",
      " [ 5  6  7  8  9]\n",
      " [10 11 12 13 14]\n",
      " [15 16 17 18 19]\n",
      " [20 21 22 23 24]]\n",
      "[[12 13 14]\n",
      " [17 18 19]\n",
      " [22 23 24]]\n"
     ]
    }
   ],
   "source": [
    "import numpy as np\n",
    "\n",
    "c = np.arange(25)\n",
    "c.shape = 5,5\n",
    "\n",
    "print(c)\n",
    "print(c[2:5, 2:5])"
   ]
  },
  {
   "cell_type": "code",
   "execution_count": 186,
   "metadata": {},
   "outputs": [
    {
     "name": "stdout",
     "output_type": "stream",
     "text": [
      "[[ 0  1  2  3  4]\n",
      " [ 5  6  7  8  9]\n",
      " [10 11 12 13 14]\n",
      " [15 16 17 18 19]\n",
      " [20 21 22 23 24]]\n",
      "[[ 7  8  9]\n",
      " [12 13 14]]\n"
     ]
    }
   ],
   "source": [
    "import numpy as np\n",
    "\n",
    "c = np.arange(25)\n",
    "c.shape = 5,5\n",
    "\n",
    "print(c)\n",
    "print(c[1:3, 2:5])"
   ]
  },
  {
   "cell_type": "markdown",
   "metadata": {},
   "source": [
    "# numpy切片操作 part 3"
   ]
  },
  {
   "cell_type": "code",
   "execution_count": 188,
   "metadata": {},
   "outputs": [
    {
     "name": "stdout",
     "output_type": "stream",
     "text": [
      "[[[ 0  1  2  3]\n",
      "  [ 4  5  6  7]\n",
      "  [ 8  9 10 11]]\n",
      "\n",
      " [[12 13 14 15]\n",
      "  [16 17 18 19]\n",
      "  [20 21 22 23]]]\n"
     ]
    }
   ],
   "source": [
    "import numpy as np\n",
    "\n",
    "arr = np.arange(24).reshape((2,3,4))\n",
    "print(arr)"
   ]
  },
  {
   "cell_type": "code",
   "execution_count": 189,
   "metadata": {},
   "outputs": [
    {
     "name": "stdout",
     "output_type": "stream",
     "text": [
      "[[[ 0  1  2  3]\n",
      "  [ 4  5  6  7]\n",
      "  [ 8  9 10 11]]\n",
      "\n",
      " [[12 13 14 15]\n",
      "  [16 17 18 19]\n",
      "  [20 21 22 23]]]\n",
      "[[ 1  5  9]\n",
      " [13 17 21]]\n"
     ]
    }
   ],
   "source": [
    "import numpy as np\n",
    "\n",
    "arr = np.arange(24).reshape((2,3,4))\n",
    "print(arr)\n",
    "\n",
    "print(arr[...,1])"
   ]
  },
  {
   "cell_type": "code",
   "execution_count": 190,
   "metadata": {},
   "outputs": [
    {
     "name": "stdout",
     "output_type": "stream",
     "text": [
      "[[[ 0  1  2  3]\n",
      "  [ 4  5  6  7]\n",
      "  [ 8  9 10 11]]\n",
      "\n",
      " [[12 13 14 15]\n",
      "  [16 17 18 19]\n",
      "  [20 21 22 23]]]\n",
      "[[ 1  5  9]\n",
      " [13 17 21]]\n"
     ]
    }
   ],
   "source": [
    "import numpy as np\n",
    "\n",
    "arr = np.arange(24).reshape((2,3,4))\n",
    "print(arr)\n",
    "\n",
    "print(arr[:,:,1])"
   ]
  },
  {
   "cell_type": "code",
   "execution_count": 191,
   "metadata": {},
   "outputs": [
    {
     "name": "stdout",
     "output_type": "stream",
     "text": [
      "[[[ 0  1  2  3]\n",
      "  [ 4  5  6  7]\n",
      "  [ 8  9 10 11]]\n",
      "\n",
      " [[12 13 14 15]\n",
      "  [16 17 18 19]\n",
      "  [20 21 22 23]]]\n",
      "[[12 13 14 15]\n",
      " [16 17 18 19]\n",
      " [20 21 22 23]]\n"
     ]
    }
   ],
   "source": [
    "import numpy as np\n",
    "\n",
    "arr = np.arange(24).reshape((2,3,4))\n",
    "print(arr)\n",
    "\n",
    "print(arr[1,...])"
   ]
  },
  {
   "cell_type": "markdown",
   "metadata": {},
   "source": [
    "# 動手做 --------------------------------------------------"
   ]
  },
  {
   "cell_type": "markdown",
   "metadata": {},
   "source": [
    "#### 題目: 計算並列出每月最高業績的數字\n",
    "*  。\n",
    "\n",
    "* 範例:\n",
    " * data: [[6000000, 8000000, 6000000],[2400000, 3600000, 5100000],[4200000, 6600000, 8000000],[5600000, 4000000, 6000000]]\n",
    "\n",
    "\n",
    " * output: [6000000 8000000 8000000]"
   ]
  },
  {
   "cell_type": "code",
   "execution_count": 176,
   "metadata": {},
   "outputs": [
    {
     "data": {
      "text/html": [
       "<div>\n",
       "<style scoped>\n",
       "    .dataframe tbody tr th:only-of-type {\n",
       "        vertical-align: middle;\n",
       "    }\n",
       "\n",
       "    .dataframe tbody tr th {\n",
       "        vertical-align: top;\n",
       "    }\n",
       "\n",
       "    .dataframe thead th {\n",
       "        text-align: right;\n",
       "    }\n",
       "</style>\n",
       "<table border=\"1\" class=\"dataframe\">\n",
       "  <thead>\n",
       "    <tr style=\"text-align: right;\">\n",
       "      <th></th>\n",
       "      <th>Name</th>\n",
       "      <th>May</th>\n",
       "      <th>June</th>\n",
       "      <th>July</th>\n",
       "    </tr>\n",
       "    <tr>\n",
       "      <th>ID</th>\n",
       "      <th></th>\n",
       "      <th></th>\n",
       "      <th></th>\n",
       "      <th></th>\n",
       "    </tr>\n",
       "  </thead>\n",
       "  <tbody>\n",
       "    <tr>\n",
       "      <th>10901</th>\n",
       "      <td>David</td>\n",
       "      <td>6000000</td>\n",
       "      <td>8000000</td>\n",
       "      <td>6000000</td>\n",
       "    </tr>\n",
       "    <tr>\n",
       "      <th>10902</th>\n",
       "      <td>Tommy</td>\n",
       "      <td>2400000</td>\n",
       "      <td>3600000</td>\n",
       "      <td>5100000</td>\n",
       "    </tr>\n",
       "    <tr>\n",
       "      <th>10903</th>\n",
       "      <td>Jack</td>\n",
       "      <td>4200000</td>\n",
       "      <td>6600000</td>\n",
       "      <td>8000000</td>\n",
       "    </tr>\n",
       "    <tr>\n",
       "      <th>10904</th>\n",
       "      <td>Jimmy</td>\n",
       "      <td>5600000</td>\n",
       "      <td>4000000</td>\n",
       "      <td>6000000</td>\n",
       "    </tr>\n",
       "  </tbody>\n",
       "</table>\n",
       "</div>"
      ],
      "text/plain": [
       "        Name      May     June     July\n",
       "ID                                     \n",
       "10901  David  6000000  8000000  6000000\n",
       "10902  Tommy  2400000  3600000  5100000\n",
       "10903   Jack  4200000  6600000  8000000\n",
       "10904  Jimmy  5600000  4000000  6000000"
      ]
     },
     "execution_count": 176,
     "metadata": {},
     "output_type": "execute_result"
    }
   ],
   "source": [
    "import pandas as pd\n",
    "\n",
    "pd.read_csv('sales_revenue.csv', index_col = 0) "
   ]
  },
  {
   "cell_type": "code",
   "execution_count": 180,
   "metadata": {},
   "outputs": [
    {
     "name": "stdout",
     "output_type": "stream",
     "text": [
      "[6000000 8000000 8000000]\n"
     ]
    }
   ],
   "source": [
    "import numpy as np\n",
    "\n",
    "x = [[6000000, 8000000, 6000000],[2400000, 3600000, 5100000],[4200000, 6600000, 8000000],[5600000, 4000000, 6000000]]\n",
    "\n",
    "y = np.sort(x, axis=0)\n",
    "\n",
    "print(y[3])"
   ]
  },
  {
   "cell_type": "markdown",
   "metadata": {},
   "source": [
    "# ------------------------------------------------------end"
   ]
  },
  {
   "cell_type": "code",
   "execution_count": null,
   "metadata": {},
   "outputs": [],
   "source": []
  },
  {
   "cell_type": "markdown",
   "metadata": {},
   "source": [
    "# numpy布林運算"
   ]
  },
  {
   "cell_type": "code",
   "execution_count": 87,
   "metadata": {},
   "outputs": [
    {
     "name": "stdout",
     "output_type": "stream",
     "text": [
      "[0.18170619 0.57403819 0.01340946 0.48863547 0.58916637 0.56010553\n",
      " 0.99920618 0.97507419 0.42298017 0.81768292]\n"
     ]
    }
   ],
   "source": [
    "import numpy as np\n",
    "\n",
    "x = np.random.rand(10)\n",
    "print(x)"
   ]
  },
  {
   "cell_type": "code",
   "execution_count": 90,
   "metadata": {},
   "outputs": [
    {
     "name": "stdout",
     "output_type": "stream",
     "text": [
      "[ True  True False False  True False False  True  True  True]\n"
     ]
    }
   ],
   "source": [
    "x = np.random.rand(10)\n",
    "\n",
    "y = x>0.5\n",
    "print(y)"
   ]
  },
  {
   "cell_type": "code",
   "execution_count": 91,
   "metadata": {},
   "outputs": [
    {
     "name": "stdout",
     "output_type": "stream",
     "text": [
      "[0.67370237 0.77051151 0.903011   0.51880229]\n"
     ]
    }
   ],
   "source": [
    "x = np.random.rand(10)\n",
    "\n",
    "y = x[x>0.5]\n",
    "print(y)"
   ]
  },
  {
   "cell_type": "code",
   "execution_count": 92,
   "metadata": {},
   "outputs": [
    {
     "name": "stdout",
     "output_type": "stream",
     "text": [
      "[False False  True]\n"
     ]
    }
   ],
   "source": [
    "a = np.array([1, 2, 3])\n",
    "b = np.array([3, 2, 1])\n",
    "\n",
    "print(a>b)"
   ]
  },
  {
   "cell_type": "code",
   "execution_count": 95,
   "metadata": {},
   "outputs": [
    {
     "name": "stdout",
     "output_type": "stream",
     "text": [
      "[3]\n"
     ]
    }
   ],
   "source": [
    "a = np.array([1, 2, 3])\n",
    "b = np.array([3, 2, 1])\n",
    "\n",
    "print(a[a>b])"
   ]
  },
  {
   "cell_type": "code",
   "execution_count": 96,
   "metadata": {},
   "outputs": [
    {
     "name": "stdout",
     "output_type": "stream",
     "text": [
      "[False  True False]\n",
      "[2]\n"
     ]
    }
   ],
   "source": [
    "a = np.array([1, 2, 3])\n",
    "b = np.array([3, 2, 1])\n",
    "\n",
    "print(a==b)\n",
    "print(a[a==b])"
   ]
  },
  {
   "cell_type": "markdown",
   "metadata": {},
   "source": [
    "# 只取小數"
   ]
  },
  {
   "cell_type": "code",
   "execution_count": 193,
   "metadata": {},
   "outputs": [
    {
     "name": "stdout",
     "output_type": "stream",
     "text": [
      "[45.20809719  6.39920871  7.60754313 21.37606392 33.19362871  9.44116815\n",
      " 19.65968257 25.03698968 39.98142216 28.52140442]\n",
      "---------------------------------\n",
      "[0.20809719 0.39920871 0.60754313 0.37606392 0.19362871 0.44116815\n",
      " 0.65968257 0.03698968 0.98142216 0.52140442]\n"
     ]
    }
   ],
   "source": [
    "x = np.random.rand(10)*50\n",
    "\n",
    "print(x)\n",
    "print('---------------------------------')\n",
    "\n",
    "y = np.array([t-int(t) for t in x])\n",
    "print(y)"
   ]
  },
  {
   "cell_type": "markdown",
   "metadata": {},
   "source": [
    "# Numpy.ndarray broadcasting"
   ]
  },
  {
   "cell_type": "code",
   "execution_count": 104,
   "metadata": {},
   "outputs": [
    {
     "name": "stdout",
     "output_type": "stream",
     "text": [
      "[[ 0  0  0]\n",
      " [10 10 10]\n",
      " [20 20 20]\n",
      " [30 30 30]]\n",
      "[[0 1 2]\n",
      " [0 1 2]\n",
      " [0 1 2]\n",
      " [0 1 2]]\n",
      "----------------\n",
      "[[ 0  1  2]\n",
      " [10 11 12]\n",
      " [20 21 22]\n",
      " [30 31 32]]\n"
     ]
    }
   ],
   "source": [
    "import numpy as np\n",
    "\n",
    "a = np.array([[0,0,0], [10,10,10], [20,20,20], [30,30,30]])\n",
    "b = np.array([[0,1,2], [0,1,2], [0,1,2], [0,1,2]])\n",
    "print(a)\n",
    "print(b)\n",
    "\n",
    "print('----------------')\n",
    "print(a+b)"
   ]
  },
  {
   "cell_type": "code",
   "execution_count": 105,
   "metadata": {},
   "outputs": [
    {
     "name": "stdout",
     "output_type": "stream",
     "text": [
      "[[ 0  0  0]\n",
      " [10 10 10]\n",
      " [20 20 20]\n",
      " [30 30 30]]\n",
      "[[0 1 2]]\n",
      "----------------\n",
      "[[ 0  1  2]\n",
      " [10 11 12]\n",
      " [20 21 22]\n",
      " [30 31 32]]\n"
     ]
    }
   ],
   "source": [
    "a = np.array([[0,0,0], [10,10,10], [20,20,20], [30,30,30]])\n",
    "b = np.array([[0,1,2]])\n",
    "print(a)\n",
    "print(b)\n",
    "\n",
    "print('----------------')\n",
    "print(a+b)"
   ]
  },
  {
   "cell_type": "code",
   "execution_count": 106,
   "metadata": {},
   "outputs": [
    {
     "name": "stdout",
     "output_type": "stream",
     "text": [
      "[[ 0]\n",
      " [10]\n",
      " [20]\n",
      " [30]]\n",
      "[[0 1 2]\n",
      " [0 1 2]\n",
      " [0 1 2]\n",
      " [0 1 2]]\n",
      "----------------\n",
      "[[ 0  1  2]\n",
      " [10 11 12]\n",
      " [20 21 22]\n",
      " [30 31 32]]\n"
     ]
    }
   ],
   "source": [
    "a = np.array([[0], [10], [20], [30]])\n",
    "b = np.array([[0,1,2], [0,1,2], [0,1,2], [0,1,2]])\n",
    "print(a)\n",
    "print(b)\n",
    "\n",
    "print('----------------')\n",
    "print(a+b)"
   ]
  },
  {
   "cell_type": "markdown",
   "metadata": {},
   "source": [
    "# ndarray broadcasting"
   ]
  },
  {
   "cell_type": "code",
   "execution_count": 194,
   "metadata": {},
   "outputs": [
    {
     "name": "stdout",
     "output_type": "stream",
     "text": [
      "[[ 0]\n",
      " [10]\n",
      " [20]\n",
      " [30]\n",
      " [40]\n",
      " [50]]\n",
      "[0 1 2 3 4 5]\n"
     ]
    }
   ],
   "source": [
    "import numpy as np\n",
    "\n",
    "a = np.arange(0, 60, 10).reshape(-1, 1)\n",
    "b = np.arange(0, 6)\n",
    "print(a)\n",
    "print(b)"
   ]
  },
  {
   "cell_type": "markdown",
   "metadata": {},
   "source": [
    "# ndarray broadcasting - part 2"
   ]
  },
  {
   "cell_type": "code",
   "execution_count": 109,
   "metadata": {},
   "outputs": [
    {
     "name": "stdout",
     "output_type": "stream",
     "text": [
      "[[ 0]\n",
      " [10]\n",
      " [20]\n",
      " [30]\n",
      " [40]\n",
      " [50]]\n",
      "[0 1 2 3 4 5]\n",
      "----------------\n",
      "[[ 0  1  2  3  4  5]\n",
      " [10 11 12 13 14 15]\n",
      " [20 21 22 23 24 25]\n",
      " [30 31 32 33 34 35]\n",
      " [40 41 42 43 44 45]\n",
      " [50 51 52 53 54 55]]\n"
     ]
    }
   ],
   "source": [
    "import numpy as np\n",
    "\n",
    "a = np.arange(0, 60, 10).reshape(-1, 1)\n",
    "b = np.arange(0, 6)\n",
    "print(a)\n",
    "print(b)\n",
    "\n",
    "print('----------------')\n",
    "print(a+b)"
   ]
  },
  {
   "cell_type": "code",
   "execution_count": 110,
   "metadata": {},
   "outputs": [
    {
     "name": "stdout",
     "output_type": "stream",
     "text": [
      "[[ 0]\n",
      " [10]\n",
      " [20]\n",
      " [30]\n",
      " [40]\n",
      " [50]]\n",
      "[0 1 2 3 4 5]\n",
      "----------------\n",
      "[[  0   0   0   0   0   0]\n",
      " [  0  10  20  30  40  50]\n",
      " [  0  20  40  60  80 100]\n",
      " [  0  30  60  90 120 150]\n",
      " [  0  40  80 120 160 200]\n",
      " [  0  50 100 150 200 250]]\n"
     ]
    }
   ],
   "source": [
    "import numpy as np\n",
    "\n",
    "a = np.arange(0, 60, 10).reshape(-1, 1)\n",
    "b = np.arange(0, 6)\n",
    "print(a)\n",
    "print(b)\n",
    "\n",
    "print('----------------')\n",
    "print(a*b)"
   ]
  },
  {
   "cell_type": "code",
   "execution_count": 115,
   "metadata": {},
   "outputs": [
    {
     "name": "stdout",
     "output_type": "stream",
     "text": [
      "[ 0 10 20 30 40 50]\n",
      "[0 1 2 3 4 5]\n",
      "----------------\n",
      "550\n"
     ]
    }
   ],
   "source": [
    "import numpy as np\n",
    "\n",
    "a = np.arange(0, 60, 10)\n",
    "b = np.arange(0, 6)\n",
    "print(a)\n",
    "print(b)\n",
    "\n",
    "print('----------------')\n",
    "print(np.dot(a,b))   "
   ]
  },
  {
   "cell_type": "code",
   "execution_count": 196,
   "metadata": {},
   "outputs": [
    {
     "name": "stdout",
     "output_type": "stream",
     "text": [
      "[[ 0]\n",
      " [10]\n",
      " [20]\n",
      " [30]\n",
      " [40]\n",
      " [50]]\n",
      "[0 1 2 3 4 5]\n",
      "[[0 1 2 3 4 5]]\n",
      "----------------\n",
      "[[  0   0   0   0   0   0]\n",
      " [  0  10  20  30  40  50]\n",
      " [  0  20  40  60  80 100]\n",
      " [  0  30  60  90 120 150]\n",
      " [  0  40  80 120 160 200]\n",
      " [  0  50 100 150 200 250]]\n"
     ]
    }
   ],
   "source": [
    "import numpy as np\n",
    "\n",
    "a = np.arange(0, 60, 10).reshape(-1, 1)\n",
    "b = np.arange(0, 6)\n",
    "print(a)\n",
    "print(b)\n",
    "\n",
    "b = b.reshape(1,6)\n",
    "print(b)\n",
    "print('----------------')\n",
    "print(np.dot(a,b))"
   ]
  },
  {
   "cell_type": "code",
   "execution_count": 195,
   "metadata": {},
   "outputs": [
    {
     "name": "stdout",
     "output_type": "stream",
     "text": [
      "[[ 0]\n",
      " [10]\n",
      " [20]\n",
      " [30]\n",
      " [40]\n",
      " [50]]\n",
      "[0 1 2 3 4 5]\n",
      "----------------\n"
     ]
    },
    {
     "ename": "ValueError",
     "evalue": "shapes (6,1) and (6,) not aligned: 1 (dim 1) != 6 (dim 0)",
     "output_type": "error",
     "traceback": [
      "\u001b[1;31m---------------------------------------------------------------------------\u001b[0m",
      "\u001b[1;31mValueError\u001b[0m                                Traceback (most recent call last)",
      "\u001b[1;32m<ipython-input-195-55ffe5346aac>\u001b[0m in \u001b[0;36m<module>\u001b[1;34m\u001b[0m\n\u001b[0;32m      5\u001b[0m \u001b[1;33m\u001b[0m\u001b[0m\n\u001b[0;32m      6\u001b[0m \u001b[0mprint\u001b[0m\u001b[1;33m(\u001b[0m\u001b[1;34m'----------------'\u001b[0m\u001b[1;33m)\u001b[0m\u001b[1;33m\u001b[0m\u001b[1;33m\u001b[0m\u001b[0m\n\u001b[1;32m----> 7\u001b[1;33m \u001b[0mprint\u001b[0m\u001b[1;33m(\u001b[0m\u001b[0mnp\u001b[0m\u001b[1;33m.\u001b[0m\u001b[0mdot\u001b[0m\u001b[1;33m(\u001b[0m\u001b[0ma\u001b[0m\u001b[1;33m,\u001b[0m\u001b[0mb\u001b[0m\u001b[1;33m)\u001b[0m\u001b[1;33m)\u001b[0m  \u001b[1;31m#ValueError: shapes (6,1) and (6,) not aligned: 1 (dim 1) != 6 (dim 0)\u001b[0m\u001b[1;33m\u001b[0m\u001b[1;33m\u001b[0m\u001b[0m\n\u001b[0m",
      "\u001b[1;32m<__array_function__ internals>\u001b[0m in \u001b[0;36mdot\u001b[1;34m(*args, **kwargs)\u001b[0m\n",
      "\u001b[1;31mValueError\u001b[0m: shapes (6,1) and (6,) not aligned: 1 (dim 1) != 6 (dim 0)"
     ]
    }
   ],
   "source": [
    "a = np.arange(0, 60, 10).reshape(-1, 1)\n",
    "b = np.arange(0, 6)\n",
    "print(a)\n",
    "print(b)\n",
    "\n",
    "print('----------------')\n",
    "print(np.dot(a,b))  #ValueError: shapes (6,1) and (6,) not aligned: 1 (dim 1) != 6 (dim 0)"
   ]
  },
  {
   "cell_type": "markdown",
   "metadata": {},
   "source": [
    "# numpy基礎教學"
   ]
  },
  {
   "cell_type": "code",
   "execution_count": 197,
   "metadata": {},
   "outputs": [
    {
     "name": "stdout",
     "output_type": "stream",
     "text": [
      "5\n",
      "[[0 5 8 3 9 6 9 1 7 4]]\n"
     ]
    }
   ],
   "source": [
    "import numpy as np\n",
    "\n",
    "x = np.random.randint(0, 10)\n",
    "print(x)\n",
    "\n",
    "y = np.random.randint(0, 10, size=(1,10))\n",
    "print(y)"
   ]
  },
  {
   "cell_type": "code",
   "execution_count": 198,
   "metadata": {},
   "outputs": [
    {
     "name": "stdout",
     "output_type": "stream",
     "text": [
      "[[8 0 3 5 8 1 5 7 7 5]]\n",
      "[[1 0 0 1 1 0 1 1 1 1]]\n"
     ]
    }
   ],
   "source": [
    "import numpy as np\n",
    "\n",
    "x = np.random.randint(0, 10, size=(1,10))\n",
    "print(x)\n",
    "\n",
    "print(np.where(x<5, 0, 1))   # 小於5的元素對應為0，其他元素對應為1"
   ]
  },
  {
   "cell_type": "code",
   "execution_count": 199,
   "metadata": {},
   "outputs": [
    {
     "name": "stdout",
     "output_type": "stream",
     "text": [
      "[[1 5 9 1 2 8 1 2 6 5]]\n",
      "[[ 2  0 27  2  4 24  2  4  0  0]]\n"
     ]
    }
   ],
   "source": [
    "x = np.random.randint(0, 10, size=(1,10))\n",
    "print(x)\n",
    "\n",
    "print(np.piecewise(x, [x<4, x>7], [lambda x: x*2, lambda x:x*3]))\n"
   ]
  },
  {
   "cell_type": "code",
   "execution_count": 200,
   "metadata": {},
   "outputs": [
    {
     "name": "stdout",
     "output_type": "stream",
     "text": [
      "[[5 2 6 5 7 2 8 3 5 4]]\n",
      "4\n"
     ]
    }
   ],
   "source": [
    "x = np.random.randint(0, 10, size=(1,10))\n",
    "print(x)\n",
    "\n",
    "y = np.count_nonzero(x < 5)  # 統計陣列中低於5的個數\n",
    "print(y)"
   ]
  },
  {
   "cell_type": "markdown",
   "metadata": {},
   "source": [
    "# 動手做 --------------------------------------------"
   ]
  },
  {
   "cell_type": "markdown",
   "metadata": {},
   "source": [
    "#### 題目:  將三個班級、各5位學生中成績低於60分的同學挑出，並註記需要ME (Make-up exam) \"補考\"。\n",
    "\n",
    "* 範例:\n",
    "    * data:  [78,66,45,33,80], [55,92,33,33,60], [34,76,67,76,90]\n",
    "    * output:  \n",
    "      * [['0' '0' 'ME' 'ME' '0']\n",
    "      * ['ME' '0' 'ME' 'ME' '0']\n",
    "      * ['ME' '0' '0' '0' '0']]\n",
    "      * 6"
   ]
  },
  {
   "cell_type": "markdown",
   "metadata": {},
   "source": [
    "|班級|A班|B班|C班|\n",
    "|---|---|---|---|\n",
    "|學號|1,2,3,4,5|6,7,8,9,10|11,12,13,14,15|\n",
    "|成績|78,66,45,33,80|55,92,33,33,60|34,76,67,76,90|"
   ]
  },
  {
   "cell_type": "code",
   "execution_count": 168,
   "metadata": {},
   "outputs": [
    {
     "name": "stdout",
     "output_type": "stream",
     "text": [
      "[[78 66 45 33 80]\n",
      " [55 92 33 33 60]\n",
      " [34 76 67 76 90]]\n"
     ]
    }
   ],
   "source": [
    "import numpy as np\n",
    "\n",
    "a = np.array([[78,66,45,33,80], [55,92,33,33,60], [34,76,67,76,90]])\n",
    "print(a)"
   ]
  },
  {
   "cell_type": "code",
   "execution_count": 200,
   "metadata": {},
   "outputs": [
    {
     "name": "stdout",
     "output_type": "stream",
     "text": [
      "[['0' '0' 'ME' 'ME' '0']\n",
      " ['ME' '0' 'ME' 'ME' '0']\n",
      " ['ME' '0' '0' '0' '0']]\n",
      "6\n"
     ]
    }
   ],
   "source": [
    "import numpy as np\n",
    "\n",
    "a = np.array([[78,66,45,33,80], [55,92,33,33,60], [34,76,67,76,90]])\n",
    "\n",
    "b = np.where(a<60, \"ME\", 0)  \n",
    "f = np.count_nonzero(a < 60)\n",
    "\n",
    "print(b)\n",
    "print(f)"
   ]
  },
  {
   "cell_type": "markdown",
   "metadata": {},
   "source": [
    "# -------------------------------------------------end"
   ]
  },
  {
   "cell_type": "markdown",
   "metadata": {},
   "source": [
    "# 動手做 --------------------------------------------"
   ]
  },
  {
   "cell_type": "markdown",
   "metadata": {},
   "source": [
    "#### 題目:  因為此次同學考試成績較低，因此老師將成績全部開根號x10計算\n",
    "\n",
    "* 範例:\n",
    "    * input:  [36,46,45,33,60], [55,42,33,56,70], [34,55,45,76,52]\n",
    "    * output:  \n",
    "      * [[ 60  67  67  57  77]\n",
    "      * [ 74  64  57  74 100]\n",
    "      * [ 58  74  67  87  72]]"
   ]
  },
  {
   "cell_type": "code",
   "execution_count": 177,
   "metadata": {},
   "outputs": [
    {
     "name": "stdout",
     "output_type": "stream",
     "text": [
      "[[ 60  67  67  57  77]\n",
      " [ 74  64  57  74 100]\n",
      " [ 58  74  67  87  72]]\n"
     ]
    }
   ],
   "source": [
    "import numpy as np\n",
    "\n",
    "a = np.array([[36,46,45,33,60], [55,42,33,56,100], [34,55,45,76,52]])\n",
    "\n",
    "b = np.piecewise(a, [a], [lambda a: (a ** 0.5)*10])\n",
    "\n",
    "print(b)"
   ]
  },
  {
   "cell_type": "markdown",
   "metadata": {},
   "source": [
    "# -------------------------------------------------end"
   ]
  },
  {
   "cell_type": "markdown",
   "metadata": {},
   "source": [
    "# numpy基礎教學 - 計算唯一值及出現次數"
   ]
  },
  {
   "cell_type": "code",
   "execution_count": 207,
   "metadata": {},
   "outputs": [
    {
     "name": "stdout",
     "output_type": "stream",
     "text": [
      "[2 4 6 3 6 2 2]\n",
      "[0 0 3 1 1 0 2]\n",
      "--------------------\n",
      "[0 1 2 3 4 5 6 7 8 9]\n"
     ]
    }
   ],
   "source": [
    "import numpy as np\n",
    "\n",
    "x = np.random.randint(0, 10, 7)\n",
    "print(x)\n",
    "\n",
    "y = np.bincount(x)  # 對應上位置的元素出現次數\n",
    "print(y)\n",
    "\n",
    "print('--------------------')\n",
    "print(np.arange(0,10))"
   ]
  },
  {
   "cell_type": "code",
   "execution_count": 209,
   "metadata": {},
   "outputs": [
    {
     "name": "stdout",
     "output_type": "stream",
     "text": [
      "[ 0 14  5  3 18 19 11]\n",
      "[1 0 0 1 0 1 0 0 0 0 0 1 0 0 1 0 0 0 1 1]\n",
      "--------------------\n",
      "[0 1 2 3 4 5 6 7 8 9] [10 11 12 13 14 15 16 17 18 19]\n"
     ]
    }
   ],
   "source": [
    "x = np.random.randint(0, 20, 7)\n",
    "print(x)\n",
    "\n",
    "y = np.bincount(x)  # 對應上位置的元素出現次數\n",
    "print(y)\n",
    "\n",
    "print('--------------------')\n",
    "print(np.arange(0,10), np.arange(10,20))"
   ]
  },
  {
   "cell_type": "code",
   "execution_count": null,
   "metadata": {},
   "outputs": [],
   "source": []
  },
  {
   "cell_type": "code",
   "execution_count": 135,
   "metadata": {},
   "outputs": [
    {
     "name": "stdout",
     "output_type": "stream",
     "text": [
      "[0 3 8 2 1 2 3]\n",
      "[1 1 2 2 0 0 0 0 1]\n",
      "7\n",
      "7\n"
     ]
    }
   ],
   "source": [
    "x = np.random.randint(0, 10, 7)\n",
    "print(x)\n",
    "\n",
    "y = np.bincount(x)  # 對應上位置的元素出現次數\n",
    "print(y)\n",
    "\n",
    "z = np.sum(y)\n",
    "print(z)"
   ]
  },
  {
   "cell_type": "code",
   "execution_count": 136,
   "metadata": {},
   "outputs": [
    {
     "name": "stdout",
     "output_type": "stream",
     "text": [
      "[2 3 5 4 3 9 2]\n",
      "7\n"
     ]
    }
   ],
   "source": [
    "x = np.random.randint(0, 10, 7)\n",
    "print(x)\n",
    "\n",
    "print(len(x))"
   ]
  },
  {
   "cell_type": "code",
   "execution_count": 137,
   "metadata": {},
   "outputs": [
    {
     "name": "stdout",
     "output_type": "stream",
     "text": [
      "[2 8 6 3 8 5 8]\n",
      "[2 3 5 6 8]\n"
     ]
    }
   ],
   "source": [
    "import numpy as np\n",
    "\n",
    "x = np.random.randint(0, 10, 7)\n",
    "print(x)\n",
    "\n",
    "a = np.unique(x)  # 返回陣列中唯一(不重複)元素值\n",
    "print(a)"
   ]
  },
  {
   "cell_type": "markdown",
   "metadata": {},
   "source": [
    "# numpy.matrix - 矩陣運算"
   ]
  },
  {
   "cell_type": "code",
   "execution_count": 139,
   "metadata": {},
   "outputs": [
    {
     "name": "stdout",
     "output_type": "stream",
     "text": [
      "[[3 5 7]]\n"
     ]
    }
   ],
   "source": [
    "import numpy as np\n",
    "\n",
    "a_list = [3, 5, 7]\n",
    "a_mat = np.matrix(a_list)\n",
    "\n",
    "print(a_mat)"
   ]
  },
  {
   "cell_type": "code",
   "execution_count": 210,
   "metadata": {},
   "outputs": [
    {
     "name": "stdout",
     "output_type": "stream",
     "text": [
      "[[3 5 7]]\n",
      "[[3]\n",
      " [5]\n",
      " [7]]\n"
     ]
    }
   ],
   "source": [
    "a_list = [3, 5, 7]\n",
    "a_mat = np.matrix(a_list)\n",
    "\n",
    "print(a_mat)\n",
    "\n",
    "b = a_mat.T\n",
    "print(b)"
   ]
  },
  {
   "cell_type": "code",
   "execution_count": 211,
   "metadata": {},
   "outputs": [
    {
     "name": "stdout",
     "output_type": "stream",
     "text": [
      "[[3 5 7]]\n",
      "(1, 3)\n",
      "3\n"
     ]
    }
   ],
   "source": [
    "a_list = [3, 5, 7]\n",
    "a_mat = np.matrix(a_list)\n",
    "\n",
    "print(a_mat)\n",
    "\n",
    "print(a_mat.shape)\n",
    "print(a_mat.size)"
   ]
  },
  {
   "cell_type": "markdown",
   "metadata": {},
   "source": [
    "# numpy.matrix - part 2"
   ]
  },
  {
   "cell_type": "code",
   "execution_count": 212,
   "metadata": {},
   "outputs": [
    {
     "data": {
      "text/plain": [
       "matrix([[1, 2, 3]])"
      ]
     },
     "execution_count": 212,
     "metadata": {},
     "output_type": "execute_result"
    }
   ],
   "source": [
    "import numpy as np\n",
    "\n",
    "b_mat = np.matrix((1, 2, 3))\n",
    "b_mat"
   ]
  },
  {
   "cell_type": "code",
   "execution_count": 213,
   "metadata": {},
   "outputs": [
    {
     "data": {
      "text/plain": [
       "matrix([[34]])"
      ]
     },
     "execution_count": 213,
     "metadata": {},
     "output_type": "execute_result"
    }
   ],
   "source": [
    "a_list = [3, 5, 7]\n",
    "a_mat = np.matrix(a_list)\n",
    "\n",
    "b_mat = np.matrix((1, 2, 3))\n",
    "a_mat * b_mat.T"
   ]
  },
  {
   "cell_type": "code",
   "execution_count": 144,
   "metadata": {},
   "outputs": [
    {
     "name": "stdout",
     "output_type": "stream",
     "text": [
      "5.0\n",
      "15\n",
      "7\n"
     ]
    }
   ],
   "source": [
    "a_list = [3, 5, 7]\n",
    "a_mat = np.matrix(a_list)\n",
    "\n",
    "print(a_mat.mean())\n",
    "print(a_mat.sum())\n",
    "print(a_mat.max())"
   ]
  },
  {
   "cell_type": "markdown",
   "metadata": {},
   "source": [
    "# numpy.matrix - part 3"
   ]
  },
  {
   "cell_type": "code",
   "execution_count": 145,
   "metadata": {},
   "outputs": [
    {
     "data": {
      "text/plain": [
       "matrix([[1, 5, 3],\n",
       "        [2, 9, 6]])"
      ]
     },
     "execution_count": 145,
     "metadata": {},
     "output_type": "execute_result"
    }
   ],
   "source": [
    "import numpy as np\n",
    "\n",
    "c_mat = np.matrix([[1, 5, 3], [2, 9, 6]])\n",
    "c_mat"
   ]
  },
  {
   "cell_type": "code",
   "execution_count": 146,
   "metadata": {},
   "outputs": [
    {
     "data": {
      "text/plain": [
       "matrix([[0, 0, 0],\n",
       "        [1, 1, 1]], dtype=int64)"
      ]
     },
     "execution_count": 146,
     "metadata": {},
     "output_type": "execute_result"
    }
   ],
   "source": [
    "c_mat = np.matrix([[1, 5, 3], [2, 9, 6]])\n",
    "c_mat.argsort(axis=0)"
   ]
  },
  {
   "cell_type": "code",
   "execution_count": 147,
   "metadata": {},
   "outputs": [
    {
     "data": {
      "text/plain": [
       "matrix([[0, 2, 1],\n",
       "        [0, 2, 1]], dtype=int64)"
      ]
     },
     "execution_count": 147,
     "metadata": {},
     "output_type": "execute_result"
    }
   ],
   "source": [
    "c_mat = np.matrix([[1, 5, 3], [2, 9, 6]])\n",
    "c_mat.argsort(axis=1)"
   ]
  },
  {
   "cell_type": "code",
   "execution_count": 153,
   "metadata": {},
   "outputs": [
    {
     "name": "stdout",
     "output_type": "stream",
     "text": [
      "[[1 2 3]\n",
      " [4 5 6]\n",
      " [7 8 9]]\n",
      "[[1 5 9]]\n"
     ]
    }
   ],
   "source": [
    "d_mat = np.matrix([[1, 2, 3], [4, 5, 6], [7, 8, 9]])\n",
    "print(d_mat)\n",
    "\n",
    "z = d_mat.diagonal()  # 取對角線的值\n",
    "print(z)"
   ]
  },
  {
   "cell_type": "code",
   "execution_count": 154,
   "metadata": {},
   "outputs": [
    {
     "name": "stdout",
     "output_type": "stream",
     "text": [
      "[[1 2 3]\n",
      " [4 5 6]\n",
      " [7 8 9]]\n",
      "[[1 2 3 4 5 6 7 8 9]]\n"
     ]
    }
   ],
   "source": [
    "d_mat = np.matrix([[1, 2, 3], [4, 5, 6], [7, 8, 9]])\n",
    "print(d_mat)\n",
    "\n",
    "z = d_mat.flatten()  # 矩陣平鋪\n",
    "print(z)"
   ]
  },
  {
   "cell_type": "code",
   "execution_count": null,
   "metadata": {},
   "outputs": [],
   "source": []
  },
  {
   "cell_type": "code",
   "execution_count": null,
   "metadata": {},
   "outputs": [],
   "source": []
  },
  {
   "cell_type": "code",
   "execution_count": null,
   "metadata": {},
   "outputs": [],
   "source": []
  },
  {
   "cell_type": "code",
   "execution_count": null,
   "metadata": {},
   "outputs": [],
   "source": []
  },
  {
   "cell_type": "code",
   "execution_count": 155,
   "metadata": {},
   "outputs": [
    {
     "name": "stdout",
     "output_type": "stream",
     "text": [
      "[[0.9272572  0.92565718 0.60247977 0.14281095]\n",
      " [0.36874343 0.09212234 0.48150337 0.63641202]\n",
      " [0.23521494 0.26462312 0.81087745 0.6845374 ]\n",
      " [0.35974436 0.14410993 0.78447679 0.67025202]\n",
      " [0.68709116 0.53891244 0.23302036 0.11362437]]\n"
     ]
    }
   ],
   "source": [
    "import numpy as np\n",
    "\n",
    "data_Random = np.random.rand(5,4)  #rand函式根據給定維度生成[0,1)之間的資料，包含0，不包含1\n",
    "\n",
    "print(data_Random)"
   ]
  },
  {
   "cell_type": "code",
   "execution_count": 156,
   "metadata": {},
   "outputs": [
    {
     "name": "stdout",
     "output_type": "stream",
     "text": [
      "[[9 1 7 4]\n",
      " [6 3 4 2]\n",
      " [4 5 9 2]\n",
      " [8 7 3 1]\n",
      " [9 6 9 5]]\n"
     ]
    }
   ],
   "source": [
    "import numpy as np\n",
    "\n",
    "data_Random = np.random.randint(1, high=10, size=(5,4))\n",
    "\n",
    "print(data_Random)"
   ]
  },
  {
   "cell_type": "code",
   "execution_count": 157,
   "metadata": {},
   "outputs": [
    {
     "name": "stdout",
     "output_type": "stream",
     "text": [
      "[30 29 18 17]\n"
     ]
    }
   ],
   "source": [
    "import numpy as np\n",
    "\n",
    "data_Random = np.random.randint(1, high=10, size=(5,4))\n",
    "data_sum = np.sum(data_Random, axis = 0)\n",
    "\n",
    "print(data_sum)"
   ]
  },
  {
   "cell_type": "markdown",
   "metadata": {},
   "source": [
    "# -------------------------------------------------end"
   ]
  },
  {
   "cell_type": "markdown",
   "metadata": {},
   "source": [
    "# 動手做 -----------------------------------------"
   ]
  },
  {
   "cell_type": "markdown",
   "metadata": {},
   "source": [
    "#### 題目:  將三個班級，進行各班級同學的成績排名\n",
    "\n",
    "* 範例:\n",
    "    * data:  [78,66,45,33,80], [55,92,33,33,60], [34,76,67,76,90]\n",
    "    * output:  \n",
    "      * A班排名 = [[4 3 2 1 5]]\n",
    "      * B班排名 = [[3 4 1 5 2]]\n",
    "      * C班排名 = [[1 3 2 4 5]]"
   ]
  },
  {
   "cell_type": "code",
   "execution_count": 214,
   "metadata": {},
   "outputs": [
    {
     "name": "stdout",
     "output_type": "stream",
     "text": [
      "A班排名 = [[4 3 2 1 5]]\n",
      "B班排名 = [[3 4 1 5 2]]\n",
      "C班排名 = [[1 3 2 4 5]]\n"
     ]
    }
   ],
   "source": [
    "import numpy as np\n",
    "\n",
    "a = np.matrix([[78,66,45,33,80], [55,92,33,33,60], [34,76,67,76,90]])\n",
    "b1 = a[0].argsort(axis=1)\n",
    "b2 = a[1].argsort(axis=1)\n",
    "b3 = a[2].argsort(axis=1)\n",
    "\n",
    "print('A班排名 =', b1+1)\n",
    "print('B班排名 =', b2+1)\n",
    "print('C班排名 =', b3+1)"
   ]
  },
  {
   "cell_type": "markdown",
   "metadata": {},
   "source": [
    "# -------------------------------------------------end"
   ]
  },
  {
   "cell_type": "markdown",
   "metadata": {},
   "source": [
    "# 動手做 -----------------------------------------"
   ]
  },
  {
   "cell_type": "markdown",
   "metadata": {},
   "source": [
    "#### 題目:  將同學的成績排名\n",
    "\n",
    "* 範例:\n",
    "    * data:  [(\"Mike\", 60),(\"Jack\", 80),(\"David\", 57), (\"Tommy\", 92)]\n",
    "    * output:  \n",
    "      * 學生成績： [(b'Mike', 60) (b'Jack', 80) (b'David', 57) (b'Tommy', 92)]\n",
    "      * 按成績排序： [(b'David', 57) (b'Mike', 60) (b'Jack', 80) (b'Tommy', 92)]"
   ]
  },
  {
   "cell_type": "code",
   "execution_count": 214,
   "metadata": {},
   "outputs": [
    {
     "name": "stdout",
     "output_type": "stream",
     "text": [
      "學生成績： [(b'Mike', 60) (b'Jack', 80) (b'David', 57) (b'Tommy', 92)]\n",
      "按成績排序： [(b'David', 57) (b'Mike', 60) (b'Jack', 80) (b'Tommy', 92)]\n"
     ]
    }
   ],
   "source": [
    "import numpy as np\n",
    "\n",
    "dt = np.dtype([('name', 'S10'),('score', int)]) \n",
    "a = np.array([(\"Mike\", 60),(\"Jack\", 80),(\"David\", 57), (\"Tommy\", 92)], dtype = dt) \n",
    "\n",
    "c = np.sort(a, order = 'score')\n",
    "\n",
    "print ('學生成績：', a) \n",
    "print ('按成績排序：', c) "
   ]
  },
  {
   "cell_type": "code",
   "execution_count": 216,
   "metadata": {},
   "outputs": [
    {
     "name": "stdout",
     "output_type": "stream",
     "text": [
      "學生成績： [(b'Mike', 60) (b'Jack', 80) (b'David', 57) (b'Tommy', 92)]\n",
      "\n",
      "\n",
      "按 name 排序：\n",
      "[(b'David', 57) (b'Mike', 60) (b'Jack', 80) (b'Tommy', 92)]\n"
     ]
    }
   ],
   "source": [
    "import numpy as np\n",
    "\n",
    "dt = np.dtype([('name', 'S10'),('score', int)]) \n",
    "a = np.array([(\"Mike\", 60),(\"Jack\", 80),(\"David\", 57), (\"Tommy\", 92)], dtype = dt) \n",
    "\n",
    "print ('學生成績：', a) \n",
    "print ('\\n') \n",
    "print ('按 name 排序：') \n",
    "print (np.sort(a, order = 'score'))"
   ]
  },
  {
   "cell_type": "markdown",
   "metadata": {},
   "source": [
    "# -------------------------------------------------end"
   ]
  },
  {
   "cell_type": "code",
   "execution_count": null,
   "metadata": {},
   "outputs": [],
   "source": []
  },
  {
   "cell_type": "code",
   "execution_count": 215,
   "metadata": {},
   "outputs": [
    {
     "name": "stdout",
     "output_type": "stream",
     "text": [
      "[2 0 4 6 5 3 1]\n"
     ]
    },
    {
     "data": {
      "text/plain": [
       "[(1, 0), (1, 9), (3, 0), (4, 1), (4, 2), (4, 4), (5, 4)]"
      ]
     },
     "execution_count": 215,
     "metadata": {},
     "output_type": "execute_result"
    }
   ],
   "source": [
    "a = [1,5,1,4,3,4,4] # First column\n",
    "b = [9,4,0,4,0,2,1] # Second column\n",
    "ind = np.lexsort((b,a)) # Sort by a, then by b\n",
    "print(ind)\n",
    " \n",
    "[(a[i],b[i]) for i in ind]\n"
   ]
  },
  {
   "cell_type": "code",
   "execution_count": 222,
   "metadata": {},
   "outputs": [
    {
     "data": {
      "text/plain": [
       "array([1, 2, 0], dtype=int64)"
      ]
     },
     "execution_count": 222,
     "metadata": {},
     "output_type": "execute_result"
    }
   ],
   "source": [
    "surnames =    ('H', 'A', 'B')\n",
    "first_names = ('80', '58', '70')\n",
    "ind = np.lexsort((first_names, surnames))\n",
    "ind"
   ]
  },
  {
   "cell_type": "code",
   "execution_count": 223,
   "metadata": {},
   "outputs": [
    {
     "data": {
      "text/plain": [
       "['A, 58', 'B, 70', 'H, 80']"
      ]
     },
     "execution_count": 223,
     "metadata": {},
     "output_type": "execute_result"
    }
   ],
   "source": [
    "[surnames[i] + \", \" + first_names[i] for i in ind]\n"
   ]
  },
  {
   "cell_type": "markdown",
   "metadata": {},
   "source": [
    "# 動手做 -------------------------------------------------"
   ]
  },
  {
   "cell_type": "markdown",
   "metadata": {},
   "source": [
    "#### 題目:  利用numpy模組以範圍1~50的隨機亂數產生一個3x4的矩陣、和一個4x5的矩陣，並實作以下需求:\n",
    "* 顯示矩陣1和矩陣2\n",
    "* 輸出矩陣1每一列的最大值\n",
    "* 輸出矩陣1第二列小於30的個數\n",
    "* 輸出矩陣2每一欄的最大值\n",
    "* 輸出矩陣1第二欄小於30的個數\n",
    "* 輸出矩陣1和矩陣2相乘(dot)的結果"
   ]
  },
  {
   "cell_type": "code",
   "execution_count": 217,
   "metadata": {},
   "outputs": [
    {
     "name": "stdout",
     "output_type": "stream",
     "text": [
      "matrix1: \n",
      "[[10 40 31  2]\n",
      " [25  7 18  9]\n",
      " [13  8 29 48]]\n",
      "matrix1: \n",
      "[[16 41 16  4  7]\n",
      " [11 35 18 15  2]\n",
      " [21 30 29 12 19]\n",
      " [16 26  2 19 44]]\n",
      "matrix1每一列的最大值: \n",
      "[40 25 48]\n",
      "matrix1第二列小於30的個數: \n",
      "3\n",
      "matrix2每一欄的最大值: \n",
      "[21 41 29 19 44]\n",
      "matrix2第二欄小於30的個數: \n",
      "2\n",
      "matrix1和matrix2相乘的結果: \n",
      "[[1283 2792 1783 1050  827]\n",
      " [ 999 2044 1066  592  927]\n",
      " [1673 2931 1289 1432 2770]]\n"
     ]
    }
   ],
   "source": [
    "import numpy as np\n",
    "\n",
    "matrix1 = np.random.randint(1, 51, 12).reshape(3, 4)\n",
    "matrix2 = np.random.randint(1, 51, 20).reshape(4, 5)\n",
    "\n",
    "# 顯示矩陣1和矩陣2\n",
    "print('matrix1: \\n%s'% matrix1)\n",
    "print('matrix1: \\n%s'% matrix2)\n",
    "\n",
    "# 輸出矩陣1每一列的最大值\n",
    "print('matrix1每一列的最大值: \\n%s'% np.amax(matrix1, axis=1))\n",
    "\n",
    "# 輸出矩陣1第二列小於30的個數\n",
    "print('matrix1第二列小於30的個數: \\n%s'% np.sum(matrix1[2, :] <30))\n",
    "\n",
    "# 輸出矩陣2每一欄的最大值\n",
    "print('matrix2每一欄的最大值: \\n%s'% np.amax(matrix2, axis=0))\n",
    "\n",
    "# 輸出矩陣1第二欄小於30的個數\n",
    "print('matrix2第二欄小於30的個數: \\n%s'% np.sum(matrix1[:, 2] <30))\n",
    "\n",
    "# 輸出矩陣1和矩陣2相乘的結果\n",
    "print('matrix1和matrix2相乘的結果: \\n%s'% np.dot(matrix1, matrix2))\n"
   ]
  },
  {
   "cell_type": "markdown",
   "metadata": {},
   "source": [
    "# ------------------------------------------------------end"
   ]
  },
  {
   "cell_type": "code",
   "execution_count": null,
   "metadata": {},
   "outputs": [],
   "source": []
  },
  {
   "cell_type": "code",
   "execution_count": null,
   "metadata": {},
   "outputs": [],
   "source": []
  },
  {
   "cell_type": "code",
   "execution_count": null,
   "metadata": {},
   "outputs": [],
   "source": []
  },
  {
   "cell_type": "code",
   "execution_count": null,
   "metadata": {},
   "outputs": [],
   "source": []
  },
  {
   "cell_type": "code",
   "execution_count": null,
   "metadata": {},
   "outputs": [],
   "source": []
  },
  {
   "cell_type": "code",
   "execution_count": null,
   "metadata": {},
   "outputs": [],
   "source": []
  },
  {
   "cell_type": "code",
   "execution_count": null,
   "metadata": {},
   "outputs": [],
   "source": []
  }
 ],
 "metadata": {
  "kernelspec": {
   "display_name": "Python 3",
   "language": "python",
   "name": "python3"
  },
  "language_info": {
   "codemirror_mode": {
    "name": "ipython",
    "version": 3
   },
   "file_extension": ".py",
   "mimetype": "text/x-python",
   "name": "python",
   "nbconvert_exporter": "python",
   "pygments_lexer": "ipython3",
   "version": "3.8.3"
  }
 },
 "nbformat": 4,
 "nbformat_minor": 4
}
